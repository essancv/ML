{
 "cells": [
  {
   "cell_type": "code",
   "execution_count": 13,
   "metadata": {},
   "outputs": [],
   "source": [
    "import numpy as np\n",
    "import sys\n",
    "sys.path.append ('../src')\n",
    "from NeuralNetwork_v2 import SigmoidF,ReluF,TanhF,LReluF,Activation_V2,Linear,Layer,NNClassifier_V2,SoftmaxF, BinaryCrossEntropy, CategoricalCrossEntropy\n",
    "# Load the dataset\n",
    "import numpy as np\n",
    "import h5py\n",
    "import sys\n",
    "sys.path.append ('../src')\n",
    "train_dataset = h5py.File ('Data/train_catvnoncat.h5','r')\n",
    "X_train_orig = np.array (train_dataset['train_set_x'][:])\n",
    "Y_train_orig = np.array (train_dataset['train_set_y'][:])\n",
    "test_dataset = h5py.File ('Data/test_catvnoncat.h5','r')\n",
    "X_test_orig = np.array (test_dataset['test_set_x'][:])\n",
    "Y_test_orig = np.array (test_dataset['test_set_y'][:])\n",
    "\n",
    "X_train = X_train_orig.reshape (X_train_orig.shape[0],-1) / 255\n",
    "Y_train = np.array (Y_train_orig).reshape (Y_train_orig.shape[0],1)\n",
    "X_test = X_test_orig.reshape (X_test_orig.shape[0],-1) / 255\n",
    "Y_test = np.array (Y_test_orig).reshape (Y_test_orig.shape[0],1)\n",
    "\n",
    "X_train = X_train.T\n",
    "Y_train = Y_train.T\n",
    "X_test = X_test.T\n",
    "Y_test = Y_test.T\n"
   ]
  },
  {
   "cell_type": "code",
   "execution_count": 14,
   "metadata": {},
   "outputs": [
    {
     "name": "stdout",
     "output_type": "stream",
     "text": [
      "(12288, 209)\n"
     ]
    }
   ],
   "source": [
    "print (X_train.shape)"
   ]
  },
  {
   "cell_type": "code",
   "execution_count": 15,
   "metadata": {},
   "outputs": [],
   "source": [
    "activation = Activation_V2 (function=LReluF)"
   ]
  },
  {
   "cell_type": "code",
   "execution_count": 16,
   "metadata": {},
   "outputs": [],
   "source": [
    "pred = activation.forward (np.array([0,2,-0.5]))"
   ]
  },
  {
   "cell_type": "code",
   "execution_count": 17,
   "metadata": {},
   "outputs": [],
   "source": [
    "dZ = activation.backward(pred)"
   ]
  },
  {
   "cell_type": "code",
   "execution_count": 18,
   "metadata": {},
   "outputs": [
    {
     "name": "stdout",
     "output_type": "stream",
     "text": [
      "(1, 2)\n"
     ]
    }
   ],
   "source": [
    "np.random.seed(2)\n",
    "\n",
    "dA = np.random.randn(1,2)\n",
    "A = np.random.randn(3,2)\n",
    "W = np.random.randn(1,3)\n",
    "b = np.random.randn(1,1)\n",
    "Z = np.random.randn(1,2)\n",
    "\n",
    "linear = Linear (1,3)\n",
    "Zolv = linear.forward (A,W,b)\n",
    "print (Zolv.shape)\n",
    "activation = Activation_V2 (function=SigmoidF)\n",
    "A = activation.forward (Z)\n",
    "dZ = activation.backward (dA)\n",
    "dA_prev,dW,db = linear.backward (dZ)\n",
    "np.testing.assert_array_almost_equal(dA_prev, [[0.11018,  0.01105], [ 0.09467,  0.00949], [-0.05743, -0.00576]], decimal=5)\n",
    "np.testing.assert_approx_equal(db, -0.057296, significant=5)\n",
    "np.testing.assert_array_almost_equal(dW, [[ 0.10267,  0.09778, -0.01968]] , decimal=5)\n",
    "\n",
    "activation = Activation_V2 (function=ReluF)\n",
    "A = activation.forward (Z)\n",
    "dZ = activation.backward (dA)\n",
    "dA_prev,dW,db = linear.backward (dZ)\n",
    "np.testing.assert_array_almost_equal(dA_prev, [[ 0.4409,  0.], [ 0.37884,  0. ], [-0.22982, 0. ]] , decimal=5)\n",
    "np.testing.assert_array_almost_equal(dW, [[ 0.44514,  0.37371, -0.10479]] , decimal=5)\n",
    "np.testing.assert_approx_equal(db, -0.20838, significant=5)"
   ]
  },
  {
   "cell_type": "code",
   "execution_count": 19,
   "metadata": {},
   "outputs": [],
   "source": [
    "np.random.seed(2)\n",
    "\n",
    "dA = np.random.randn(1,2)\n",
    "A = np.random.randn(3,2)\n",
    "W = np.random.randn(1,3)\n",
    "b = np.random.randn(1,1)\n",
    "Z = np.random.randn(1,2)\n",
    "\n",
    "layer = Layer (1,3,activationF=SigmoidF)\n",
    "layer.W = W\n",
    "layer.b = b\n",
    "pred = layer.forward (A)\n",
    "dA_prev,dW,db= layer.backward (dA)"
   ]
  },
  {
   "cell_type": "code",
   "execution_count": 20,
   "metadata": {},
   "outputs": [],
   "source": [
    "layer1 = Layer (4,5,activationF=ReluF)\n",
    "layer2 = Layer (3,4,activationF=ReluF)\n",
    "layer3 = Layer (1,3,activationF=SigmoidF)\n",
    "\n",
    "np.random.seed(6)\n",
    "X = np.random.randn(5,4)\n",
    "W1 = np.random.randn(4,5)\n",
    "b1 = np.random.randn(4,1)\n",
    "W2 = np.random.randn(3,4)\n",
    "b2 = np.random.randn(3,1)\n",
    "W3 = np.random.randn(1,3)\n",
    "b3 = np.random.randn(1,1)\n",
    "\n",
    "layer1.W = W1\n",
    "layer1.b = b1\n",
    "layer2.W = W2\n",
    "layer2.b = b2\n",
    "layer3.W = W3\n",
    "layer3.b = b3\n",
    "\n",
    "A1 = layer1.forward (X)\n",
    "A2 = layer2.forward (A1)\n",
    "A3 = layer3.forward (A2)\n",
    "\n",
    "np.testing.assert_array_almost_equal(A3, [[0.03922,  0.704989,  0.19734,  0.04728]], decimal=5)\n"
   ]
  },
  {
   "cell_type": "code",
   "execution_count": 21,
   "metadata": {},
   "outputs": [
    {
     "name": "stdout",
     "output_type": "stream",
     "text": [
      "[[0.4149316]]\n"
     ]
    }
   ],
   "source": [
    "layer1 = Layer (4,5,activationF=ReluF)\n",
    "layer2 = Layer (3,4,activationF=ReluF)\n",
    "layer3 = Layer (1,3,activationF=SigmoidF)\n",
    "layers = [layer1,layer2,layer3]\n",
    "y = np.asarray([[1, 1, 1]])\n",
    "al = np.array([[.8,.9,0.4]])\n",
    "nn = NNClassifier_V2 (layers)\n",
    "cost = nn.costFunction (y.T,al.T)\n",
    "np.testing.assert_approx_equal(cost, 0.41493, significant=5)\n",
    "print (cost)"
   ]
  },
  {
   "cell_type": "code",
   "execution_count": 22,
   "metadata": {},
   "outputs": [
    {
     "name": "stdout",
     "output_type": "stream",
     "text": [
      "dict_keys(['A', 'W', 'b'])\n",
      "dict_keys(['Z'])\n",
      "dict_keys(['A', 'W', 'b'])\n",
      "dict_keys(['Z'])\n",
      "dict_keys(['dA_prev', 'dW', 'db'])\n",
      "dict_keys(['dA_prev', 'dW', 'db'])\n"
     ]
    }
   ],
   "source": [
    "layer1 = Layer (3,4,activationF=ReluF)\n",
    "layer2 = Layer (1,3,activationF=SigmoidF)\n",
    "layers = [layer1,layer2]\n",
    "\n",
    "np.random.seed(3)\n",
    "AL = np.random.randn(1, 2)\n",
    "Y = np.array([[1, 0]])\n",
    "A1 = np.random.randn(4,2)  #X\n",
    "W1 = np.random.randn(3,4)\n",
    "b1 = np.random.randn(3,1)\n",
    "Z1 = np.random.randn(3,2)  # cache activation\n",
    "A2 = np.random.randn(3,2)\n",
    "W2 = np.random.randn(1,3)\n",
    "b2 = np.random.randn(1,1)\n",
    "Z2 = np.random.randn(1,2) # cache activation\n",
    "\n",
    "layer1.W = W1\n",
    "layer1.b = b1\n",
    "layer2.W = W2\n",
    "layer2.b = b2\n",
    "\n",
    "nn = NNClassifier_V2 (layers)\n",
    "nn.forward (A1)          # dejamos en cache A,W,b,Z\n",
    "print (layer1.linear.cache.keys())\n",
    "print (layer1.activation.cache.keys())\n",
    "print (layer2.linear.cache.keys())\n",
    "print (layer2.activation.cache.keys())\n",
    "\n",
    "layer1.activation.cache ['Z'] = Z1\n",
    "layer1.linear.cache['A'] = A1\n",
    "layer2.activation.cache ['Z'] = Z2\n",
    "layer2.linear.cache['A'] = A2\n",
    "\n",
    "nn.backward (AL,Y)\n",
    "\n",
    "np.testing.assert_array_almost_equal(layer1.cache[\"dW\"], [[ 0.4101, 0.078072, 0.13798, 0.10502], [ 0., 0., 0., 0. ], [0.05284, 0.01006, 0.01778, 0.01353]] , decimal=5)\n",
    "np.testing.assert_array_almost_equal(layer1.cache[\"db\"], [[-0.22007], [ 0.], [-0.02835]], decimal=5)\n",
    "np.testing.assert_array_almost_equal(layer2.cache[\"dA_prev\"], [[ 0.12913, -0.44014], [-0.14176,0.48317], [0.01664, -0.05671]], decimal=5)\n",
    "\n",
    "print (layer1.cache.keys())\n",
    "print (layer2.cache.keys())"
   ]
  },
  {
   "cell_type": "code",
   "execution_count": 24,
   "metadata": {},
   "outputs": [
    {
     "name": "stderr",
     "output_type": "stream",
     "text": [
      "LR = 0.0075:   0%|                                                                    | 3/3000 [00:00<02:06, 23.69it/s]"
     ]
    },
    {
     "name": "stdout",
     "output_type": "stream",
     "text": [
      "Cost after iteration 0: 0.771749\n"
     ]
    },
    {
     "name": "stderr",
     "output_type": "stream",
     "text": [
      "LR = 0.0075:   4%|██▎                                                               | 105/3000 [00:04<01:53, 25.45it/s]"
     ]
    },
    {
     "name": "stdout",
     "output_type": "stream",
     "text": [
      "Cost after iteration 100: 0.672053\n"
     ]
    },
    {
     "name": "stderr",
     "output_type": "stream",
     "text": [
      "LR = 0.0075:   7%|████▍                                                             | 204/3000 [00:08<02:12, 21.03it/s]"
     ]
    },
    {
     "name": "stdout",
     "output_type": "stream",
     "text": [
      "Cost after iteration 200: 0.648263\n"
     ]
    },
    {
     "name": "stderr",
     "output_type": "stream",
     "text": [
      "LR = 0.0075:  10%|██████▋                                                           | 303/3000 [00:12<01:59, 22.48it/s]"
     ]
    },
    {
     "name": "stdout",
     "output_type": "stream",
     "text": [
      "Cost after iteration 300: 0.611507\n"
     ]
    },
    {
     "name": "stderr",
     "output_type": "stream",
     "text": [
      "LR = 0.0075:  14%|████████▉                                                         | 405/3000 [00:16<01:42, 25.26it/s]"
     ]
    },
    {
     "name": "stdout",
     "output_type": "stream",
     "text": [
      "Cost after iteration 400: 0.567047\n"
     ]
    },
    {
     "name": "stderr",
     "output_type": "stream",
     "text": [
      "LR = 0.0075:  17%|███████████                                                       | 504/3000 [00:20<01:37, 25.54it/s]"
     ]
    },
    {
     "name": "stdout",
     "output_type": "stream",
     "text": [
      "Cost after iteration 500: 0.540138\n"
     ]
    },
    {
     "name": "stderr",
     "output_type": "stream",
     "text": [
      "LR = 0.0075:  20%|█████████████▎                                                    | 603/3000 [00:24<01:33, 25.69it/s]"
     ]
    },
    {
     "name": "stdout",
     "output_type": "stream",
     "text": [
      "Cost after iteration 600: 0.527930\n"
     ]
    },
    {
     "name": "stderr",
     "output_type": "stream",
     "text": [
      "LR = 0.0075:  24%|███████████████▌                                                  | 705/3000 [00:29<01:37, 23.58it/s]"
     ]
    },
    {
     "name": "stdout",
     "output_type": "stream",
     "text": [
      "Cost after iteration 700: 0.465477\n"
     ]
    },
    {
     "name": "stderr",
     "output_type": "stream",
     "text": [
      "LR = 0.0075:  27%|█████████████████▋                                                | 804/3000 [00:33<01:41, 21.71it/s]"
     ]
    },
    {
     "name": "stdout",
     "output_type": "stream",
     "text": [
      "Cost after iteration 800: 0.369126\n"
     ]
    },
    {
     "name": "stderr",
     "output_type": "stream",
     "text": [
      "LR = 0.0075:  30%|███████████████████▊                                              | 903/3000 [00:38<01:44, 20.12it/s]"
     ]
    },
    {
     "name": "stdout",
     "output_type": "stream",
     "text": [
      "Cost after iteration 900: 0.391747\n"
     ]
    },
    {
     "name": "stderr",
     "output_type": "stream",
     "text": [
      "LR = 0.0075:  33%|█████████████████████▋                                           | 1002/3000 [00:42<01:35, 20.85it/s]"
     ]
    },
    {
     "name": "stdout",
     "output_type": "stream",
     "text": [
      "Cost after iteration 1000: 0.315187\n"
     ]
    },
    {
     "name": "stderr",
     "output_type": "stream",
     "text": [
      "LR = 0.0075:  37%|███████████████████████▉                                         | 1102/3000 [00:47<01:22, 22.93it/s]"
     ]
    },
    {
     "name": "stdout",
     "output_type": "stream",
     "text": [
      "Cost after iteration 1100: 0.272700\n"
     ]
    },
    {
     "name": "stderr",
     "output_type": "stream",
     "text": [
      "LR = 0.0075:  40%|██████████████████████████                                       | 1204/3000 [00:51<01:15, 23.72it/s]"
     ]
    },
    {
     "name": "stdout",
     "output_type": "stream",
     "text": [
      "Cost after iteration 1200: 0.237419\n"
     ]
    },
    {
     "name": "stderr",
     "output_type": "stream",
     "text": [
      "LR = 0.0075:  43%|████████████████████████████▏                                    | 1302/3000 [00:56<01:24, 20.00it/s]"
     ]
    },
    {
     "name": "stdout",
     "output_type": "stream",
     "text": [
      "Cost after iteration 1300: 0.199601\n"
     ]
    },
    {
     "name": "stderr",
     "output_type": "stream",
     "text": [
      "LR = 0.0075:  47%|██████████████████████████████▍                                  | 1404/3000 [01:00<01:07, 23.68it/s]"
     ]
    },
    {
     "name": "stdout",
     "output_type": "stream",
     "text": [
      "Cost after iteration 1400: 0.189263\n"
     ]
    },
    {
     "name": "stderr",
     "output_type": "stream",
     "text": [
      "LR = 0.0075:  50%|████████████████████████████████▌                                | 1503/3000 [01:05<01:05, 22.85it/s]"
     ]
    },
    {
     "name": "stdout",
     "output_type": "stream",
     "text": [
      "Cost after iteration 1500: 0.161189\n"
     ]
    },
    {
     "name": "stderr",
     "output_type": "stream",
     "text": [
      "LR = 0.0075:  54%|██████████████████████████████████▊                              | 1605/3000 [01:09<01:05, 21.34it/s]"
     ]
    },
    {
     "name": "stdout",
     "output_type": "stream",
     "text": [
      "Cost after iteration 1600: 0.148214\n"
     ]
    },
    {
     "name": "stderr",
     "output_type": "stream",
     "text": [
      "LR = 0.0075:  57%|████████████████████████████████████▉                            | 1704/3000 [01:14<01:00, 21.32it/s]"
     ]
    },
    {
     "name": "stdout",
     "output_type": "stream",
     "text": [
      "Cost after iteration 1700: 0.137775\n"
     ]
    },
    {
     "name": "stderr",
     "output_type": "stream",
     "text": [
      "LR = 0.0075:  60%|███████████████████████████████████████                          | 1803/3000 [01:18<00:52, 22.97it/s]"
     ]
    },
    {
     "name": "stdout",
     "output_type": "stream",
     "text": [
      "Cost after iteration 1800: 0.129740\n"
     ]
    },
    {
     "name": "stderr",
     "output_type": "stream",
     "text": [
      "LR = 0.0075:  64%|█████████████████████████████████████████▎                       | 1905/3000 [01:23<00:50, 21.56it/s]"
     ]
    },
    {
     "name": "stdout",
     "output_type": "stream",
     "text": [
      "Cost after iteration 1900: 0.121225\n"
     ]
    },
    {
     "name": "stderr",
     "output_type": "stream",
     "text": [
      "LR = 0.0075:  67%|███████████████████████████████████████████▍                     | 2004/3000 [01:27<00:43, 23.15it/s]"
     ]
    },
    {
     "name": "stdout",
     "output_type": "stream",
     "text": [
      "Cost after iteration 2000: 0.113821\n"
     ]
    },
    {
     "name": "stderr",
     "output_type": "stream",
     "text": [
      "LR = 0.0075:  70%|█████████████████████████████████████████████▌                   | 2102/3000 [01:31<00:41, 21.64it/s]"
     ]
    },
    {
     "name": "stdout",
     "output_type": "stream",
     "text": [
      "Cost after iteration 2100: 0.107839\n"
     ]
    },
    {
     "name": "stderr",
     "output_type": "stream",
     "text": [
      "LR = 0.0075:  73%|███████████████████████████████████████████████▊                 | 2204/3000 [01:36<00:34, 22.96it/s]"
     ]
    },
    {
     "name": "stdout",
     "output_type": "stream",
     "text": [
      "Cost after iteration 2200: 0.102855\n"
     ]
    },
    {
     "name": "stderr",
     "output_type": "stream",
     "text": [
      "LR = 0.0075:  77%|█████████████████████████████████████████████████▉               | 2303/3000 [01:40<00:31, 22.14it/s]"
     ]
    },
    {
     "name": "stdout",
     "output_type": "stream",
     "text": [
      "Cost after iteration 2300: 0.100897\n"
     ]
    },
    {
     "name": "stderr",
     "output_type": "stream",
     "text": [
      "LR = 0.0075:  80%|████████████████████████████████████████████████████             | 2405/3000 [01:45<00:28, 21.01it/s]"
     ]
    },
    {
     "name": "stdout",
     "output_type": "stream",
     "text": [
      "Cost after iteration 2400: 0.092878\n"
     ]
    },
    {
     "name": "stderr",
     "output_type": "stream",
     "text": [
      "LR = 0.0075:  83%|██████████████████████████████████████████████████████▏          | 2502/3000 [01:50<00:24, 20.71it/s]"
     ]
    },
    {
     "name": "stdout",
     "output_type": "stream",
     "text": [
      "Cost after iteration 2500: 0.088413\n"
     ]
    },
    {
     "name": "stderr",
     "output_type": "stream",
     "text": [
      "LR = 0.0075:  87%|████████████████████████████████████████████████████████▍        | 2604/3000 [01:54<00:17, 22.04it/s]"
     ]
    },
    {
     "name": "stdout",
     "output_type": "stream",
     "text": [
      "Cost after iteration 2600: 0.085951\n"
     ]
    },
    {
     "name": "stderr",
     "output_type": "stream",
     "text": [
      "LR = 0.0075:  90%|██████████████████████████████████████████████████████████▌      | 2703/3000 [01:59<00:13, 22.51it/s]"
     ]
    },
    {
     "name": "stdout",
     "output_type": "stream",
     "text": [
      "Cost after iteration 2700: 0.081681\n"
     ]
    },
    {
     "name": "stderr",
     "output_type": "stream",
     "text": [
      "LR = 0.0075:  94%|████████████████████████████████████████████████████████████▊    | 2805/3000 [02:03<00:08, 22.70it/s]"
     ]
    },
    {
     "name": "stdout",
     "output_type": "stream",
     "text": [
      "Cost after iteration 2800: 0.078247\n"
     ]
    },
    {
     "name": "stderr",
     "output_type": "stream",
     "text": [
      "LR = 0.0075:  97%|██████████████████████████████████████████████████████████████▉  | 2904/3000 [02:08<00:04, 22.70it/s]"
     ]
    },
    {
     "name": "stdout",
     "output_type": "stream",
     "text": [
      "Cost after iteration 2900: 0.075444\n"
     ]
    },
    {
     "name": "stderr",
     "output_type": "stream",
     "text": [
      "LR = 0.0075: 100%|█████████████████████████████████████████████████████████████████| 3000/3000 [02:12<00:00, 22.64it/s]\n"
     ]
    }
   ],
   "source": [
    "np.random.seed(1)\n",
    "layer1 = Layer (20,12288,activationF=ReluF,keep_prob=1.0)\n",
    "layer2 = Layer (7,20,activationF=ReluF)\n",
    "layer3 = Layer (5,7,activationF=ReluF)\n",
    "layer4 = Layer (1,5,activationF=SigmoidF)\n",
    "layers = [layer1,layer2,layer3,layer4]\n",
    "nn = NNClassifier_V2 (layers,costFunction=BinaryCrossEntropy,kargs={'steps':3000,'learning_rate':0.0075,'mini_batch_size':2**8},print_cost=True)\n",
    "costs=nn.optimize (X_train,Y_train,l2_lambda = 0.7,method='SGD')"
   ]
  },
  {
   "cell_type": "code",
   "execution_count": 25,
   "metadata": {},
   "outputs": [
    {
     "name": "stdout",
     "output_type": "stream",
     "text": [
      "[[0.07298434]]\n"
     ]
    }
   ],
   "source": [
    "print (costs[-1])"
   ]
  },
  {
   "cell_type": "code",
   "execution_count": 26,
   "metadata": {},
   "outputs": [
    {
     "name": "stdout",
     "output_type": "stream",
     "text": [
      "Trainig set accuracy : 99.04306220095694\n",
      "Trainig set accuracy : 82.0\n"
     ]
    }
   ],
   "source": [
    "train_prediction = nn.forward (X_train)\n",
    "train_prediction[train_prediction >= 0.5] = 1\n",
    "train_prediction[train_prediction < 0.5] = 0\n",
    "accuracy = np.mean(Y_train==train_prediction) * 100\n",
    "print ('Trainig set accuracy :' , accuracy  )\n",
    "\n",
    "test_prediction = nn.forward (X_test)\n",
    "test_prediction[test_prediction >= 0.5] = 1\n",
    "test_prediction[test_prediction < 0.5] = 0\n",
    "accuracy = np.mean(Y_test==test_prediction) * 100\n",
    "print ('Trainig set accuracy :' , accuracy  )\n"
   ]
  },
  {
   "cell_type": "code",
   "execution_count": null,
   "metadata": {},
   "outputs": [],
   "source": []
  }
 ],
 "metadata": {
  "kernelspec": {
   "display_name": "Python 3",
   "language": "python",
   "name": "python3"
  },
  "language_info": {
   "codemirror_mode": {
    "name": "ipython",
    "version": 3
   },
   "file_extension": ".py",
   "mimetype": "text/x-python",
   "name": "python",
   "nbconvert_exporter": "python",
   "pygments_lexer": "ipython3",
   "version": "3.8.2"
  }
 },
 "nbformat": 4,
 "nbformat_minor": 4
}
