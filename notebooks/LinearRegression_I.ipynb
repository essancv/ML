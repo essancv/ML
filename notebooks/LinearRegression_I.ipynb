{
 "cells": [
  {
   "cell_type": "markdown",
   "metadata": {},
   "source": [
    "# Linear Regression (One Variable)\n"
   ]
  },
  {
   "cell_type": "code",
   "execution_count": 1,
   "metadata": {},
   "outputs": [],
   "source": [
    "import numpy as np\n",
    "import matplotlib.pyplot as plt\n",
    "\n",
    "%matplotlib inline\n",
    "\n",
    "#!pip install tqdm"
   ]
  },
  {
   "cell_type": "code",
   "execution_count": 2,
   "metadata": {},
   "outputs": [],
   "source": [
    "def UTIL_FeatureNormalization (X,debug=False):\n",
    "    # X is a pandad dataframe\n",
    "    \n",
    "    if debug:\n",
    "        print('Input Data',X.head())\n",
    "        print ('X mean ',X.mean())\n",
    "        print('X std ', X.std ())\n",
    "        print(X.describe())\n",
    "    X_norm = (X - X.mean()) / X.std ()\n",
    "    if debug:\n",
    "        print('Output Data',X_norm.head())\n",
    "    return X_norm\n"
   ]
  },
  {
   "cell_type": "code",
   "execution_count": 3,
   "metadata": {},
   "outputs": [],
   "source": [
    "from tqdm import tqdm\n",
    "\n",
    "def run_experiment (X,Y,vtheta,experiment_parameters):\n",
    "    iterations = []\n",
    "    for iteration in range(1,len(experiment_parameters['learning_rate'])+1):\n",
    "        lr = experiment_parameters['learning_rate'][iteration-1]\n",
    "        costs = []\n",
    "        for i in tqdm(range (experiment_parameters['steps']),desc='LR = ' + str(lr)):\n",
    "            prediction = LR_predict (X,vtheta)\n",
    "            print ('Prediction',prediction[0:5])\n",
    "            cost = LR_CostFunction (prediction,Y)\n",
    "            costs.append (cost)\n",
    "            vgrads = LR_CalculateGrads (X,vtheta,Y)\n",
    "            vtheta = LR_UpdateThetas (vtheta,m,vgrads,lr)\n",
    "        iterations.append (costs)\n",
    "    return iterations , vtheta"
   ]
  },
  {
   "cell_type": "code",
   "execution_count": 4,
   "metadata": {},
   "outputs": [
    {
     "name": "stdout",
     "output_type": "stream",
     "text": [
      "Input Data         0        1\n",
      "0  6.1101  17.5920\n",
      "1  5.5277   9.1302\n",
      "2  8.5186  13.6620\n",
      "3  7.0032  11.8540\n",
      "4  5.8598   6.8233\n",
      "X mean  0    8.159800\n",
      "1    5.839135\n",
      "dtype: float64\n",
      "X std  0    3.869884\n",
      "1    5.510262\n",
      "dtype: float64\n",
      "               0          1\n",
      "count  97.000000  97.000000\n",
      "mean    8.159800   5.839135\n",
      "std     3.869884   5.510262\n",
      "min     5.026900  -2.680700\n",
      "25%     5.707700   1.986900\n",
      "50%     6.589400   4.562300\n",
      "75%     8.578100   7.046700\n",
      "max    22.203000  24.147000\n",
      "Output Data           0         1\n",
      "0 -0.529654  2.132905\n",
      "1 -0.680150  0.597261\n",
      "2  0.092716  1.419690\n",
      "3 -0.298872  1.091575\n",
      "4 -0.594333  0.178606\n"
     ]
    },
    {
     "data": {
      "image/png": "[encoded data removed]",
      "text/plain": [
       "<Figure size 432x288 with 1 Axes>"
      ]
     },
     "metadata": {
      "needs_background": "light"
     },
     "output_type": "display_data"
    }
   ],
   "source": [
    "# Leer los datos y visualizar\n",
    "\n",
    "import pandas as pd\n",
    "\n",
    "dataset =pd.read_csv('ex1data1.txt', sep=',',header=None)  # población, beneficio\n",
    "dataset_norm = UTIL_FeatureNormalization (dataset,debug=True)\n",
    "population = dataset_norm.values [:,0:1]\n",
    "profit = dataset.values [:,1:2]\n",
    "\n",
    "data = {'a': population.reshape ((1,dataset.shape[0])),\n",
    "        'b':profit.reshape((1,dataset.shape[0]))\n",
    "       }\n",
    "plt.scatter('a', 'b', data=data)\n",
    "plt.xlabel('Population')\n",
    "plt.ylabel('Profit')\n",
    "plt.show()"
   ]
  },
  {
   "cell_type": "markdown",
   "metadata": {},
   "source": [
    "## Hipótesis\n",
    "\n",
    "$ h(\\theta) = \\theta_0 + \\theta_1 * x_1 + \\theta_2 * x_2 ..$"
   ]
  },
  {
   "cell_type": "code",
   "execution_count": 5,
   "metadata": {},
   "outputs": [],
   "source": [
    "from sklearn.metrics import mean_squared_error, r2_score\n",
    "\n",
    "\n",
    "def LR_initVTheta (n_variables,type='random'):\n",
    "    \"\"\"\n",
    "    Inicializacion de theta, \n",
    "    n_variables es el número de variables que se usarán en la regresión lineal\n",
    "    \"\"\"\n",
    "    if type == 'random':\n",
    "        return np.random.randn (1 , n_variables + 1)\n",
    "    else:\n",
    "        return np.zeros((1,n_variables +1))\n",
    "    \n",
    "def LR_predict (x,theta):\n",
    "    \"\"\"\n",
    "    Predicción lineal,\n",
    "    X es la matriz con las muestras .Dimensión  (m,n) donde m es el número de muestras y n el número de features\n",
    "    theta es el vector de Thetas [tHeta0,theta1,theta2 ...]. Dimensión (1,n), siendo n el número de features\n",
    "    \"\"\"\n",
    "    print ('LR_predict, x',x[0:5])\n",
    "    print ('LR_predict, theta',theta)\n",
    "    assert x.shape[1] == theta.shape[1]\n",
    "    assert theta.shape [0] == 1\n",
    "    return np.dot (x,theta.T)\n",
    "\n",
    "def LR_getXMatrix (x):\n",
    "    \"\"\"\n",
    "    Obtener matriz X para posterior pocesamiento, se añade una columna de '1'\n",
    "    X es la matriz con las muestras\n",
    "    \"\"\"\n",
    "    m = x.shape[0] # Número de muestras\n",
    "    Ones = np.ones ((1,m)).T\n",
    "    return np.insert (x,0,1, axis=1)\n",
    "\n",
    "def LR_CostFunction (prediction,y):\n",
    "    m = prediction.shape [0]\n",
    "    assert prediction.shape[1] == 1\n",
    "    assert y.shape[1] == 1\n",
    "    assert prediction.shape[0] == y.shape[0]\n",
    "    J = 1/ (2 * m) *  np.sum (np.power ((prediction-y),2)) \n",
    "    return J\n",
    "\n",
    "def LR_CalculateGrads (x,vtheta,y):\n",
    "    prediction = LR_predict (x,vtheta)\n",
    "    m = x.shape[0]\n",
    "    n = vtheta.shape [1]\n",
    "    y = y.reshape (m,1)\n",
    "    assert prediction.shape == y.shape\n",
    "    error = prediction - y\n",
    "    error = np.array (error).reshape(1, m)\n",
    "    return error.dot (x)\n",
    "\n",
    "def LR_CalculateGrads_NOTVALID (x,vtheta,y):\n",
    "    prediction = LR_predict (x,vtheta)\n",
    "    n = vtheta.shape [1]\n",
    "    vgrads = np.zeros ((1,n))                      # Vector dimensión (1,n)\n",
    "    for i in range (n):\n",
    "        xj = x[:,i:i+1]                            # xj = todos los valores x (muestras) de la feature j\n",
    "                                                   # se asume que x0 para cualquiera de las muestras es siempre 1\n",
    "        grad = np.sum ((prediction - y ) * xj )    # element wise product, \n",
    "        vgrads [0][i] = grad        \n",
    "    assert vtheta.shape[1] == vgrads.shape[1]\n",
    "    return np.array(vgrads)\n",
    "\n",
    "def LR_UpdateThetas (vtheta,m,vgrads,learning_rate=1e-2):\n",
    "    #print ('Vtheta antes ',vtheta)\n",
    "    #print ('VGrads ' , vgrads)\n",
    "    vtheta = vtheta - ( 1 / m ) * learning_rate * vgrads\n",
    "    #print ('Vtheta después ' , vtheta)\n",
    "    return vtheta"
   ]
  },
  {
   "cell_type": "code",
   "execution_count": 6,
   "metadata": {},
   "outputs": [
    {
     "name": "stdout",
     "output_type": "stream",
     "text": [
      "#Variables 1, #muestras 97,X shape (97, 2), Y shape (97, 1),Theta shape (1, 2) \n"
     ]
    },
    {
     "name": "stderr",
     "output_type": "stream",
     "text": [
      "LR = 0.0075: 100%|████████████████████████████████████████████████████████████████████| 10/10 [00:00<00:00, 371.35it/s]"
     ]
    },
    {
     "name": "stdout",
     "output_type": "stream",
     "text": [
      "LR_predict, x [[ 1.         -0.52965418]\n",
      " [ 1.         -0.68014967]\n",
      " [ 1.          0.09271597]\n",
      " [ 1.         -0.29887204]\n",
      " [ 1.         -0.59433313]]\n",
      "LR_predict, theta [[0. 0.]]\n",
      "Prediction [[0.]\n",
      " [0.]\n",
      " [0.]\n",
      " [0.]\n",
      " [0.]]\n",
      "LR_predict, x [[ 1.         -0.52965418]\n",
      " [ 1.         -0.68014967]\n",
      " [ 1.          0.09271597]\n",
      " [ 1.         -0.29887204]\n",
      " [ 1.         -0.59433313]]\n",
      "LR_predict, theta [[0. 0.]]\n",
      "LR_predict, x [[ 1.         -0.52965418]\n",
      " [ 1.         -0.68014967]\n",
      " [ 1.          0.09271597]\n",
      " [ 1.         -0.29887204]\n",
      " [ 1.         -0.59433313]]\n",
      "LR_predict, theta [[0.04379351 0.03426978]]\n",
      "Prediction [[0.02564238]\n",
      " [0.02048493]\n",
      " [0.04697087]\n",
      " [0.03355123]\n",
      " [0.02342585]]\n",
      "LR_predict, x [[ 1.         -0.52965418]\n",
      " [ 1.         -0.68014967]\n",
      " [ 1.          0.09271597]\n",
      " [ 1.         -0.29887204]\n",
      " [ 1.         -0.59433313]]\n",
      "LR_predict, theta [[0.04379351 0.03426978]]\n",
      "LR_predict, x [[ 1.         -0.52965418]\n",
      " [ 1.         -0.68014967]\n",
      " [ 1.          0.09271597]\n",
      " [ 1.         -0.29887204]\n",
      " [ 1.         -0.59433313]]\n",
      "LR_predict, theta [[0.08725857 0.06828519]]\n",
      "Prediction [[0.05109104]\n",
      " [0.04081442]\n",
      " [0.0935897 ]\n",
      " [0.06685004]\n",
      " [0.04667442]]\n",
      "LR_predict, x [[ 1.         -0.52965418]\n",
      " [ 1.         -0.68014967]\n",
      " [ 1.          0.09271597]\n",
      " [ 1.         -0.29887204]\n",
      " [ 1.         -0.59433313]]\n",
      "LR_predict, theta [[0.08725857 0.06828519]]\n",
      "LR_predict, x [[ 1.         -0.52965418]\n",
      " [ 1.         -0.68014967]\n",
      " [ 1.          0.09271597]\n",
      " [ 1.         -0.29887204]\n",
      " [ 1.         -0.59433313]]\n",
      "LR_predict, theta [[0.13039765 0.10204811]]\n",
      "Prediction [[0.07634744]\n",
      " [0.06098966]\n",
      " [0.13985914]\n",
      " [0.09989832]\n",
      " [0.06974707]]\n",
      "LR_predict, x [[ 1.         -0.52965418]\n",
      " [ 1.         -0.68014967]\n",
      " [ 1.          0.09271597]\n",
      " [ 1.         -0.29887204]\n",
      " [ 1.         -0.59433313]]\n",
      "LR_predict, theta [[0.13039765 0.10204811]]\n",
      "LR_predict, x [[ 1.         -0.52965418]\n",
      " [ 1.         -0.68014967]\n",
      " [ 1.          0.09271597]\n",
      " [ 1.         -0.29887204]\n",
      " [ 1.         -0.59433313]]\n",
      "LR_predict, theta [[0.17321318 0.13556043]]\n",
      "Prediction [[0.10141303]\n",
      " [0.0810118 ]\n",
      " [0.18578179]\n",
      " [0.13269796]\n",
      " [0.09264513]]\n",
      "LR_predict, x [[ 1.         -0.52965418]\n",
      " [ 1.         -0.68014967]\n",
      " [ 1.          0.09271597]\n",
      " [ 1.         -0.29887204]\n",
      " [ 1.         -0.59433313]]\n",
      "LR_predict, theta [[0.17321318 0.13556043]]\n",
      "LR_predict, x [[ 1.         -0.52965418]\n",
      " [ 1.         -0.68014967]\n",
      " [ 1.          0.09271597]\n",
      " [ 1.         -0.29887204]\n",
      " [ 1.         -0.59433313]]\n",
      "LR_predict, theta [[0.21570759 0.16882399]]\n",
      "Prediction [[0.12628926]\n",
      " [0.10088201]\n",
      " [0.23136027]\n",
      " [0.16525082]\n",
      " [0.1153699 ]]\n",
      "LR_predict, x [[ 1.         -0.52965418]\n",
      " [ 1.         -0.68014967]\n",
      " [ 1.          0.09271597]\n",
      " [ 1.         -0.29887204]\n",
      " [ 1.         -0.59433313]]\n",
      "LR_predict, theta [[0.21570759 0.16882399]]\n",
      "LR_predict, x [[ 1.         -0.52965418]\n",
      " [ 1.         -0.68014967]\n",
      " [ 1.          0.09271597]\n",
      " [ 1.         -0.29887204]\n",
      " [ 1.         -0.59433313]]\n",
      "LR_predict, theta [[0.2578833  0.20184064]]\n",
      "Prediction [[0.15097756]\n",
      " [0.12060145]\n",
      " [0.27659715]\n",
      " [0.19755877]\n",
      " [0.13792272]]\n",
      "LR_predict, x [[ 1.         -0.52965418]\n",
      " [ 1.         -0.68014967]\n",
      " [ 1.          0.09271597]\n",
      " [ 1.         -0.29887204]\n",
      " [ 1.         -0.59433313]]\n",
      "LR_predict, theta [[0.2578833  0.20184064]]\n",
      "LR_predict, x [[ 1.         -0.52965418]\n",
      " [ 1.         -0.68014967]\n",
      " [ 1.          0.09271597]\n",
      " [ 1.         -0.29887204]\n",
      " [ 1.         -0.59433313]]\n",
      "LR_predict, theta [[0.29974269 0.23461223]]\n",
      "Prediction [[0.17547934]\n",
      " [0.14017126]\n",
      " [0.32149499]\n",
      " [0.22962365]\n",
      " [0.16030487]]\n",
      "LR_predict, x [[ 1.         -0.52965418]\n",
      " [ 1.         -0.68014967]\n",
      " [ 1.          0.09271597]\n",
      " [ 1.         -0.29887204]\n",
      " [ 1.         -0.59433313]]\n",
      "LR_predict, theta [[0.29974269 0.23461223]]\n",
      "LR_predict, x [[ 1.         -0.52965418]\n",
      " [ 1.         -0.68014967]\n",
      " [ 1.          0.09271597]\n",
      " [ 1.         -0.29887204]\n",
      " [ 1.         -0.59433313]]\n",
      "LR_predict, theta [[0.34128813 0.26714056]]\n",
      "Prediction [[0.19979602]\n",
      " [0.15959257]\n",
      " [0.36605633]\n",
      " [0.26144728]\n",
      " [0.18251764]]\n",
      "LR_predict, x [[ 1.         -0.52965418]\n",
      " [ 1.         -0.68014967]\n",
      " [ 1.          0.09271597]\n",
      " [ 1.         -0.29887204]\n",
      " [ 1.         -0.59433313]]\n",
      "LR_predict, theta [[0.34128813 0.26714056]]\n",
      "LR_predict, x [[ 1.         -0.52965418]\n",
      " [ 1.         -0.68014967]\n",
      " [ 1.          0.09271597]\n",
      " [ 1.         -0.29887204]\n",
      " [ 1.         -0.59433313]]\n",
      "LR_predict, theta [[0.38252198 0.29942744]]\n",
      "Prediction [[0.22392898]\n",
      " [0.17886651]\n",
      " [0.41028369]\n",
      " [0.29303149]\n",
      " [0.20456233]]\n",
      "LR_predict, x [[ 1.         -0.52965418]\n",
      " [ 1.         -0.68014967]\n",
      " [ 1.          0.09271597]\n",
      " [ 1.         -0.29887204]\n",
      " [ 1.         -0.59433313]]\n",
      "LR_predict, theta [[0.38252198 0.29942744]]\n",
      "LR_predict, x [[ 1.         -0.52965418]\n",
      " [ 1.         -0.68014967]\n",
      " [ 1.          0.09271597]\n",
      " [ 1.         -0.29887204]\n",
      " [ 1.         -0.59433313]]\n",
      "LR_predict, theta [[0.42344658 0.33147467]]\n",
      "Mean squared error: 56.46\n",
      "R2 score: -0.88\n"
     ]
    },
    {
     "name": "stderr",
     "output_type": "stream",
     "text": [
      "\n"
     ]
    }
   ],
   "source": [
    "from sklearn.metrics import mean_squared_error, r2_score\n",
    "\n",
    "experiment_parameters = {'learning_rate' : [0.0075],\n",
    "                         'steps': 10 }\n",
    "\n",
    "n_variables = dataset.shape [1] - 1           # elimino Y\n",
    "m = dataset.shape [0]                         # número de muestras\n",
    "vtheta = LR_initVTheta (n_variables,type='zeros')\n",
    "X = LR_getXMatrix (population)\n",
    "print ('#Variables {}, #muestras {},X shape {}, Y shape {},Theta shape {} '.format(n_variables,m,X.shape,profit.shape,vtheta.shape),flush=True)\n",
    "iterations,vtheta = run_experiment (X,profit,vtheta,experiment_parameters)\n",
    "prediction = LR_predict (X,vtheta)\n",
    "mean_squared_error = np.mean(np.power((profit - prediction), 2))\n",
    "\n",
    "print(\"Mean squared error: %.2f\" % mean_squared_error)\n",
    "print(\"R2 score: %.2f\" % r2_score(profit,prediction))\n",
    "\n"
   ]
  },
  {
   "cell_type": "code",
   "execution_count": 7,
   "metadata": {},
   "outputs": [
    {
     "name": "stdout",
     "output_type": "stream",
     "text": [
      "[32.072733877455676, 31.661968667209692, 31.257317884644127, 30.858690511432204, 30.465996884164227, 30.07914867417757, 29.69805886768688, 29.32264174621001, 28.9528128672855, 28.58848904547695]\n"
     ]
    },
    {
     "data": {
      "image/png": "[encoded data removed]",
      "text/plain": [
       "<Figure size 432x288 with 1 Axes>"
      ]
     },
     "metadata": {
      "needs_background": "light"
     },
     "output_type": "display_data"
    }
   ],
   "source": [
    "# Plotting costs\n",
    "\n",
    "steps = np.arange (experiment_parameters['steps'])\n",
    "for iteration in range(len(iterations)):\n",
    "    costs = iterations[iteration]\n",
    "    print (costs)\n",
    "    plt.plot( steps , costs,label=str(experiment_parameters['learning_rate'][iteration]))\n",
    "\n",
    "plt.xlabel('steps')\n",
    "plt.ylabel('cost')\n",
    "plt.legend()\n",
    "plt.show()"
   ]
  },
  {
   "cell_type": "code",
   "execution_count": 8,
   "metadata": {},
   "outputs": [
    {
     "name": "stdout",
     "output_type": "stream",
     "text": [
      "LR_predict, x [[ 1.         -0.52965418]\n",
      " [ 1.         -0.68014967]\n",
      " [ 1.          0.09271597]\n",
      " [ 1.         -0.29887204]\n",
      " [ 1.         -0.59433313]]\n",
      "LR_predict, theta [[0.42344658 0.33147467]]\n"
     ]
    },
    {
     "data": {
      "image/png": "[encoded data removed]",
      "text/plain": [
       "<Figure size 432x288 with 1 Axes>"
      ]
     },
     "metadata": {
      "needs_background": "light"
     },
     "output_type": "display_data"
    }
   ],
   "source": [
    "prediction = LR_predict (X,vtheta)\n",
    "\n",
    "data = {'a': population.reshape ((1,dataset.shape[0])),\n",
    "        'b':prediction.reshape((1,dataset.shape[0]))\n",
    "       }\n",
    "plt.scatter('a', 'b', c='red',data=data)\n",
    "plt.xlabel('Population')\n",
    "plt.ylabel('Profit')\n",
    "#plt.plot(population.reshape ((1,dataset.shape[0])), prediction.reshape ((1,dataset.shape[0])), 'r--')\n",
    "plt.show()\n"
   ]
  },
  {
   "cell_type": "markdown",
   "metadata": {},
   "source": [
    "# Linear Regression (Multiple Variables)"
   ]
  },
  {
   "cell_type": "code",
   "execution_count": 9,
   "metadata": {},
   "outputs": [],
   "source": [
    "dataset =pd.read_csv('ex1data2.txt', sep=',',header=None)  # size of house, #bedrooms,price\n",
    "# Cuando las escalas de las features son muy diferentes, normalizamos para que GD converja antes\n",
    "dataset_norm = UTIL_FeatureNormalization (dataset)\n",
    "X_norm = dataset_norm.values [:,0:2]\n",
    "price = dataset.values  [:,2:3]"
   ]
  },
  {
   "cell_type": "code",
   "execution_count": 10,
   "metadata": {},
   "outputs": [
    {
     "name": "stdout",
     "output_type": "stream",
     "text": [
      "#Variables 2, #muestras 47,Theta shape (1, 2) \n"
     ]
    },
    {
     "data": {
      "image/png": "[encoded data removed]",
      "text/plain": [
       "<Figure size 432x288 with 1 Axes>"
      ]
     },
     "metadata": {
      "needs_background": "light"
     },
     "output_type": "display_data"
    }
   ],
   "source": [
    "\n",
    "experiment_parameters = {'learning_rate' : [1e-4,3e-3,2.9e-3,1e-3,3e-2,1e-2,3e-1,1e-1],\n",
    "                         'steps' : 1000 }\n",
    "\n",
    "n_variables = dataset.shape [1] - 1           # elimino Y\n",
    "m = dataset.shape [0]                         # número de muestras\n",
    "print ('#Variables {}, #muestras {},Theta shape {} '.format(n_variables,m,vtheta.shape))\n",
    "vtheta = LR_initVTheta (n_variables)\n",
    "X = LR_getXMatrix (X_norm)\n",
    "learning_rate = 0.003\n",
    "steps = 1000\n",
    "iterations = []\n",
    "for iteration in range(len(experiment_parameters['learning_rate'])):\n",
    "    lr = experiment_parameters['learning_rate'][iteration]\n",
    "    costs = []\n",
    "    for i in range (experiment_parameters['steps']):\n",
    "        prediction = LR_predict (X,vtheta)\n",
    "        cost = LR_CostFunction (prediction,price)\n",
    "        costs.append (cost)\n",
    "        vgrads = LR_CalculateGrads (X,vtheta,price)\n",
    "        vtheta = LR_UpdateThetas (vtheta,m,vgrads,lr)\n",
    "    iterations.append (costs)\n",
    "    \n",
    "steps = np.arange (experiment_parameters['steps'])\n",
    "for iteration in range(len(iterations)):\n",
    "    costs = iterations[iteration]\n",
    "    plt.plot( steps , costs,label=str(experiment_parameters['learning_rate'][iteration]))\n",
    "\n",
    "plt.xlabel('steps')\n",
    "plt.ylabel('cost')\n",
    "plt.legend()\n",
    "plt.show()"
   ]
  },
  {
   "cell_type": "markdown",
   "metadata": {},
   "source": [
    "# Polynomial Regression - adding features"
   ]
  },
  {
   "cell_type": "code",
   "execution_count": 11,
   "metadata": {},
   "outputs": [
    {
     "name": "stderr",
     "output_type": "stream",
     "text": [
      "LR = 0.003: 100%|███████████████████████████████████████████████████████████████| 1000/1000 [00:00<00:00, 15101.49it/s]\n",
      "LR = 0.03: 100%|████████████████████████████████████████████████████████████████| 1000/1000 [00:00<00:00, 23079.48it/s]\n",
      "LR = 0.3:   0%|                                                                               | 0/1000 [00:00<?, ?it/s]"
     ]
    },
    {
     "name": "stdout",
     "output_type": "stream",
     "text": [
      "        0  sqrt-population        1\n",
      "0  6.1101         2.471862  17.5920\n",
      "1  5.5277         2.351106   9.1302\n",
      "2  8.5186         2.918664  13.6620\n",
      "3  7.0032         2.646356  11.8540\n",
      "4  5.8598         2.420702   6.8233\n",
      "#Variables 2, #muestras 97,Theta shape (1, 3) \n"
     ]
    },
    {
     "name": "stderr",
     "output_type": "stream",
     "text": [
      "LR = 0.3: 100%|█████████████████████████████████████████████████████████████████| 1000/1000 [00:00<00:00, 13668.59it/s]\n"
     ]
    },
    {
     "data": {
      "image/png": "[encoded data removed]",
      "text/plain": [
       "<Figure size 432x288 with 1 Axes>"
      ]
     },
     "metadata": {
      "needs_background": "light"
     },
     "output_type": "display_data"
    }
   ],
   "source": [
    "import pandas as pd\n",
    "\n",
    "dataset =pd.read_csv('ex1data1.txt', sep=',',header=None)  # población, beneficio\n",
    "\n",
    "# Crearemos una nueva feature que sea la raiz cuadrada de la población\n",
    "population_sqrt = np.sqrt(dataset.values[:,0:1])\n",
    "dataset.insert(1, \"sqrt-population\", population_sqrt, True)\n",
    "print (dataset.head())\n",
    "\n",
    "# Normalizamos el dataset\n",
    "\n",
    "dataset_norm = UTIL_FeatureNormalization (dataset)\n",
    "X_norm = dataset_norm.values[:,0:2]\n",
    "\n",
    "profit = dataset.values [:,1:2]\n",
    "\n",
    "\n",
    "n = X_norm.shape [1]                         # número de features\n",
    "m = dataset.shape [0]                         # número de muestras\n",
    "vtheta = LR_initVTheta (n)\n",
    "print ('#Variables {}, #muestras {},Theta shape {} '.format(n,m,vtheta.shape))\n",
    "X = LR_getXMatrix (X_norm)\n",
    "\n",
    "experiment_parameters = {'learning_rate' : [0.003,0.03,0.3],\n",
    "                         'steps' :1000 }\n",
    "\n",
    "iterations,_ = run_experiment (X,profit,vtheta,experiment_parameters)\n",
    "\n",
    "steps = np.arange (experiment_parameters['steps'])\n",
    "for iteration in range(len(iterations)):\n",
    "    costs = iterations[iteration]\n",
    "    plt.plot( steps , costs,label=str(experiment_parameters['learning_rate'][iteration]))\n",
    "\n",
    "plt.xlabel('steps')\n",
    "plt.ylabel('cost')\n",
    "plt.legend()\n",
    "plt.show()"
   ]
  },
  {
   "cell_type": "markdown",
   "metadata": {},
   "source": [
    "## Normal Equation "
   ]
  },
  {
   "cell_type": "markdown",
   "metadata": {},
   "source": [
    "  $$\\theta = (X^TX)^{-1}X^TY$$"
   ]
  },
  {
   "cell_type": "markdown",
   "metadata": {},
   "source": [
    "Forma de obtener Theta que minimiza J(Theta), sin GD\n",
    "    \n",
    "* Es muy lenta si el número de features es muy elevado (n>10000)\n",
    "* La matriz inversa puede no existir si alguna de las features es linearmente dependiente de otras\n",
    "* No necesita scaling (normalización)"
   ]
  },
  {
   "cell_type": "code",
   "execution_count": 11,
   "metadata": {},
   "outputs": [
    {
     "name": "stdout",
     "output_type": "stream",
     "text": [
      "        0  sqrt-population        1\n",
      "0  6.1101         2.471862  17.5920\n",
      "1  5.5277         2.351106   9.1302\n",
      "2  8.5186         2.918664  13.6620\n",
      "3  7.0032         2.646356  11.8540\n",
      "4  5.8598         2.420702   6.8233\n",
      "[[2.24098518e-12]\n",
      " [2.32126818e-13]\n",
      " [1.00000000e+00]]\n",
      "LR_predict, x [[1.         6.1101     2.47186165]\n",
      " [1.         5.5277     2.35110612]\n",
      " [1.         8.5186     2.91866408]\n",
      " [1.         7.0032     2.64635599]\n",
      " [1.         5.8598     2.42070238]]\n",
      "LR_predict, theta [[2.24098518e-12 2.32126818e-13 1.00000000e+00]]\n"
     ]
    },
    {
     "data": {
      "image/png": "[encoded data removed]",
      "text/plain": [
       "<Figure size 432x288 with 1 Axes>"
      ]
     },
     "metadata": {
      "needs_background": "light"
     },
     "output_type": "display_data"
    }
   ],
   "source": [
    "import pandas as pd\n",
    "\n",
    "dataset =pd.read_csv('ex1data1.txt', sep=',',header=None)  # población, beneficio\n",
    "\n",
    "# Crearemos una nueva feature que sea la raiz cuadrada de la población\n",
    "population_sqrt = np.sqrt(dataset.values[:,0:1])\n",
    "dataset.insert(1, \"sqrt-population\", population_sqrt, True)\n",
    "print (dataset.head())\n",
    "\n",
    "X_ = dataset.values[:,0:2]\n",
    "Y = dataset.values [:,1:2]\n",
    "X = LR_getXMatrix (X_)\n",
    "step1 = np.dot(X.T,X)\n",
    "step2 = np.linalg.inv(step1)\n",
    "step3 = np.dot (step2,X.T)\n",
    "theta = np.dot(step3,Y)\n",
    "print (theta)\n",
    "prediction = LR_predict (X,theta.T)\n",
    "\n",
    "data = {'a': population.reshape ((1,dataset.shape[0])),\n",
    "        'b':prediction.reshape((1,dataset.shape[0]))\n",
    "       }\n",
    "plt.scatter('a', 'b', c='red',data=data)\n",
    "plt.xlabel('Population')\n",
    "plt.ylabel('Profit')\n",
    "#plt.plot(population.reshape ((1,dataset.shape[0])), prediction.reshape ((1,dataset.shape[0])), 'r--')\n",
    "plt.show()"
   ]
  },
  {
   "cell_type": "code",
   "execution_count": 13,
   "metadata": {},
   "outputs": [
    {
     "name": "stdout",
     "output_type": "stream",
     "text": [
      "        0        1\n",
      "0  6.1101  17.5920\n",
      "1  5.5277   9.1302\n",
      "2  8.5186  13.6620\n",
      "3  7.0032  11.8540\n",
      "4  5.8598   6.8233\n",
      "[[-3.89578088]\n",
      " [ 1.19303364]]\n",
      "LR_predict, x [[1.     6.1101]\n",
      " [1.     5.5277]\n",
      " [1.     8.5186]\n",
      " [1.     7.0032]\n",
      " [1.     5.8598]]\n",
      "LR_predict, theta [[-3.89578088  1.19303364]]\n",
      "[[3.39377399]\n",
      " [2.6989512 ]\n",
      " [6.26719552]\n",
      " [4.45927234]\n",
      " [3.09515767]]\n"
     ]
    },
    {
     "data": {
      "image/png": "[encoded data removed]",
      "text/plain": [
       "<Figure size 432x288 with 1 Axes>"
      ]
     },
     "metadata": {
      "needs_background": "light"
     },
     "output_type": "display_data"
    }
   ],
   "source": [
    "import pandas as pd\n",
    "\n",
    "dataset =pd.read_csv('ex1data1.txt', sep=',',header=None)  # población, beneficio\n",
    "\n",
    "print (dataset.head())\n",
    "\n",
    "X_ = dataset.values[:,0:1]\n",
    "Y = dataset.values [:,1:2]\n",
    "X = LR_getXMatrix (X_)\n",
    "step1 = np.dot(X.T,X)\n",
    "step2 = np.linalg.inv(step1)\n",
    "step3 = np.dot (step2,X.T)\n",
    "theta = np.dot(step3,Y)\n",
    "print (theta)\n",
    "prediction = LR_predict (X,theta.T)\n",
    "print (prediction[0:5])\n",
    "data = {'a': population.reshape ((1,dataset.shape[0])),\n",
    "        'b':prediction.reshape((1,dataset.shape[0]))\n",
    "       }\n",
    "plt.scatter('a', 'b', c='red',data=data)\n",
    "plt.xlabel('Population')\n",
    "plt.ylabel('Profit')\n",
    "#plt.plot(population.reshape ((1,dataset.shape[0])), prediction.reshape ((1,dataset.shape[0])), 'r--')\n",
    "plt.show()"
   ]
  },
  {
   "cell_type": "markdown",
   "metadata": {},
   "source": [
    "$ \\sum \\limits _{i=1} ^{10} \\int \\limits _0 ^{\\infty} e^{\\nu _i x } dx $  \n",
    "$ \\sqrt{x+y}, \\log, \\ln, \\sin, \\cos, \\tan, \\sec, \\sinh ,\\leq, \\geq, \\approx, \\equiv, \\neq, <, >  $"
   ]
  },
  {
   "cell_type": "markdown",
   "metadata": {},
   "source": [
    "# Using minibatches"
   ]
  },
  {
   "cell_type": "code",
   "execution_count": 13,
   "metadata": {},
   "outputs": [
    {
     "name": "stdout",
     "output_type": "stream",
     "text": [
      "Numero de features  1\n",
      "Numero total de muestras  97\n"
     ]
    },
    {
     "name": "stderr",
     "output_type": "stream",
     "text": [
      "LR = 9.9e-05: 100%|███████████████████████████████████████████████████████████| 10000/10000 [00:00<00:00, 14044.44it/s]\n",
      "LR = 0.00021: 100%|███████████████████████████████████████████████████████████| 10000/10000 [00:00<00:00, 15887.97it/s]\n",
      "LR = 9.9e-05: 100%|███████████████████████████████████████████████████████████| 10000/10000 [00:00<00:00, 20380.69it/s]\n",
      "LR = 0.00021: 100%|███████████████████████████████████████████████████████████| 10000/10000 [00:00<00:00, 17290.84it/s]\n",
      "LR = 9.9e-05: 100%|███████████████████████████████████████████████████████████| 10000/10000 [00:00<00:00, 19561.72it/s]\n",
      "LR = 0.00021: 100%|███████████████████████████████████████████████████████████| 10000/10000 [00:00<00:00, 18919.13it/s]\n",
      "LR = 9.9e-05: 100%|███████████████████████████████████████████████████████████| 10000/10000 [00:00<00:00, 18995.73it/s]\n",
      "LR = 0.00021: 100%|███████████████████████████████████████████████████████████| 10000/10000 [00:00<00:00, 19000.54it/s]\n",
      "LR = 9.9e-05: 100%|███████████████████████████████████████████████████████████| 10000/10000 [00:00<00:00, 18832.78it/s]\n",
      "LR = 0.00021: 100%|███████████████████████████████████████████████████████████| 10000/10000 [00:00<00:00, 17718.22it/s]\n",
      "LR = 9.9e-05: 100%|███████████████████████████████████████████████████████████| 10000/10000 [00:00<00:00, 18066.37it/s]\n",
      "LR = 0.00021: 100%|███████████████████████████████████████████████████████████| 10000/10000 [00:00<00:00, 16490.31it/s]\n"
     ]
    },
    {
     "data": {
      "image/png": "[encoded data removed]",
      "text/plain": [
       "<Figure size 432x288 with 1 Axes>"
      ]
     },
     "metadata": {
      "needs_background": "light"
     },
     "output_type": "display_data"
    }
   ],
   "source": [
    "# Leer los datos y visualizar\n",
    "\n",
    "import pandas as pd\n",
    "\n",
    "dataset =pd.read_csv('ex1data1.txt', sep=',',header=None)  # población, beneficio\n",
    "population = dataset.values [:,0:1]\n",
    "profit = dataset.values [:,1:2]\n",
    "\n",
    "n = population.shape [1]                    # número de features\n",
    "print ('Numero de features ',n)\n",
    "m = dataset.shape [0]                         # número de muestras\n",
    "print ('Numero total de muestras ',m,flush=True)\n",
    "vtheta = LR_initVTheta (n)\n",
    "X_new = LR_getXMatrix (population)          # Añadimos 1's para theta0\n",
    "\n",
    "# Dividir datos entre training y test data\n",
    "\n",
    "from sklearn.model_selection import train_test_split\n",
    "X_train,X_test,Y_train,Y_test = train_test_split(X_new,profit,test_size=0.1,random_state=50)\n",
    "\n",
    "# Creamos minibatch para la fase de training\n",
    "\n",
    "import sys\n",
    "sys.path.append('../')\n",
    "from src.utils import UTIL_random_mini_batches \n",
    "\n",
    "minibatches = UTIL_random_mini_batches (X_train.T,Y_train.T, mini_batch_size=2**4)\n",
    "experiment_parameters = {'learning_rate' : [0.000099,0.00021],\n",
    "                         'steps' :10000 }\n",
    "\n",
    "for (X,Y) in minibatches:\n",
    "    iterations, vtheta = run_experiment (X.T,Y.T,vtheta,experiment_parameters)\n",
    "\n",
    "\n",
    "steps = np.arange (experiment_parameters['steps'])\n",
    "for iteration in range(len(iterations)):\n",
    "    costs = iterations[iteration]\n",
    "    plt.plot( steps , costs,label=str(experiment_parameters['learning_rate'][iteration]))\n",
    "\n",
    "plt.xlabel('steps')\n",
    "plt.ylabel('cost')\n",
    "plt.legend()\n",
    "plt.show()"
   ]
  },
  {
   "cell_type": "markdown",
   "metadata": {},
   "source": [
    "# SKLEARN DATA SET EXAMPLE - DIABETES"
   ]
  },
  {
   "cell_type": "code",
   "execution_count": 17,
   "metadata": {},
   "outputs": [
    {
     "name": "stderr",
     "output_type": "stream",
     "text": [
      "LR = 0.1: 100%|████████████████████████████████████████████████████████████████| 20000/20000 [00:02<00:00, 9169.37it/s]\n"
     ]
    },
    {
     "data": {
      "image/png": "[encoded data removed]",
      "text/plain": [
       "<Figure size 432x288 with 1 Axes>"
      ]
     },
     "metadata": {
      "needs_background": "light"
     },
     "output_type": "display_data"
    }
   ],
   "source": [
    "from sklearn import datasets\n",
    "from sklearn.metrics import mean_squared_error, r2_score\n",
    "from sklearn.model_selection import train_test_split\n",
    "import sys\n",
    "sys.path.append('../')\n",
    "\n",
    "\n",
    "diabetes_x,diabetes_y = datasets.load_diabetes(return_X_y=True)\n",
    "n = diabetes_x.shape [1]                         # número de features\n",
    "m = diabetes_x.shape [0]                         # número de muestras\n",
    "vtheta = LR_initVTheta (n)                       # Inicializo vtheta\n",
    "\n",
    "X_new = LR_getXMatrix (diabetes_x)          # Añadimos 1's para theta0\n",
    "\n",
    "# Dividir datos entre training y test data\n",
    "\n",
    "X_train,X_test,Y_train,Y_test = train_test_split(X_new,diabetes_y,test_size=0.1,random_state=50)\n",
    "Y_train = np.array(Y_train).reshape ((X_train.shape[0],1))\n",
    "\n",
    "experiment_parameters = {'learning_rate' : [0.1],\n",
    "                         'steps' :20000 }\n",
    "\n",
    "iterations, vtheta = run_experiment (X_train,Y_train,vtheta,experiment_parameters)\n",
    "  \n",
    "steps = np.arange (experiment_parameters['steps'])\n",
    "for iteration in range(len(iterations)):\n",
    "    costs = iterations[iteration]\n",
    "    plt.plot( steps , costs,label=str(experiment_parameters['learning_rate'][iteration]))\n",
    "\n",
    "plt.xlabel('steps')\n",
    "plt.ylabel('cost')\n",
    "plt.legend()\n",
    "plt.show()"
   ]
  },
  {
   "cell_type": "code",
   "execution_count": 18,
   "metadata": {},
   "outputs": [
    {
     "name": "stdout",
     "output_type": "stream",
     "text": [
      "[[ 152.06852041    4.81888518 -257.89915046  520.11481086  308.86125633\n",
      "   -48.97895116  -97.68436293 -202.73789573  124.97023733  443.84322469\n",
      "    89.31584722]]\n",
      "Mean Squared Error: 1934.22\n",
      "Coefficient of determination: 0.59\n"
     ]
    }
   ],
   "source": [
    "print (vtheta)\n",
    "diabetes_y_predict = LR_predict (X_test,vtheta)\n",
    "print ('Mean Squared Error: %.2f' % mean_squared_error(Y_test,diabetes_y_predict))\n",
    "print ('Coefficient of determination: %.2f' % r2_score(Y_test,diabetes_y_predict))"
   ]
  },
  {
   "cell_type": "code",
   "execution_count": 19,
   "metadata": {},
   "outputs": [
    {
     "name": "stdout",
     "output_type": "stream",
     "text": [
      "[[ 152.01195696    2.87985745 -271.6307714   516.97865631  320.2430435\n",
      "  -906.3230666   587.33809209  170.7351007   212.00453981  790.92969968\n",
      "    66.11228379]]\n",
      "Mean Squared Error: 1996.48\n",
      "Coefficient of determination: 0.57 \n"
     ]
    }
   ],
   "source": [
    "X = X_train\n",
    "Y = Y_train\n",
    "step1 = np.dot(X.T,X)\n",
    "step2 = np.linalg.inv(step1)\n",
    "step3 = np.dot (step2,X.T)\n",
    "theta = np.array(np.dot(step3,Y)).reshape (1,X.shape[1])\n",
    "diabetes_y_predict = LR_predict (X_test,theta)\n",
    "print (theta)\n",
    "print ('Mean Squared Error: %.2f' % mean_squared_error(Y_test,diabetes_y_predict))\n",
    "print ('Coefficient of determination: %.2f ' % r2_score(Y_test,diabetes_y_predict))"
   ]
  },
  {
   "cell_type": "code",
   "execution_count": null,
   "metadata": {},
   "outputs": [],
   "source": []
  }
 ],
 "metadata": {
  "kernelspec": {
   "display_name": "Python 3",
   "language": "python",
   "name": "python3"
  },
  "language_info": {
   "codemirror_mode": {
    "name": "ipython",
    "version": 3
   },
   "file_extension": ".py",
   "mimetype": "text/x-python",
   "name": "python",
   "nbconvert_exporter": "python",
   "pygments_lexer": "ipython3",
   "version": "3.8.2"
  }
 },
 "nbformat": 4,
 "nbformat_minor": 4
}
