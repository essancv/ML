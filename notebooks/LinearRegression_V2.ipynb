{
 "cells": [
  {
   "cell_type": "markdown",
   "metadata": {},
   "source": [
    "# Linear Regression"
   ]
  },
  {
   "cell_type": "markdown",
   "metadata": {},
   "source": [
    "## Hypothesis\n",
    "\n",
    "$h_\\theta (x) = \\theta_0 + \\theta_1 x_1 + \\theta_2 x_2 $ + ... , x_1, x_2 , ...x_n features"
   ]
  },
  {
   "cell_type": "markdown",
   "metadata": {},
   "source": [
    "## Cost Function (incluida regularization)\n",
    "$J(\\theta) = \\frac{1}{2m} [\\sum \\limits _{i=1} ^{m} (h_\\theta (x^{(i)} ) - y^{(i)} )^2  + \\lambda \\sum \\limits _{j=1} ^{n} \\theta_j^2]$"
   ]
  },
  {
   "cell_type": "markdown",
   "metadata": {},
   "source": [
    "## Goal\n",
    "\n",
    "$ minimize_\\theta J(\\theta) $"
   ]
  },
  {
   "cell_type": "markdown",
   "metadata": {},
   "source": [
    "## Gradiente (incluida regularization)\n",
    "\n",
    "$ Grad (\\theta_j) = \\frac{1}{m} \\sum \\limits _{i=1} ^{m} (h_\\theta (x^{(i)} ) - y^{(i)} ) x_j ^{(i)} + \\frac {\\lambda}{m}\\theta_j $\n",
    "\n",
    "$ \\theta_0 $ no se regulariza"
   ]
  },
  {
   "cell_type": "markdown",
   "metadata": {},
   "source": [
    "## Gradient Descent (incluida regularization)\n",
    "\n",
    "$ \\theta_j := \\theta_j - \\alpha Grad(\\theta_j) $\n",
    "\n",
    "$ \\theta_j := \\theta_j ( 1 - \\alpha \\frac {\\lambda}{m} ) -  \\alpha \\frac {1}{m} \\sum \\limits _{i=1} ^{m} (h_\\theta (x^{(i)} ) - y^{(i)} ) x_j ^{(i)} $\n"
   ]
  },
  {
   "cell_type": "markdown",
   "metadata": {},
   "source": [
    "## Linear Regression : Una variable"
   ]
  },
  {
   "cell_type": "markdown",
   "metadata": {},
   "source": [
    "### Preparamos y visualizamos los datos"
   ]
  },
  {
   "cell_type": "code",
   "execution_count": 4,
   "metadata": {},
   "outputs": [
    {
     "data": {
      "image/png": "[encoded data removed]",
      "text/plain": [
       "<Figure size 432x288 with 1 Axes>"
      ]
     },
     "metadata": {
      "needs_background": "light"
     },
     "output_type": "display_data"
    }
   ],
   "source": [
    "import numpy as np\n",
    "import sys\n",
    "sys.path.append ('../src') \n",
    "from LinearRegression import LinearRegression\n",
    "import matplotlib.pyplot as plt\n",
    "import pandas as pd\n",
    "\n",
    "\n",
    "%matplotlib inline\n",
    "\n",
    "# Leer los datos y visualizar\n",
    "\n",
    "import pandas as pd\n",
    "\n",
    "dataset =pd.read_csv('data/ex1data1.txt', sep=',',header=None)  # población, beneficio\n",
    "population = dataset.values [:,0:1]\n",
    "profit = dataset.values [:,1:2]\n",
    "\n",
    "data = {'a': population.reshape ((1,dataset.shape[0])),\n",
    "        'b':profit.reshape((1,dataset.shape[0]))\n",
    "       }\n",
    "plt.scatter('a', 'b', data=data)\n",
    "plt.xlabel('Population')\n",
    "plt.ylabel('Profit')\n",
    "plt.show()\n"
   ]
  },
  {
   "cell_type": "markdown",
   "metadata": {},
   "source": [
    "### Ejecutamos el algoritmo"
   ]
  },
  {
   "cell_type": "code",
   "execution_count": 5,
   "metadata": {},
   "outputs": [
    {
     "name": "stderr",
     "output_type": "stream",
     "text": [
      "LR = 0.0075: 100%|█████████████████████████████████████████████████████████████████| 600/600 [00:00<00:00, 8154.20it/s]\n"
     ]
    },
    {
     "name": "stdout",
     "output_type": "stream",
     "text": [
      "Mean Squared Error: 9.52\n",
      "Coefficient of determination: 0.68\n",
      "Mean Squared Error: 8.95\n",
      "Coefficient of determination: 0.70\n"
     ]
    },
    {
     "data": {
      "image/png": "[encoded data removed]",
      "text/plain": [
       "<Figure size 432x288 with 1 Axes>"
      ]
     },
     "metadata": {
      "needs_background": "light"
     },
     "output_type": "display_data"
    }
   ],
   "source": [
    "minibatch = False\n",
    "experiment_parameters = {'learning_rate' : 0.0075 , 'steps':600 , 'theta_init' : 'zeros','lambda':0.0, 'mini_batch_size':2**5}\n",
    "lr1 = LinearRegression(optimizer='GD',minibatch=minibatch,normalization=False,kargs=experiment_parameters)\n",
    "lr1.train (population,profit)\n",
    "lr2 = LinearRegression(optimizer='Normal',normalization=False)\n",
    "lr2.train (population,profit)\n",
    "\n",
    "if minibatch:\n",
    "    steps = np.arange (experiment_parameters['steps'] * len (lr1.minibatches)) \n",
    "else:\n",
    "    steps = np.arange (experiment_parameters['steps'] ) \n",
    "costs = lr1.costs\n",
    "plt.plot( steps , costs,label=str(experiment_parameters['learning_rate']))\n",
    "\n",
    "plt.xlabel('steps')\n",
    "plt.ylabel('cost')\n",
    "plt.legend()\n",
    "plt.show()\n"
   ]
  },
  {
   "cell_type": "markdown",
   "metadata": {},
   "source": [
    "### Comparamos nuestro modelo con los datos originales"
   ]
  },
  {
   "cell_type": "code",
   "execution_count": 6,
   "metadata": {},
   "outputs": [
    {
     "data": {
      "image/png": "[encoded data removed]",
      "text/plain": [
       "<Figure size 432x288 with 1 Axes>"
      ]
     },
     "metadata": {
      "needs_background": "light"
     },
     "output_type": "display_data"
    }
   ],
   "source": [
    "prediction = lr1.predict (population)\n",
    "\n",
    "data_a = {'a': population.reshape ((1,dataset.shape[0])),\n",
    "        'b':prediction.reshape((1,dataset.shape[0]))\n",
    "       }\n",
    "\n",
    "data_b = {'a': population.reshape ((1,dataset.shape[0])),\n",
    "        'b':profit.reshape((1,dataset.shape[0]))\n",
    "       }\n",
    "plt.scatter('a', 'b', data=data_b)\n",
    "plt.scatter('a', 'b', c='red',data=data_a)\n",
    "plt.xlabel('Population')\n",
    "plt.ylabel('Profit')\n",
    "plt.show()\n"
   ]
  },
  {
   "cell_type": "markdown",
   "metadata": {},
   "source": [
    "## Linear Regression : Multiples Variables"
   ]
  },
  {
   "cell_type": "code",
   "execution_count": 9,
   "metadata": {},
   "outputs": [],
   "source": [
    "dataset =pd.read_csv('data/ex1data2.txt', sep=',',header=None)  # size of house, #bedrooms,price\n",
    "X     = dataset.values [:,0:2]\n",
    "price = dataset.values  [:,2:3]"
   ]
  },
  {
   "cell_type": "code",
   "execution_count": 10,
   "metadata": {},
   "outputs": [
    {
     "name": "stderr",
     "output_type": "stream",
     "text": [
      "LR = 0.003: 100%|████████████████████████████████████████████████████████████████| 1500/1500 [00:00<00:00, 9452.21it/s]\n"
     ]
    },
    {
     "name": "stdout",
     "output_type": "stream",
     "text": [
      "Mean Squared Error: 4161931959.71\n",
      "Coefficient of determination: 0.73\n",
      "[[336656.50747404 102144.93814453   1730.39874617]]\n",
      "Mean Squared Error: 4086560101.21\n",
      "Coefficient of determination: 0.73\n",
      "[[340412.65957447 110631.05027885  -6649.47427082]]\n"
     ]
    },
    {
     "data": {
      "image/png": "[encoded data removed]",
      "text/plain": [
       "<Figure size 432x288 with 1 Axes>"
      ]
     },
     "metadata": {
      "needs_background": "light"
     },
     "output_type": "display_data"
    }
   ],
   "source": [
    "experiment_parameters = {'learning_rate' : 0.003 , 'steps':1500, 'theta_init' : 'zeros','lambda':0.0}\n",
    "\n",
    "lr1 = LinearRegression(optimizer='GD',kargs=experiment_parameters)\n",
    "lr1.train (X,price)\n",
    "print (lr1.vtheta)\n",
    "\n",
    "lr2 = LinearRegression(optimizer='Normal')\n",
    "lr2.train (X,price)\n",
    "print (lr2.vtheta)\n",
    "\n",
    "# Plotting costs for GD\n",
    "\n",
    "steps = np.arange (experiment_parameters['steps'])\n",
    "costs = lr1.costs\n",
    "plt.plot( steps , costs,label=str(experiment_parameters['learning_rate']))\n",
    "\n",
    "plt.xlabel('steps')\n",
    "plt.ylabel('cost')\n",
    "plt.legend()\n",
    "plt.show()"
   ]
  },
  {
   "cell_type": "markdown",
   "metadata": {},
   "source": [
    "## Polynomial Regression - adding features"
   ]
  },
  {
   "cell_type": "code",
   "execution_count": 11,
   "metadata": {},
   "outputs": [],
   "source": [
    "dataset =pd.read_csv('data/ex1data2.txt', sep=',',header=None)  # size of house, #bedrooms,price\n",
    "X_orig     = dataset.values [:,0:2]\n",
    "price = dataset.values  [:,2:3]\n",
    "\n",
    "#Creating new features x= [x1,x2,x1**2,x1*x2,x2**2,x1**3,x1**2 .... ]\n",
    "\n",
    "degree = 6\n",
    "X = None\n",
    "index = 0\n",
    "for i in range(degree+1):\n",
    "    for j in  range (i+1):\n",
    "        new_column =  X_orig[:,0:1]**(i-j) * X_orig[:,1:2]**(j)\n",
    "        if X is None: \n",
    "            X = new_column\n",
    "        else:\n",
    "            X = np.concatenate((X,new_column),axis=1)   \n",
    "        index += 1\n",
    "X = np.delete (X,0,axis=1)\n"
   ]
  },
  {
   "cell_type": "code",
   "execution_count": 12,
   "metadata": {},
   "outputs": [
    {
     "name": "stderr",
     "output_type": "stream",
     "text": [
      "LR = 0.003: 100%|████████████████████████████████████████████████████████████████| 1500/1500 [00:00<00:00, 8977.48it/s]\n"
     ]
    },
    {
     "name": "stdout",
     "output_type": "stream",
     "text": [
      "Mean Squared Error: 3926711035.96\n",
      "Coefficient of determination: 0.74\n",
      "Mean Squared Error: 8736967227.46\n",
      "Coefficient of determination: 0.43\n"
     ]
    },
    {
     "data": {
      "image/png": "[encoded data removed]",
      "text/plain": [
       "<Figure size 432x288 with 1 Axes>"
      ]
     },
     "metadata": {
      "needs_background": "light"
     },
     "output_type": "display_data"
    }
   ],
   "source": [
    "experiment_parameters = {'learning_rate' : 0.003 , 'steps':1500, 'theta_init' : 'zeros','lambda':0.9}\n",
    "lr1 = LinearRegression(optimizer='GD',kargs=experiment_parameters)\n",
    "lr1.train (X,price)\n",
    "\n",
    "\n",
    "lr2 = LinearRegression(optimizer='Normal')\n",
    "lr2.train (X,price)\n",
    "\n",
    "# Plotting costs for GD\n",
    "\n",
    "steps = np.arange (experiment_parameters['steps'])\n",
    "costs = lr1.costs\n",
    "plt.plot( steps , costs,label=str(experiment_parameters['learning_rate']))\n",
    "\n",
    "plt.xlabel('steps')\n",
    "plt.ylabel('cost')\n",
    "plt.legend()\n",
    "plt.show()\n"
   ]
  },
  {
   "cell_type": "markdown",
   "metadata": {},
   "source": [
    "## BOSTON HOUSING DATASET"
   ]
  },
  {
   "cell_type": "code",
   "execution_count": 13,
   "metadata": {
    "scrolled": true
   },
   "outputs": [],
   "source": [
    "from sklearn.datasets import load_boston\n",
    "from sklearn.model_selection import train_test_split\n",
    "boston = load_boston ()\n",
    "X = boston.data\n",
    "Y = np.array(boston.target).reshape (len(boston.target),1)\n",
    "\n",
    "X_train,X_test,Y_train,Y_test = train_test_split(X,Y,test_size=0.2,random_state=50)\n",
    "\n"
   ]
  },
  {
   "cell_type": "code",
   "execution_count": 14,
   "metadata": {},
   "outputs": [
    {
     "name": "stderr",
     "output_type": "stream",
     "text": [
      "LR = 0.05999: 100%|█████████████████████████████████████████████████████████████████| 75/75 [00:00<00:00, 18639.14it/s]"
     ]
    },
    {
     "name": "stdout",
     "output_type": "stream",
     "text": [
      "Mean Squared Error: 22.31\n",
      "Coefficient of determination: 0.74\n",
      "Mean Squared Error: 21.29\n",
      "Coefficient of determination: 0.75\n"
     ]
    },
    {
     "name": "stderr",
     "output_type": "stream",
     "text": [
      "\n"
     ]
    }
   ],
   "source": [
    "experiment_parameters_norm = {'learning_rate' : 0.05999 , 'steps':75, 'theta_init' : 'zeros','lambda':0.0,'mini_batch_size':2**12}\n",
    "experiment_parameters_no_norm = {'learning_rate' : 0.00000639 , 'steps':500000, 'theta_init' : 'zeros','lambda':0.0,'mini_batch_size':2**16}\n",
    "\n",
    "lr1 = LinearRegression(optimizer='GD',minibatch=False,kargs=experiment_parameters_norm)\n",
    "lr1.train (X_train,Y_train)\n",
    "\n",
    "lr2 = LinearRegression(optimizer='Normal')\n",
    "lr2.train (X_train,Y_train)\n"
   ]
  },
  {
   "cell_type": "code",
   "execution_count": 15,
   "metadata": {},
   "outputs": [
    {
     "name": "stdout",
     "output_type": "stream",
     "text": [
      "Mean Squared Error: 26.91\n",
      "Coefficient of determination: 0.65\n"
     ]
    }
   ],
   "source": [
    "from sklearn.metrics import mean_squared_error, r2_score\n",
    "\n",
    "prediction = lr1.predict (X_test)\n",
    "print ('Mean Squared Error: %.2f' % mean_squared_error(Y_test,prediction))\n",
    "print ('Coefficient of determination: %.2f' % r2_score(Y_test,prediction))\n"
   ]
  },
  {
   "cell_type": "code",
   "execution_count": 16,
   "metadata": {},
   "outputs": [
    {
     "data": {
      "image/png": "[encoded data removed]",
      "text/plain": [
       "<Figure size 432x288 with 1 Axes>"
      ]
     },
     "metadata": {
      "needs_background": "light"
     },
     "output_type": "display_data"
    }
   ],
   "source": [
    "# Plotting costs for GD\n",
    "\n",
    "steps = np.arange (experiment_parameters_norm['steps'])\n",
    "costs = lr1.costs\n",
    "plt.plot( steps , costs,label=str(experiment_parameters_norm['learning_rate']))\n",
    "\n",
    "plt.xlabel('steps')\n",
    "plt.ylabel('cost')\n",
    "plt.legend()\n",
    "plt.show()\n"
   ]
  },
  {
   "cell_type": "code",
   "execution_count": null,
   "metadata": {},
   "outputs": [],
   "source": []
  }
 ],
 "metadata": {
  "kernelspec": {
   "display_name": "Python 3",
   "language": "python",
   "name": "python3"
  },
  "language_info": {
   "codemirror_mode": {
    "name": "ipython",
    "version": 3
   },
   "file_extension": ".py",
   "mimetype": "text/x-python",
   "name": "python",
   "nbconvert_exporter": "python",
   "pygments_lexer": "ipython3",
   "version": "3.8.2"
  }
 },
 "nbformat": 4,
 "nbformat_minor": 4
}
