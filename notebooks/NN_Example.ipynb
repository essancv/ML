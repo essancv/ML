{
 "cells": [
  {
   "cell_type": "code",
   "execution_count": 1,
   "metadata": {},
   "outputs": [],
   "source": [
    "import scipy.io #Used to load the OCTAVE *.mat files\n",
    "import numpy as np\n",
    "import sys\n",
    "sys.path.append ('../src')\n",
    "from NeuralNetwork import NNClassifier\n",
    "from ML_utils import UTIL_formatY,backward_prop,backpropagation\n",
    "from sklearn.metrics import accuracy_score\n",
    "from sklearn.model_selection import train_test_split\n",
    "from sklearn.metrics import multilabel_confusion_matrix,classification_report\n"
   ]
  },
  {
   "cell_type": "code",
   "execution_count": 6,
   "metadata": {},
   "outputs": [
    {
     "name": "stdout",
     "output_type": "stream",
     "text": [
      "\"X_train\" shape:(3500, 401).X[0] shape:(401,)\n",
      "\"y_train\" shape:(3500, 10). Unique elements in y:[0. 1.]\n",
      "\"X_test\" shape:(1500, 401).X[0] shape:(401,)\n",
      "\"y_test\" shape:(1500, 10). Unique elements in y:[0. 1.]\n",
      "[[ 1.00000000e+00  0.00000000e+00  0.00000000e+00  0.00000000e+00\n",
      "   0.00000000e+00  0.00000000e+00  0.00000000e+00  0.00000000e+00\n",
      "   0.00000000e+00  0.00000000e+00  0.00000000e+00  0.00000000e+00\n",
      "   0.00000000e+00  0.00000000e+00  0.00000000e+00  0.00000000e+00\n",
      "   0.00000000e+00  0.00000000e+00  0.00000000e+00  0.00000000e+00\n",
      "   0.00000000e+00  0.00000000e+00  0.00000000e+00  0.00000000e+00\n",
      "   0.00000000e+00  0.00000000e+00  0.00000000e+00  0.00000000e+00\n",
      "   0.00000000e+00  0.00000000e+00  0.00000000e+00  0.00000000e+00\n",
      "   0.00000000e+00  0.00000000e+00  0.00000000e+00  0.00000000e+00\n",
      "   0.00000000e+00  0.00000000e+00  0.00000000e+00  0.00000000e+00\n",
      "   0.00000000e+00  0.00000000e+00  0.00000000e+00  0.00000000e+00\n",
      "   0.00000000e+00  0.00000000e+00  0.00000000e+00  0.00000000e+00\n",
      "   0.00000000e+00  0.00000000e+00  0.00000000e+00  0.00000000e+00\n",
      "   0.00000000e+00  0.00000000e+00  0.00000000e+00  0.00000000e+00\n",
      "   0.00000000e+00  0.00000000e+00  0.00000000e+00  0.00000000e+00\n",
      "   0.00000000e+00  0.00000000e+00  0.00000000e+00  0.00000000e+00\n",
      "   0.00000000e+00  0.00000000e+00  0.00000000e+00  0.00000000e+00\n",
      "   0.00000000e+00  0.00000000e+00  0.00000000e+00  0.00000000e+00\n",
      "   0.00000000e+00  0.00000000e+00  0.00000000e+00  0.00000000e+00\n",
      "   0.00000000e+00  0.00000000e+00  0.00000000e+00  0.00000000e+00\n",
      "   0.00000000e+00  0.00000000e+00  0.00000000e+00  0.00000000e+00\n",
      "   0.00000000e+00  0.00000000e+00  0.00000000e+00  0.00000000e+00\n",
      "   0.00000000e+00  0.00000000e+00  0.00000000e+00  2.98671763e-18\n",
      "   1.65441176e-04 -4.49492479e-03 -8.10661765e-03 -8.07904412e-03\n",
      "  -7.13694853e-03 -1.66053922e-03  2.12791977e-04  0.00000000e+00\n",
      "   0.00000000e+00  0.00000000e+00  0.00000000e+00  0.00000000e+00\n",
      "   8.74237139e-18  4.90196078e-04 -3.58540986e-03 -1.46437568e-02\n",
      "  -2.11212344e-03  2.97862200e-04  1.18639061e-17  8.08483115e-04\n",
      "  -9.59729031e-03 -3.94623130e-03  1.89719499e-02  1.88347631e-02\n",
      "   1.42127928e-02  6.85593682e-04 -1.57351922e-04  0.00000000e+00\n",
      "   0.00000000e+00  0.00000000e+00  0.00000000e+00  2.97582651e-04\n",
      "  -2.05337691e-03 -2.01805896e-02  2.27071419e-02  1.63492817e-01\n",
      "   2.44950267e-02 -3.17980664e-03 -2.43140659e-03 -2.73510689e-02\n",
      "   6.96342252e-02  5.37507168e-01  6.82882455e-01  6.78856550e-01\n",
      "   6.28987354e-01  1.77849265e-01 -2.19554849e-02  0.00000000e+00\n",
      "   0.00000000e+00  0.00000000e+00  1.54906037e-04 -1.74883306e-03\n",
      "  -1.63139497e-02  2.13480868e-01  7.88751478e-01  5.74925553e-01\n",
      "   2.87240439e-02 -9.24323645e-03 -2.86289117e-03  3.26683041e-01\n",
      "   8.38498176e-01  9.79211844e-01  1.02129861e+00  1.05444025e+00\n",
      "   9.74427697e-01  2.48558117e-01 -3.12609502e-02  0.00000000e+00\n",
      "   0.00000000e+00  0.00000000e+00 -8.29588780e-04 -2.26056826e-02\n",
      "   2.62175177e-01  8.66689236e-01  6.73883459e-01  8.37413365e-02\n",
      "  -1.29084628e-02 -1.40346541e-02  1.82722307e-01  9.45617698e-01\n",
      "   1.02336722e+00  8.70772067e-01  9.42526331e-01  1.01844753e+00\n",
      "   6.13565087e-01  5.42359069e-02 -9.39464351e-03  0.00000000e+00\n",
      "   0.00000000e+00  0.00000000e+00 -1.09776688e-02  4.78927004e-02\n",
      "   7.69194002e-01  8.72037871e-01  7.87657782e-02 -1.80474707e-02\n",
      "   1.22059843e-03 -1.07715142e-02  7.50129187e-02  8.21491881e-01\n",
      "   1.00542182e+00  1.00840522e+00  1.02133083e+00  8.26680130e-01\n",
      "   7.62176266e-02 -1.86829385e-02  1.10513228e-03  0.00000000e+00\n",
      "   0.00000000e+00  0.00000000e+00 -2.08466095e-02  3.11202135e-01\n",
      "   1.04206863e+00  4.98985345e-01 -2.15272161e-02 -5.52306304e-03\n",
      "  -2.25353974e-02 -2.61281658e-02  4.79423169e-02  6.12788603e-01\n",
      "   1.02837708e+00  9.76257100e-01  9.60763480e-01  9.92223295e-01\n",
      "   3.96841299e-01 -1.77348516e-02 -8.32416127e-04  0.00000000e+00\n",
      "   0.00000000e+00  0.00000000e+00 -2.07975899e-02  7.13436128e-01\n",
      "   8.71977056e-01  1.40483984e-01 -4.72117715e-02  2.33634259e-02\n",
      "   2.03322870e-01  5.18528629e-01  7.42933432e-01  1.03236360e+00\n",
      "   8.46959116e-01  3.84564004e-01  3.52103384e-01  8.97999983e-01\n",
      "   8.63778629e-01  1.71162411e-01 -2.26325873e-02  0.00000000e+00\n",
      "   0.00000000e+00  0.00000000e+00 -2.14690935e-02  6.16205063e-01\n",
      "   9.76272200e-01  7.69872287e-01  7.41891603e-01  8.13359915e-01\n",
      "   9.49861023e-01  9.84744864e-01  9.36045446e-01  4.65655871e-01\n",
      "   1.22206273e-01 -2.61110661e-02 -4.41792698e-02  4.67874254e-01\n",
      "   1.05363732e+00  4.18437368e-01 -4.87362632e-02  0.00000000e+00\n",
      "   0.00000000e+00  0.00000000e+00 -1.48893655e-02  2.26865514e-01\n",
      "   7.66826219e-01  8.80449687e-01  9.83404752e-01  8.29557496e-01\n",
      "   5.66658055e-01  3.10423730e-01  1.51144642e-01 -1.83748638e-02\n",
      "  -1.56636370e-02 -1.98745125e-03 -2.05278799e-02  2.49044935e-01\n",
      "   1.04062772e+00  4.40385553e-01 -5.08360850e-02  0.00000000e+00\n",
      "   0.00000000e+00  0.00000000e+00 -1.03009259e-03 -7.34251220e-03\n",
      "   7.34211772e-02  1.52797692e-01  2.23542841e-01  1.12418011e-01\n",
      "  -2.07181390e-02 -3.24917450e-02 -1.50599129e-02 -2.63820806e-04\n",
      "   9.44648693e-05  0.00000000e+00 -2.10998775e-02  3.23586703e-01\n",
      "   9.24010536e-01  2.42640217e-01 -3.00244588e-02  0.00000000e+00\n",
      "   0.00000000e+00  0.00000000e+00  2.38970588e-04 -1.41280421e-03\n",
      "  -1.43072917e-02 -2.31709559e-02 -3.11798407e-02 -1.86541054e-02\n",
      "  -2.98795402e-03  3.73774510e-04  0.00000000e+00  0.00000000e+00\n",
      "   0.00000000e+00  0.00000000e+00 -3.28577921e-02  5.68285829e-01\n",
      "   5.79020101e-01 -1.49614651e-02 -1.87925482e-03  0.00000000e+00\n",
      "   0.00000000e+00  0.00000000e+00  0.00000000e+00  0.00000000e+00\n",
      "   0.00000000e+00  0.00000000e+00  0.00000000e+00  0.00000000e+00\n",
      "   0.00000000e+00  0.00000000e+00  0.00000000e+00  0.00000000e+00\n",
      "   0.00000000e+00  0.00000000e+00 -9.60702614e-03  1.72237575e-01\n",
      "   6.35310458e-02 -6.45782271e-03  2.51926134e-04  0.00000000e+00\n",
      "   0.00000000e+00  0.00000000e+00  0.00000000e+00  0.00000000e+00\n",
      "   0.00000000e+00  0.00000000e+00  0.00000000e+00  0.00000000e+00\n",
      "   0.00000000e+00  0.00000000e+00  0.00000000e+00  0.00000000e+00\n",
      "   0.00000000e+00  0.00000000e+00  1.17280176e-03 -2.08850026e-02\n",
      "  -1.01271860e-02  6.16362969e-04  0.00000000e+00  0.00000000e+00\n",
      "   0.00000000e+00  0.00000000e+00  0.00000000e+00  0.00000000e+00\n",
      "   0.00000000e+00  0.00000000e+00  0.00000000e+00  0.00000000e+00\n",
      "   0.00000000e+00  0.00000000e+00  0.00000000e+00  0.00000000e+00\n",
      "   0.00000000e+00  0.00000000e+00  0.00000000e+00  0.00000000e+00\n",
      "   0.00000000e+00  0.00000000e+00  0.00000000e+00  0.00000000e+00\n",
      "   0.00000000e+00  0.00000000e+00  0.00000000e+00  0.00000000e+00\n",
      "   0.00000000e+00  0.00000000e+00  0.00000000e+00  0.00000000e+00\n",
      "   0.00000000e+00  0.00000000e+00  0.00000000e+00  0.00000000e+00\n",
      "   0.00000000e+00  0.00000000e+00  0.00000000e+00  0.00000000e+00\n",
      "   0.00000000e+00  0.00000000e+00  0.00000000e+00  0.00000000e+00\n",
      "   0.00000000e+00]]\n"
     ]
    }
   ],
   "source": [
    "# lEEMOS LOS DATOS PARA TRAINING Y LOS PREPARAMOS \n",
    "\n",
    "fileName = 'data/ex4data1.mat'\n",
    "mat = scipy.io.loadmat(fileName)\n",
    "\n",
    "X = mat['X']\n",
    "Y = mat['y']\n",
    "X = np.insert(X,0,1,axis=1)\n",
    "Y = Y - 1  #Y[Y==10]=0   # convert 10 to 0\n",
    "fY = UTIL_formatY (Y,num_labels=10)   # Pasamos de y=[3] a fY=[0 0 0 1 0 0 0 0 0]\n",
    "\n",
    "# DIVIDIMOS LOS DATOS EN TRAINING Y TEST SET\n",
    "\n",
    "X_train,X_test,fY_train,fY_test = train_test_split(X,fY,test_size=0.3,random_state=50)\n",
    "\n",
    "print ('\"X_train\" shape:%s.X[0] shape:%s' %(X_train.shape,X[0].shape))\n",
    "print ('\"y_train\" shape:%s. Unique elements in y:%s' %(fY_train.shape,np.unique(fY_train)))\n",
    "print ('\"X_test\" shape:%s.X[0] shape:%s' %(X_test.shape,X[0].shape))\n",
    "print ('\"y_test\" shape:%s. Unique elements in y:%s' %(fY_test.shape,np.unique(fY_test)))"
   ]
  },
  {
   "cell_type": "code",
   "execution_count": 5,
   "metadata": {},
   "outputs": [
    {
     "name": "stderr",
     "output_type": "stream",
     "text": [
      "LR = 0.035:  12%|████████▎                                                          | 374/3000 [00:13<01:32, 28.53it/s]\n"
     ]
    },
    {
     "ename": "AssertionError",
     "evalue": "No parece que SGD esté convergiendo revisa alpha 9.333333333333334e-05,cost 3.252459914217514iteration 374",
     "output_type": "error",
     "traceback": [
      "\u001b[1;31m---------------------------------------------------------------------------\u001b[0m",
      "\u001b[1;31mAssertionError\u001b[0m                            Traceback (most recent call last)",
      "\u001b[1;32m<ipython-input-5-6817e925696c>\u001b[0m in \u001b[0;36m<module>\u001b[1;34m\u001b[0m\n\u001b[0;32m      6\u001b[0m \u001b[0mmethod\u001b[0m \u001b[1;33m=\u001b[0m \u001b[1;34m'SGD'\u001b[0m\u001b[1;33m\u001b[0m\u001b[1;33m\u001b[0m\u001b[0m\n\u001b[0;32m      7\u001b[0m \u001b[0mnn\u001b[0m \u001b[1;33m=\u001b[0m \u001b[0mNNClassifier\u001b[0m\u001b[1;33m(\u001b[0m\u001b[0moptimization\u001b[0m\u001b[1;33m=\u001b[0m\u001b[0mmethod\u001b[0m\u001b[1;33m,\u001b[0m\u001b[0mnn_config\u001b[0m\u001b[1;33m=\u001b[0m\u001b[0mnn_config\u001b[0m\u001b[1;33m,\u001b[0m\u001b[0mdebug\u001b[0m\u001b[1;33m=\u001b[0m\u001b[1;32mFalse\u001b[0m\u001b[1;33m,\u001b[0m\u001b[0mkargs\u001b[0m\u001b[1;33m=\u001b[0m\u001b[0msgd_dict\u001b[0m\u001b[1;33m)\u001b[0m\u001b[1;33m\u001b[0m\u001b[1;33m\u001b[0m\u001b[0m\n\u001b[1;32m----> 8\u001b[1;33m \u001b[0mcosts\u001b[0m \u001b[1;33m=\u001b[0m \u001b[0mnn\u001b[0m\u001b[1;33m.\u001b[0m\u001b[0moptimize\u001b[0m \u001b[1;33m(\u001b[0m\u001b[0mX_train\u001b[0m\u001b[1;33m,\u001b[0m\u001b[0mfY_train\u001b[0m\u001b[1;33m,\u001b[0m\u001b[0ml2_lambda\u001b[0m\u001b[1;33m=\u001b[0m\u001b[1;36m0.0\u001b[0m\u001b[1;33m)\u001b[0m\u001b[1;33m\u001b[0m\u001b[1;33m\u001b[0m\u001b[0m\n\u001b[0m\u001b[0;32m      9\u001b[0m \u001b[0mprediction\u001b[0m\u001b[1;33m,\u001b[0m\u001b[0m_\u001b[0m \u001b[1;33m=\u001b[0m \u001b[0mnn\u001b[0m\u001b[1;33m.\u001b[0m\u001b[0mforward_prop\u001b[0m \u001b[1;33m(\u001b[0m\u001b[0mX_train\u001b[0m\u001b[1;33m)\u001b[0m\u001b[1;33m\u001b[0m\u001b[1;33m\u001b[0m\u001b[0m\n\u001b[0;32m     10\u001b[0m \u001b[0mresult\u001b[0m \u001b[1;33m=\u001b[0m \u001b[0mnp\u001b[0m\u001b[1;33m.\u001b[0m\u001b[0margmax\u001b[0m\u001b[1;33m(\u001b[0m\u001b[0mprediction\u001b[0m\u001b[1;33m,\u001b[0m\u001b[0maxis\u001b[0m\u001b[1;33m=\u001b[0m\u001b[1;36m1\u001b[0m\u001b[1;33m)\u001b[0m\u001b[1;33m.\u001b[0m\u001b[0mreshape\u001b[0m\u001b[1;33m(\u001b[0m\u001b[1;33m-\u001b[0m\u001b[1;36m1\u001b[0m\u001b[1;33m,\u001b[0m\u001b[1;36m1\u001b[0m\u001b[1;33m)\u001b[0m\u001b[1;33m\u001b[0m\u001b[1;33m\u001b[0m\u001b[0m\n",
      "\u001b[1;32mC:\\Tutoriales\\ia\\MachineLearning\\ML\\src\\NeuralNetwork.py\u001b[0m in \u001b[0;36moptimize\u001b[1;34m(self, X, Y, l2_lambda)\u001b[0m\n\u001b[0;32m    126\u001b[0m                     \u001b[0mprev_cost\u001b[0m \u001b[1;33m=\u001b[0m \u001b[0mcost\u001b[0m\u001b[1;33m\u001b[0m\u001b[1;33m\u001b[0m\u001b[0m\n\u001b[0;32m    127\u001b[0m \u001b[1;33m\u001b[0m\u001b[0m\n\u001b[1;32m--> 128\u001b[1;33m                 \u001b[1;32massert\u001b[0m \u001b[0mnot_convergency_counter\u001b[0m \u001b[1;33m<=\u001b[0m \u001b[1;36m10\u001b[0m \u001b[1;33m,\u001b[0m \u001b[1;34m'No parece que SGD esté convergiendo revisa alpha '\u001b[0m \u001b[1;33m+\u001b[0m \u001b[0mstr\u001b[0m\u001b[1;33m(\u001b[0m\u001b[0mlr\u001b[0m\u001b[1;33m/\u001b[0m\u001b[1;33m(\u001b[0m\u001b[0mi\u001b[0m\u001b[1;33m+\u001b[0m\u001b[1;36m1\u001b[0m\u001b[1;33m)\u001b[0m\u001b[1;33m)\u001b[0m \u001b[1;33m+\u001b[0m \u001b[1;34m',cost '\u001b[0m \u001b[1;33m+\u001b[0m \u001b[0mstr\u001b[0m\u001b[1;33m(\u001b[0m\u001b[0mcost\u001b[0m\u001b[1;33m)\u001b[0m \u001b[1;33m+\u001b[0m \u001b[1;34m'iteration '\u001b[0m \u001b[1;33m+\u001b[0m \u001b[0mstr\u001b[0m\u001b[1;33m(\u001b[0m\u001b[0mi\u001b[0m\u001b[1;33m)\u001b[0m\u001b[1;33m\u001b[0m\u001b[1;33m\u001b[0m\u001b[0m\n\u001b[0m\u001b[0;32m    129\u001b[0m \u001b[1;33m\u001b[0m\u001b[0m\n\u001b[0;32m    130\u001b[0m                 \u001b[0mcosts\u001b[0m\u001b[1;33m.\u001b[0m\u001b[0mappend\u001b[0m \u001b[1;33m(\u001b[0m\u001b[0mcost\u001b[0m\u001b[1;33m)\u001b[0m\u001b[1;33m\u001b[0m\u001b[1;33m\u001b[0m\u001b[0m\n",
      "\u001b[1;31mAssertionError\u001b[0m: No parece que SGD esté convergiendo revisa alpha 9.333333333333334e-05,cost 3.252459914217514iteration 374"
     ]
    }
   ],
   "source": [
    "# ENTRENAMOS LA RED NEURONAL\n",
    "\n",
    "nn_config={'n_a1':400,'n_a2':25,'n_a3':10 }   # Configuración de red NN , input layer , hidder layers , output layer\n",
    "sgd_dict =   {'steps':3000,'learning_rate':0.035}\n",
    "opt_dict =   {}\n",
    "method = 'SGD'\n",
    "nn = NNClassifier(optimization=method,nn_config=nn_config,debug=False,kargs=sgd_dict)\n",
    "costs = nn.optimize (X_train,fY_train,l2_lambda=0.0)\n",
    "prediction,_ = nn.forward_prop (X_train)\n",
    "result = np.argmax(prediction,axis=1).reshape(-1,1)\n",
    "y = np.argmax(fY_train,axis=1).reshape(-1,1)\n",
    "accuracy = np.mean(y==result) * 100\n",
    "print ('Trainig set accuracy :' , accuracy  )\n",
    "\n",
    "test_predicted,_ = nn.forward_prop (X_test)\n",
    "result = np.argmax(test_predicted,axis=1).reshape(-1,1)\n",
    "y = np.argmax(fY_test,axis=1).reshape(-1,1)\n",
    "accuracy = np.mean(y==result) * 100\n",
    "print ('Test set accuracy :' , accuracy  )\n",
    "\n",
    "print(f\"Classification report for classifier {nn}:\\n\"\n",
    "      f\"{classification_report(y,result)}\\n\")"
   ]
  },
  {
   "cell_type": "code",
   "execution_count": 4,
   "metadata": {},
   "outputs": [
    {
     "data": {
      "image/png": "[encoded data removed]",
      "text/plain": [
       "<Figure size 432x288 with 1 Axes>"
      ]
     },
     "metadata": {
      "needs_background": "light"
     },
     "output_type": "display_data"
    }
   ],
   "source": [
    "import matplotlib.pyplot as plt\n",
    "%matplotlib inline\n",
    "if method == 'Optimize':\n",
    "    steps = np.arange (len(costs))\n",
    "    plt.plot( steps , costs,label='Optimize method')\n",
    "else:\n",
    "    steps = np.arange (sgd_dict['steps'])\n",
    "    plt.plot( steps , costs,label='SGD - LR ' + str(sgd_dict['learning_rate']))\n",
    "plt.xlabel('steps')\n",
    "plt.ylabel('cost')\n",
    "plt.legend()\n",
    "plt.show()"
   ]
  },
  {
   "cell_type": "code",
   "execution_count": null,
   "metadata": {},
   "outputs": [
    {
     "name": "stderr",
     "output_type": "stream",
     "text": [
      "../src\\ML_utils.py:103: RuntimeWarning: overflow encountered in exp\n",
      "  return 1 / (1 + np.exp (-Z))\n"
     ]
    }
   ],
   "source": [
    "from sklearn.metrics import accuracy_score\n",
    "\n",
    "fY = UTIL_formatY (Y,num_labels=10)\n",
    "nn.optimize (X,fY)\n",
    "prediction,cache = nn.forward_prop (X)\n",
    "prediction[prediction >= 0.5] = 1\n",
    "prediction[prediction < 0.5] = 0\n",
    "accuracy = accuracy_score (fY.flatten(),prediction.flatten())\n",
    "print (accuracy)\n"
   ]
  },
  {
   "cell_type": "code",
   "execution_count": 5,
   "metadata": {},
   "outputs": [],
   "source": [
    "l2_lambda=1.0\n",
    "fY = UTIL_formatY (Y,10)\n",
    "nn = NNClassifier()\n",
    "\n",
    "#nn.checkGradient(10,)\n",
    "prediction, cache = nn.forward_prop (X)\n",
    "cost = nn.costFunction (X,fY,l2_lambda=l2_lambda)\n",
    "deltas,grads = nn.backward_prop (X,fY,l2_lambda=l2_lambda)"
   ]
  },
  {
   "cell_type": "code",
   "execution_count": 6,
   "metadata": {},
   "outputs": [],
   "source": [
    "# Testing \n",
    "l2_lambda=1.0\n",
    "paramFile = 'data/ex4weights.mat'\n",
    "params = scipy.io.loadmat(paramFile)\n",
    "Theta1 = params['Theta1']\n",
    "Theta2 = params['Theta2']\n",
    "nn = NNClassifier()\n",
    "nn.thetas ['Theta1'] = Theta1\n",
    "nn.thetas ['Theta2'] = Theta2\n",
    "prediction, cache = nn.forward_prop (X)\n",
    "cost = nn.costFunction (X,fY,l2_lambda=l2_lambda)\n",
    "nnmideltas,nngrads = nn.backward_prop (X,fY,l2_lambda=l2_lambda)"
   ]
  },
  {
   "cell_type": "code",
   "execution_count": 7,
   "metadata": {},
   "outputs": [
    {
     "name": "stdout",
     "output_type": "stream",
     "text": [
      "0.384487796242894\n"
     ]
    }
   ],
   "source": [
    "print (cost)"
   ]
  },
  {
   "cell_type": "code",
   "execution_count": 8,
   "metadata": {},
   "outputs": [
    {
     "name": "stdout",
     "output_type": "stream",
     "text": [
      "the type of nn_params in reshapeParams is:<class 'numpy.ndarray'>\n",
      "Sigmoid gradient - shapes X (5000, 401) theta (25, 401) sigrad (5000, 25)\n",
      "Grad2 shapes delta3 (5000, 10) a2 (5000, 26), grad2 (10, 26) \n"
     ]
    }
   ],
   "source": [
    "mylambda = 1.0\n",
    "input_layer_size = 400\n",
    "hidden_layer_size = 25\n",
    "num_labels = 10\n",
    "grad ,deltas= backpropagation(np.append(Theta1.flatten(),Theta2.flatten()),  X, Y, mylambda,input_layer_size, hidden_layer_size,num_labels)\n",
    "assert np.array_equal (deltas['delta3'],nnmideltas['delta3'])\n",
    "assert np.array_equal (deltas['delta2'],nnmideltas['delta2'])\n",
    "assert np.array_equal (deltas['grad2'],nngrads['grad2'])\n",
    "assert np.array_equal (deltas['grad1'],nngrads['grad1'])"
   ]
  },
  {
   "cell_type": "code",
   "execution_count": 9,
   "metadata": {},
   "outputs": [
    {
     "name": "stdout",
     "output_type": "stream",
     "text": [
      "the type of nn_params in reshapeParams is:<class 'numpy.ndarray'>\n",
      "Sigmoid gradient - shapes X (5000, 401) theta (25, 401) sigrad (5000, 25)\n",
      "Grad2 shapes delta3 (5000, 10) a2 (5000, 26), grad2 (10, 26) \n",
      "Prediction shape (5000, 10)\n",
      "Y shape (5000, 10)\n",
      "Calculating delta layer  2\n",
      "gprima_z shape (5000, 25)\n",
      "deltai shape (5000, 10)\n",
      "deltaiPREV shape (5000, 25)\n",
      "Calculating grad2  2\n",
      "Grad 2 shapes delta3 (5000, 10) a2 (5000, 26) , theta1 (10, 25), grad shape (10, 26) \n",
      "Calculating grad2  1\n",
      "Grad 1 shapes delta2 (5000, 25) a1 (5000, 401) , theta0 (25, 400), grad shape (25, 401) \n"
     ]
    }
   ],
   "source": [
    "mylambda = 1.0\n",
    "Thetas = [Theta1,Theta2]\n",
    "grad ,deltas= backpropagation(np.append(Theta1.flatten(),Theta2.flatten()),  X, Y, mylambda,input_layer_size, hidden_layer_size,num_labels)\n",
    "mideltas , grads = backward_prop (X,fY,Thetas,l2_lambda=mylambda)\n",
    "assert np.array_equal (deltas['delta3'],mideltas['delta3'])\n",
    "assert np.array_equal (deltas['delta2'],mideltas['delta2'])\n",
    "assert np.array_equal (deltas['grad2'],grads['grad2'])\n",
    "assert np.array_equal (deltas['grad1'],grads['grad1'])"
   ]
  },
  {
   "cell_type": "code",
   "execution_count": 15,
   "metadata": {},
   "outputs": [
    {
     "name": "stdout",
     "output_type": "stream",
     "text": [
      "Classification report for classifier SVC(gamma=0.001):\n",
      "              precision    recall  f1-score   support\n",
      "\n",
      "           0       0.00      0.00      0.00       0.0\n",
      "           1       0.00      0.00      0.00       0.0\n",
      "           2       0.00      0.00      0.00       0.0\n",
      "           3       0.00      0.00      0.00       0.0\n",
      "           4       0.00      0.00      0.00     500.0\n",
      "           5       0.00      0.00      0.00     500.0\n",
      "           6       0.00      0.00      0.00     500.0\n",
      "           7       0.00      0.00      0.00     500.0\n",
      "           8       0.00      0.00      0.00     500.0\n",
      "           9       0.00      0.00      0.00       0.0\n",
      "\n",
      "    accuracy                           0.00    2500.0\n",
      "   macro avg       0.00      0.00      0.00    2500.0\n",
      "weighted avg       0.00      0.00      0.00    2500.0\n",
      "\n",
      "\n"
     ]
    },
    {
     "name": "stderr",
     "output_type": "stream",
     "text": [
      "c:\\users\\0012708\\appdata\\local\\programs\\python\\python38\\lib\\site-packages\\sklearn\\metrics\\_classification.py:1245: UndefinedMetricWarning: Precision and F-score are ill-defined and being set to 0.0 in labels with no predicted samples. Use `zero_division` parameter to control this behavior.\n",
      "  _warn_prf(average, modifier, msg_start, len(result))\n",
      "c:\\users\\0012708\\appdata\\local\\programs\\python\\python38\\lib\\site-packages\\sklearn\\metrics\\_classification.py:1245: UndefinedMetricWarning: Recall and F-score are ill-defined and being set to 0.0 in labels with no true samples. Use `zero_division` parameter to control this behavior.\n",
      "  _warn_prf(average, modifier, msg_start, len(result))\n",
      "c:\\users\\0012708\\appdata\\local\\programs\\python\\python38\\lib\\site-packages\\sklearn\\metrics\\_classification.py:1245: UndefinedMetricWarning: Precision and F-score are ill-defined and being set to 0.0 in labels with no predicted samples. Use `zero_division` parameter to control this behavior.\n",
      "  _warn_prf(average, modifier, msg_start, len(result))\n",
      "c:\\users\\0012708\\appdata\\local\\programs\\python\\python38\\lib\\site-packages\\sklearn\\metrics\\_classification.py:1245: UndefinedMetricWarning: Recall and F-score are ill-defined and being set to 0.0 in labels with no true samples. Use `zero_division` parameter to control this behavior.\n",
      "  _warn_prf(average, modifier, msg_start, len(result))\n",
      "c:\\users\\0012708\\appdata\\local\\programs\\python\\python38\\lib\\site-packages\\sklearn\\metrics\\_classification.py:1245: UndefinedMetricWarning: Precision and F-score are ill-defined and being set to 0.0 in labels with no predicted samples. Use `zero_division` parameter to control this behavior.\n",
      "  _warn_prf(average, modifier, msg_start, len(result))\n",
      "c:\\users\\0012708\\appdata\\local\\programs\\python\\python38\\lib\\site-packages\\sklearn\\metrics\\_classification.py:1245: UndefinedMetricWarning: Recall and F-score are ill-defined and being set to 0.0 in labels with no true samples. Use `zero_division` parameter to control this behavior.\n",
      "  _warn_prf(average, modifier, msg_start, len(result))\n"
     ]
    }
   ],
   "source": [
    "from sklearn import datasets, svm, metrics\n",
    "clf = svm.SVC(gamma=0.001)\n",
    "X_train, X_test, y_train, y_test = train_test_split(X, Y, test_size=0.5, shuffle=False)\n",
    "clf.fit(X_train, y_train.ravel())\n",
    "predicted = clf.predict(X_test)\n",
    "print(f\"Classification report for classifier {clf}:\\n\"\n",
    "      f\"{metrics.classification_report(y_test, predicted)}\\n\")"
   ]
  },
  {
   "cell_type": "code",
   "execution_count": 13,
   "metadata": {},
   "outputs": [
    {
     "ename": "ValueError",
     "evalue": "Found input variables with inconsistent numbers of samples: [5000, 1500]",
     "output_type": "error",
     "traceback": [
      "\u001b[1;31m---------------------------------------------------------------------------\u001b[0m",
      "\u001b[1;31mValueError\u001b[0m                                Traceback (most recent call last)",
      "\u001b[1;32m<ipython-input-13-a1c603f4fad2>\u001b[0m in \u001b[0;36m<module>\u001b[1;34m\u001b[0m\n\u001b[1;32m----> 1\u001b[1;33m print(f\"Classification report for classifier {clf}:\\n\"\n\u001b[0m\u001b[0;32m      2\u001b[0m       f\"{metrics.classification_report(Y, predicted)}\\n\")\n",
      "\u001b[1;32mc:\\users\\0012708\\appdata\\local\\programs\\python\\python38\\lib\\site-packages\\sklearn\\utils\\validation.py\u001b[0m in \u001b[0;36minner_f\u001b[1;34m(*args, **kwargs)\u001b[0m\n\u001b[0;32m     61\u001b[0m             \u001b[0mextra_args\u001b[0m \u001b[1;33m=\u001b[0m \u001b[0mlen\u001b[0m\u001b[1;33m(\u001b[0m\u001b[0margs\u001b[0m\u001b[1;33m)\u001b[0m \u001b[1;33m-\u001b[0m \u001b[0mlen\u001b[0m\u001b[1;33m(\u001b[0m\u001b[0mall_args\u001b[0m\u001b[1;33m)\u001b[0m\u001b[1;33m\u001b[0m\u001b[1;33m\u001b[0m\u001b[0m\n\u001b[0;32m     62\u001b[0m             \u001b[1;32mif\u001b[0m \u001b[0mextra_args\u001b[0m \u001b[1;33m<=\u001b[0m \u001b[1;36m0\u001b[0m\u001b[1;33m:\u001b[0m\u001b[1;33m\u001b[0m\u001b[1;33m\u001b[0m\u001b[0m\n\u001b[1;32m---> 63\u001b[1;33m                 \u001b[1;32mreturn\u001b[0m \u001b[0mf\u001b[0m\u001b[1;33m(\u001b[0m\u001b[1;33m*\u001b[0m\u001b[0margs\u001b[0m\u001b[1;33m,\u001b[0m \u001b[1;33m**\u001b[0m\u001b[0mkwargs\u001b[0m\u001b[1;33m)\u001b[0m\u001b[1;33m\u001b[0m\u001b[1;33m\u001b[0m\u001b[0m\n\u001b[0m\u001b[0;32m     64\u001b[0m \u001b[1;33m\u001b[0m\u001b[0m\n\u001b[0;32m     65\u001b[0m             \u001b[1;31m# extra_args > 0\u001b[0m\u001b[1;33m\u001b[0m\u001b[1;33m\u001b[0m\u001b[1;33m\u001b[0m\u001b[0m\n",
      "\u001b[1;32mc:\\users\\0012708\\appdata\\local\\programs\\python\\python38\\lib\\site-packages\\sklearn\\metrics\\_classification.py\u001b[0m in \u001b[0;36mclassification_report\u001b[1;34m(y_true, y_pred, labels, target_names, sample_weight, digits, output_dict, zero_division)\u001b[0m\n\u001b[0;32m   1964\u001b[0m     \"\"\"\n\u001b[0;32m   1965\u001b[0m \u001b[1;33m\u001b[0m\u001b[0m\n\u001b[1;32m-> 1966\u001b[1;33m     \u001b[0my_type\u001b[0m\u001b[1;33m,\u001b[0m \u001b[0my_true\u001b[0m\u001b[1;33m,\u001b[0m \u001b[0my_pred\u001b[0m \u001b[1;33m=\u001b[0m \u001b[0m_check_targets\u001b[0m\u001b[1;33m(\u001b[0m\u001b[0my_true\u001b[0m\u001b[1;33m,\u001b[0m \u001b[0my_pred\u001b[0m\u001b[1;33m)\u001b[0m\u001b[1;33m\u001b[0m\u001b[1;33m\u001b[0m\u001b[0m\n\u001b[0m\u001b[0;32m   1967\u001b[0m \u001b[1;33m\u001b[0m\u001b[0m\n\u001b[0;32m   1968\u001b[0m     \u001b[1;32mif\u001b[0m \u001b[0mlabels\u001b[0m \u001b[1;32mis\u001b[0m \u001b[1;32mNone\u001b[0m\u001b[1;33m:\u001b[0m\u001b[1;33m\u001b[0m\u001b[1;33m\u001b[0m\u001b[0m\n",
      "\u001b[1;32mc:\\users\\0012708\\appdata\\local\\programs\\python\\python38\\lib\\site-packages\\sklearn\\metrics\\_classification.py\u001b[0m in \u001b[0;36m_check_targets\u001b[1;34m(y_true, y_pred)\u001b[0m\n\u001b[0;32m     81\u001b[0m     \u001b[0my_pred\u001b[0m \u001b[1;33m:\u001b[0m \u001b[0marray\u001b[0m \u001b[1;32mor\u001b[0m \u001b[0mindicator\u001b[0m \u001b[0mmatrix\u001b[0m\u001b[1;33m\u001b[0m\u001b[1;33m\u001b[0m\u001b[0m\n\u001b[0;32m     82\u001b[0m     \"\"\"\n\u001b[1;32m---> 83\u001b[1;33m     \u001b[0mcheck_consistent_length\u001b[0m\u001b[1;33m(\u001b[0m\u001b[0my_true\u001b[0m\u001b[1;33m,\u001b[0m \u001b[0my_pred\u001b[0m\u001b[1;33m)\u001b[0m\u001b[1;33m\u001b[0m\u001b[1;33m\u001b[0m\u001b[0m\n\u001b[0m\u001b[0;32m     84\u001b[0m     \u001b[0mtype_true\u001b[0m \u001b[1;33m=\u001b[0m \u001b[0mtype_of_target\u001b[0m\u001b[1;33m(\u001b[0m\u001b[0my_true\u001b[0m\u001b[1;33m)\u001b[0m\u001b[1;33m\u001b[0m\u001b[1;33m\u001b[0m\u001b[0m\n\u001b[0;32m     85\u001b[0m     \u001b[0mtype_pred\u001b[0m \u001b[1;33m=\u001b[0m \u001b[0mtype_of_target\u001b[0m\u001b[1;33m(\u001b[0m\u001b[0my_pred\u001b[0m\u001b[1;33m)\u001b[0m\u001b[1;33m\u001b[0m\u001b[1;33m\u001b[0m\u001b[0m\n",
      "\u001b[1;32mc:\\users\\0012708\\appdata\\local\\programs\\python\\python38\\lib\\site-packages\\sklearn\\utils\\validation.py\u001b[0m in \u001b[0;36mcheck_consistent_length\u001b[1;34m(*arrays)\u001b[0m\n\u001b[0;32m    260\u001b[0m     \u001b[0muniques\u001b[0m \u001b[1;33m=\u001b[0m \u001b[0mnp\u001b[0m\u001b[1;33m.\u001b[0m\u001b[0munique\u001b[0m\u001b[1;33m(\u001b[0m\u001b[0mlengths\u001b[0m\u001b[1;33m)\u001b[0m\u001b[1;33m\u001b[0m\u001b[1;33m\u001b[0m\u001b[0m\n\u001b[0;32m    261\u001b[0m     \u001b[1;32mif\u001b[0m \u001b[0mlen\u001b[0m\u001b[1;33m(\u001b[0m\u001b[0muniques\u001b[0m\u001b[1;33m)\u001b[0m \u001b[1;33m>\u001b[0m \u001b[1;36m1\u001b[0m\u001b[1;33m:\u001b[0m\u001b[1;33m\u001b[0m\u001b[1;33m\u001b[0m\u001b[0m\n\u001b[1;32m--> 262\u001b[1;33m         raise ValueError(\"Found input variables with inconsistent numbers of\"\n\u001b[0m\u001b[0;32m    263\u001b[0m                          \" samples: %r\" % [int(l) for l in lengths])\n\u001b[0;32m    264\u001b[0m \u001b[1;33m\u001b[0m\u001b[0m\n",
      "\u001b[1;31mValueError\u001b[0m: Found input variables with inconsistent numbers of samples: [5000, 1500]"
     ]
    }
   ],
   "source": [
    "print(f\"Classification report for classifier {clf}:\\n\"\n",
    "      f\"{metrics.classification_report(Y, predicted)}\\n\")"
   ]
  },
  {
   "cell_type": "code",
   "execution_count": 11,
   "metadata": {},
   "outputs": [
    {
     "name": "stdout",
     "output_type": "stream",
     "text": [
      "0.009090909090909092\n"
     ]
    }
   ],
   "source": [
    "lr=0.1\n",
    "i=10\n",
    "if i%10 == 0:\n",
    "    lr /= i+1\n",
    "print (lr)"
   ]
  },
  {
   "cell_type": "code",
   "execution_count": 66,
   "metadata": {},
   "outputs": [],
   "source": [
    "DD=6**0.5/(400+25)**0.5"
   ]
  },
  {
   "cell_type": "code",
   "execution_count": 67,
   "metadata": {},
   "outputs": [
    {
     "name": "stdout",
     "output_type": "stream",
     "text": [
      "0.1188177051572009\n"
     ]
    }
   ],
   "source": [
    "print (DD)"
   ]
  },
  {
   "cell_type": "code",
   "execution_count": null,
   "metadata": {},
   "outputs": [],
   "source": []
  }
 ],
 "metadata": {
  "kernelspec": {
   "display_name": "Python 3",
   "language": "python",
   "name": "python3"
  },
  "language_info": {
   "codemirror_mode": {
    "name": "ipython",
    "version": 3
   },
   "file_extension": ".py",
   "mimetype": "text/x-python",
   "name": "python",
   "nbconvert_exporter": "python",
   "pygments_lexer": "ipython3",
   "version": "3.8.2"
  }
 },
 "nbformat": 4,
 "nbformat_minor": 4
}
