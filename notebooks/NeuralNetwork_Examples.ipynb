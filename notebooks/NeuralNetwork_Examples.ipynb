{
 "cells": [
  {
   "cell_type": "code",
   "execution_count": 1,
   "metadata": {},
   "outputs": [],
   "source": [
    "import sys\n",
    "sys.path.append ('../src/nn') \n",
    "from layers import FullyConnected\n",
    "from ActivationFunctions import Sigmoid\n",
    "from NeuralNetwork import NeuralNetwork\n",
    "from costs import NN_CostFunction , NN_Gradient"
   ]
  },
  {
   "cell_type": "code",
   "execution_count": 7,
   "metadata": {},
   "outputs": [
    {
     "name": "stdout",
     "output_type": "stream",
     "text": [
      "FC - OutputLayer - init , initialization with input dimension 10 \n"
     ]
    }
   ],
   "source": [
    "\n",
    "inp_dimension = 2\n",
    "nn = NeuralNetwork ( inp_dimension,\n",
    "                    [FullyConnected (30,Sigmoid(),'HiddenLayer1',debug=False), \n",
    "                     FullyConnected (20,Sigmoid(),'HiddenLayer2',debug=False), \n",
    "                     FullyConnected (10,Sigmoid(),'HiddenLayer3',debug=False), \n",
    "                     FullyConnected (3,Sigmoid(),'OutputLayer',debug=True) \n",
    "                    ] , \n",
    "                    NN_CostFunction ,\n",
    "                    NN_Gradient ,\n",
    "                    debug = True,\n",
    "                    l2_lambda = 2.0\n",
    "                    \n",
    "                   )"
   ]
  },
  {
   "cell_type": "code",
   "execution_count": 8,
   "metadata": {},
   "outputs": [
    {
     "name": "stdout",
     "output_type": "stream",
     "text": [
      "(100, 3)\n"
     ]
    }
   ],
   "source": [
    "import pandas as pd\n",
    "import numpy as np\n",
    "dataset =pd.read_csv('ex2data1.txt', sep=',',header=None)  #Exam 1 score, Exam 2 score , Admited (1,0)\n",
    "X = dataset.values[:,0:2]\n",
    "Y = dataset.values[:,2:3]\n",
    "Y = np.insert (Y,1,0,axis=1)\n",
    "Y = np.insert (Y,2,0,axis=1)\n",
    "print (Y.shape)"
   ]
  },
  {
   "cell_type": "code",
   "execution_count": 9,
   "metadata": {},
   "outputs": [
    {
     "name": "stdout",
     "output_type": "stream",
     "text": [
      "FC - OutputLayer - forward , starting forward prop\n",
      "FC - OutputLayer - forward , Shapes: A_prev (100, 10), Z (100, 3) , A (100, 3) \n"
     ]
    }
   ],
   "source": [
    "prediction = nn.forward_prop ( X , training = True )"
   ]
  },
  {
   "cell_type": "code",
   "execution_count": 10,
   "metadata": {},
   "outputs": [
    {
     "name": "stdout",
     "output_type": "stream",
     "text": [
      "NN - costFunction, regularization value 0.6607698276254922 , with lambda 2.0\n"
     ]
    }
   ],
   "source": [
    "cost = nn.costFunction (prediction, Y)"
   ]
  },
  {
   "cell_type": "code",
   "execution_count": 11,
   "metadata": {},
   "outputs": [
    {
     "name": "stdout",
     "output_type": "stream",
     "text": [
      "FC - OutputLayer - backward , starting backward prop\n",
      "(1, 3)\n",
      "(1, 3)\n",
      "(1, 10)\n",
      "(1, 10)\n",
      "(1, 20)\n",
      "(1, 20)\n",
      "(1, 30)\n",
      "(1, 30)\n"
     ]
    }
   ],
   "source": [
    "nn.backward_prop (prediction,Y)"
   ]
  },
  {
   "cell_type": "code",
   "execution_count": null,
   "metadata": {},
   "outputs": [],
   "source": []
  }
 ],
 "metadata": {
  "kernelspec": {
   "display_name": "Python 3",
   "language": "python",
   "name": "python3"
  },
  "language_info": {
   "codemirror_mode": {
    "name": "ipython",
    "version": 3
   },
   "file_extension": ".py",
   "mimetype": "text/x-python",
   "name": "python",
   "nbconvert_exporter": "python",
   "pygments_lexer": "ipython3",
   "version": "3.8.2"
  }
 },
 "nbformat": 4,
 "nbformat_minor": 4
}
