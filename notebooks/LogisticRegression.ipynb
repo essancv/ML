{
 "cells": [
  {
   "cell_type": "markdown",
   "metadata": {},
   "source": [
    "# Logistic Regression"
   ]
  },
  {
   "cell_type": "markdown",
   "metadata": {},
   "source": [
    "# Hypothesis\n",
    "\n",
    "Sigmoid Function , $h_\\theta (x) = \\frac{1}{1+e^{-\\theta^Tx}}$ , $p(y=1|_{x;\\theta})$"
   ]
  },
  {
   "cell_type": "markdown",
   "metadata": {},
   "source": [
    "# Cost Function\n",
    "\n",
    "$J(\\theta) = \\frac{1}{m} \\sum \\limits _{i=1} ^{m} Cost(h_\\theta(x^{(i)}),y^{(i)})$\n",
    "\n",
    "$J(\\theta) = -\\frac{1}{m} [\\sum \\limits _{i=1} ^{m} y^{(i)}\\log h_\\theta(x^{(i)}) + (1-y^{(i)}) \\log (1 -  h_\\theta(x^{(i)}))]$"
   ]
  },
  {
   "cell_type": "markdown",
   "metadata": {},
   "source": [
    "# Goal\n",
    "\n",
    "$min  J(\\theta)$"
   ]
  },
  {
   "cell_type": "markdown",
   "metadata": {},
   "source": [
    "# Gradient Descent\n",
    "\n",
    "Repeat {\n",
    "    $\\theta_j := \\theta_j - \\alpha \\frac{1}{m} \\sum \\limits _{i=1} ^{m}(h_\\theta(x^{(i)}) - y^{(i)})x_j ^{(i)} $\n",
    "}"
   ]
  },
  {
   "cell_type": "code",
   "execution_count": 40,
   "metadata": {},
   "outputs": [],
   "source": [
    "def LogR_predictProbability (x,vtheta):\n",
    "    assert vtheta.shape[0] == 1\n",
    "    Z = np.dot (x,vtheta.T)\n",
    "    return 1 / (1 + np.exp (-Z))\n",
    "\n",
    "def LR_initVTheta (n_variables,type_init='random'):\n",
    "    \"\"\"\n",
    "    Inicializacion de theta, \n",
    "    n_variables es el número de variables que se usarán en la regresión lineal\n",
    "    \"\"\"\n",
    "    if type_init == 'random':\n",
    "        return np.random.randn (1 , n_variables + 1)\n",
    "    else:\n",
    "        return np.zeros((1,n_variables +1))\n",
    "    \n",
    "def LR_getXMatrix (x):\n",
    "    \"\"\"\n",
    "    Obtener matriz X para posterior pocesamiento, se añade una columna de '1'\n",
    "    X es la matriz con las muestras\n",
    "    \"\"\"\n",
    "    m = x.shape[0] # Número de muestras\n",
    "    Ones = np.ones ((1,m)).T\n",
    "    return np.insert (x,0,1, axis=1)\n",
    "\n",
    "\n",
    "def LogR_CostFunctionV2 (theta,x,y):\n",
    "    theta = np.array (theta).reshape (1,len(theta))\n",
    "    y = np.array (y).reshape (len(y),1)\n",
    "    prediction = LogR_predictProbability (x,theta)\n",
    "    m = prediction.shape [0]\n",
    "    assert prediction.shape[1] == 1\n",
    "    assert y.shape[1] == 1\n",
    "    assert prediction.shape[0] == y.shape[0]\n",
    "    epsilon = 1e-10   # Incluido para evitar divisiones por 0\n",
    "    J = - ( 1 / m) * ( np.dot(y.T, np.log(prediction+epsilon)) + np.dot((1-y).T, np.log(1-prediction+epsilon)))\n",
    "    J = np.squeeze (J)\n",
    "    assert J.shape == ()\n",
    "    return J\n",
    "\n",
    "def LogR_CostFunction (vtheta,X,y):\n",
    "    prediction = LogR_predictProbability (X,vtheta)\n",
    "    m = prediction.shape [0]\n",
    "    assert prediction.shape[1] == 1\n",
    "    assert y.shape[1] == 1\n",
    "    assert prediction.shape[0] == y.shape[0]\n",
    "    epsilon = 1e-10   # Incluido para evitar divisiones por 0\n",
    "    J = - ( 1 / m) * ( np.dot(y.T, np.log(prediction+epsilon)) + np.dot((1-y).T, np.log(1-prediction+epsilon)))\n",
    "    J = np.squeeze (J)\n",
    "    assert J.shape == ()\n",
    "    return J\n",
    "\n",
    "def LogR_CalculateGradsV2 (theta,X,Y):\n",
    "    theta = np.array (theta).reshape (1,len(theta))\n",
    "    Y = np.array (y).reshape (len(y),1)\n",
    "    prediction = LogR_predictProbability (X,theta)\n",
    "    m = prediction.shape [0]\n",
    "    grads =  (1/m) * np.dot ((prediction-Y).T,X)\n",
    "    return grads\n",
    "def LogR_CalculateGradsV3 (theta,X,Y,lambd=0.0):\n",
    "    theta = np.array (theta).reshape (1,len(theta))\n",
    "    Y = np.array (Y).reshape (len(Y),1)\n",
    "    prediction = LogR_predictProbability (X,theta)\n",
    "    print ('LogR_CalculateGradsV3,prediction',prediction[0:5])\n",
    "    print ('LogR_CalculateGradsV3,x',X[0:5])\n",
    "    print ('LogR_CalculateGradsV3,y',Y[0:5])\n",
    "    m = prediction.shape [0]\n",
    "    regularization = (lambd / m ) * theta\n",
    "    regularization [0] [0]= 0    #Theta 0 no tiene regularization\n",
    "    print ('LogR_CalculateGradsV3, regularization',regularization)\n",
    "    grads =  (1/m) * np.dot ((prediction-Y).T,X) + regularization\n",
    "    print ('LogR_CalculateGradsV3, grads',grads[0][0:5])\n",
    "    return grads\n",
    "\n",
    "\n",
    "def LogR_CalculateGrads (prediction,Y):\n",
    "    m = prediction.shape [0]\n",
    "    grads =  (1/m) * np.dot ((prediction-Y).T,X)\n",
    "    return grads\n",
    "\n",
    "\n",
    "def LR_UpdateThetas (vtheta,m,vgrads,learning_rate=1e-2):\n",
    "    vtheta = vtheta - learning_rate * vgrads\n",
    "    return vtheta\n",
    "\n",
    "from tqdm import tqdm\n",
    "\n",
    "def run_experiment (X,Y,vtheta,experiment_parameters):\n",
    "    iterations = []\n",
    "    for iteration in range(1,len(experiment_parameters['learning_rate'])+1):\n",
    "        lr = experiment_parameters['learning_rate'][iteration-1]\n",
    "        vtheta_iter = np.copy (vtheta)\n",
    "        costs = []\n",
    "        for i in tqdm(range (experiment_parameters['steps']),desc='LR = ' + str(lr)):\n",
    "            prediction = LogR_predictProbability (X, vtheta_iter)\n",
    "            cost = LogR_CostFunction (vtheta_iter,X,Y)\n",
    "            costs.append (cost)\n",
    "            vgrads = LogR_CalculateGrads (prediction,Y)\n",
    "            vtheta_iter = LR_UpdateThetas (vtheta_iter,m,vgrads,learning_rate=lr)\n",
    "        iterations.append ((costs,vtheta_iter))\n",
    "    return iterations \n",
    "\n",
    "def sigmoid(x):\n",
    "    # Activation function used to map any real value between 0 and 1\n",
    "    return 1 / (1 + np.exp(-x))\n",
    "\n",
    "def net_input(theta, x):\n",
    "    # Computes the weighted sum of inputs\n",
    "    return np.dot(x, theta)\n",
    "\n",
    "def probability(theta, x):\n",
    "    # Returns the probability after passing through sigmoid\n",
    "    return sigmoid(net_input(theta, x))\n",
    "\n",
    "def cost_function(theta, x, y):\n",
    "    # Computes the cost function for all the training samples\n",
    "    m = x.shape[0]\n",
    "    total_cost = -(1 / m) * np.sum(\n",
    "        y * np.log(probability(theta, x)) + (1 - y) * np.log(\n",
    "            1 - probability(theta, x)))\n",
    "    return total_cost\n",
    "\n",
    "def gradient(theta, x, y):\n",
    "    # Computes the gradient of the cost function at the point theta\n",
    "    m = x.shape[0]\n",
    "    vgrads = (1 / m) * np.dot(x.T, sigmoid(net_input(theta,   x)) - y)\n",
    "    return vgrads"
   ]
  },
  {
   "cell_type": "code",
   "execution_count": 2,
   "metadata": {},
   "outputs": [],
   "source": [
    "import pandas as pd\n",
    "\n",
    "def UTIL_FeatureNormalization (X,debug=False):\n",
    "    # X is a numpy array\n",
    "    df = pd.DataFrame (X)\n",
    "    if debug:\n",
    "        print('Input Data',df.head())\n",
    "        print ('Input describe ',df.describe ())\n",
    "    df_norm = (df - df.mean()) / df.std ()\n",
    "    if debug:\n",
    "        print('Output Data',df_norm.head())\n",
    "    return df_norm.values,df.mean (), df.std ()\n"
   ]
  },
  {
   "cell_type": "markdown",
   "metadata": {},
   "source": [
    "# Visualizing the data"
   ]
  },
  {
   "cell_type": "code",
   "execution_count": 3,
   "metadata": {},
   "outputs": [
    {
     "name": "stdout",
     "output_type": "stream",
     "text": [
      "           0          1  2\n",
      "0  34.623660  78.024693  0\n",
      "1  30.286711  43.894998  0\n",
      "2  35.847409  72.902198  0\n",
      "3  60.182599  86.308552  1\n",
      "4  79.032736  75.344376  1\n"
     ]
    },
    {
     "data": {
      "image/png": "[encoded data removed]",
      "text/plain": [
       "<Figure size 432x288 with 1 Axes>"
      ]
     },
     "metadata": {
      "needs_background": "light"
     },
     "output_type": "display_data"
    }
   ],
   "source": [
    "# Leer los datos y visualizar\n",
    "\n",
    "import pandas as pd\n",
    "import numpy as np\n",
    "import matplotlib.pyplot as plt\n",
    "\n",
    "%matplotlib inline\n",
    "\n",
    "dataset =pd.read_csv('ex2data1.txt', sep=',',header=None)  #Exam 1 score, Exam 2 score , Admited (1,0)\n",
    "print (dataset.head())\n",
    "mask_approved = dataset.values[:,2] == 1\n",
    "mask_failed = dataset.values[:,2] == 0\n",
    "scores_approved = dataset.values [mask_approved,:]\n",
    "scores_failed = dataset.values [mask_failed,:]\n",
    "\n",
    "scores_approved_exam1 = scores_approved[:,0:1].reshape (1,scores_approved.shape[0])\n",
    "scores_approved_exam2 = scores_approved[:,1:2].reshape (1,scores_approved.shape[0])\n",
    "\n",
    "data_approved = {'a': scores_approved_exam1,\n",
    "                 'b': scores_approved_exam2\n",
    "       }\n",
    "\n",
    "scores_failed_exam1 = scores_failed[:,0:1].reshape (1,scores_failed.shape[0])\n",
    "scores_failed_exam2 = scores_failed[:,1:2].reshape (1,scores_failed.shape[0])\n",
    "\n",
    "data_failed = {'a': scores_failed_exam1,\n",
    "                 'b': scores_failed_exam2\n",
    "       }\n",
    "\n",
    "plt.scatter('a', 'b', data=data_approved,color='g')\n",
    "plt.scatter('a', 'b', data=data_failed,color='r')\n",
    "                                                       \n",
    "plt.xlabel('Exam 1 score')\n",
    "plt.ylabel('Exam 2 score')\n",
    "plt.show()"
   ]
  },
  {
   "cell_type": "code",
   "execution_count": 4,
   "metadata": {},
   "outputs": [],
   "source": [
    "\n",
    "X = dataset.values[:,0:2]\n",
    "X, X_mean, X_std = UTIL_FeatureNormalization (X)\n",
    "Y = dataset.values[:,2:3]\n",
    "n = X.shape [1]\n",
    "m = X.shape [0]\n",
    "vtheta = LR_initVTheta (n,type_init='zeros')\n",
    "X = LR_getXMatrix (X)"
   ]
  },
  {
   "cell_type": "code",
   "execution_count": 5,
   "metadata": {},
   "outputs": [
    {
     "name": "stdout",
     "output_type": "stream",
     "text": [
      "#Variables 2, #muestras 100,X shape (100, 3), Y shape (100, 1),Theta shape (1, 3) \n"
     ]
    },
    {
     "name": "stderr",
     "output_type": "stream",
     "text": [
      "LR = 0.01: 100%|████████████████████████████████████████████████████████████████| 1000/1000 [00:00<00:00, 17250.86it/s]\n",
      "LR = 0.015: 100%|███████████████████████████████████████████████████████████████| 1000/1000 [00:00<00:00, 18219.39it/s]\n",
      "LR = 0.02: 100%|████████████████████████████████████████████████████████████████| 1000/1000 [00:00<00:00, 18918.40it/s]\n",
      "LR = 0.025: 100%|███████████████████████████████████████████████████████████████| 1000/1000 [00:00<00:00, 18217.73it/s]\n",
      "LR = 0.03: 100%|████████████████████████████████████████████████████████████████| 1000/1000 [00:00<00:00, 21550.58it/s]\n"
     ]
    }
   ],
   "source": [
    "from sklearn.metrics import mean_squared_error, r2_score\n",
    "\n",
    "experiment_parameters = {'learning_rate' : [0.01,0.015,0.02,0.025,0.03],\n",
    "                         'steps': 1000 }\n",
    "\n",
    "print ('#Variables {}, #muestras {},X shape {}, Y shape {},Theta shape {} '.format(n,m,X.shape,Y.shape,vtheta.shape),flush=True)\n",
    "iterations= run_experiment (X,Y,vtheta,experiment_parameters)"
   ]
  },
  {
   "cell_type": "code",
   "execution_count": 6,
   "metadata": {},
   "outputs": [
    {
     "name": "stdout",
     "output_type": "stream",
     "text": [
      "[[0.46660748 1.28609914 1.1531973 ]]\n",
      "[[0.57996168 1.56610113 1.40862147]]\n",
      "[[0.67009269 1.77665686 1.60304703]]\n",
      "[[0.74530916 1.94584353 1.76082718]]\n",
      "[[0.8098514  2.08743471 1.89386951]]\n"
     ]
    },
    {
     "data": {
      "image/png": "[encoded data removed]",
      "text/plain": [
       "<Figure size 432x288 with 1 Axes>"
      ]
     },
     "metadata": {
      "needs_background": "light"
     },
     "output_type": "display_data"
    }
   ],
   "source": [
    "# Plotting costs\n",
    "\n",
    "steps = np.arange (experiment_parameters['steps'])\n",
    "i=0\n",
    "vtheta=[]\n",
    "for (costs,vtheta_iter) in iterations:\n",
    "    #costs = iterations[iteration]\n",
    "    print (vtheta_iter)\n",
    "    vtheta = vtheta_iter\n",
    "    plt.plot( steps , costs,label=str(experiment_parameters['learning_rate'][i]))\n",
    "    i += 1\n",
    "\n",
    "plt.xlabel('steps')\n",
    "plt.ylabel('cost')\n",
    "plt.legend()\n",
    "plt.show()"
   ]
  },
  {
   "cell_type": "markdown",
   "metadata": {},
   "source": [
    "# Plotting Decission Boundary"
   ]
  },
  {
   "cell_type": "code",
   "execution_count": 7,
   "metadata": {},
   "outputs": [
    {
     "name": "stdout",
     "output_type": "stream",
     "text": [
      "[-1.82881309  1.75686481]\n",
      "[ 1.5881118 -2.3640446]\n",
      "65.64427405732314\n",
      "19.458222275425072\n",
      "66.22199808811695\n",
      "18.582783039307344\n"
     ]
    },
    {
     "data": {
      "image/png": "[encoded data removed]",
      "text/plain": [
       "<Figure size 432x288 with 1 Axes>"
      ]
     },
     "metadata": {
      "needs_background": "light"
     },
     "output_type": "display_data"
    }
   ],
   "source": [
    "# Plot the data and the classification with the decision boundary. Data is normalized x -x.mean() / x.std ()\n",
    "\n",
    "b=vtheta[0,0:1]\n",
    "w1=vtheta[0,1:2]\n",
    "w2=vtheta[0,2:3]\n",
    "c = -b/w2\n",
    "m = -w1/w2\n",
    "\n",
    "df = pd.DataFrame (X)\n",
    "#print (df.describe())\n",
    "df_min = df.min()\n",
    "df_max = df.max()\n",
    "xmin, xmax = df_min[1], df_max[2]\n",
    "ymin, ymax = df_min[2], df_max[2]\n",
    "xd = np.array([xmin, xmax])\n",
    "yd = m*xd + c\n",
    "\n",
    "print (xd)\n",
    "print (yd)\n",
    "print (X_mean[0])\n",
    "print (X_std[0])\n",
    "print (X_mean[1])\n",
    "print (X_std[1])\n",
    "\n",
    "# Hay que tener en cuanta la normalización que hemos hecho inicialmente\n",
    "\n",
    "plt.plot(xd*X_std[0] + X_mean[0], yd*X_std[1] + X_mean[1], 'k', lw=1, ls='--')\n",
    "\n",
    "plt.scatter('a', 'b', data=data_approved,color='g')\n",
    "plt.scatter('a', 'b', data=data_failed,color='r')\n",
    "                                                       \n",
    "plt.xlabel('Exam 1 score')\n",
    "plt.ylabel('Exam 2 score')\n",
    "plt.show()"
   ]
  },
  {
   "cell_type": "code",
   "execution_count": 8,
   "metadata": {},
   "outputs": [
    {
     "name": "stdout",
     "output_type": "stream",
     "text": [
      "0.9\n"
     ]
    }
   ],
   "source": [
    "# Accuracy\n",
    "from sklearn.linear_model import LogisticRegression\n",
    "from sklearn.metrics import accuracy_score\n",
    "\n",
    "\n",
    "prediction = LogR_predictProbability (X,vtheta)\n",
    "prediction[prediction >= 0.5] = 1\n",
    "prediction[prediction < 0.5] = 0\n",
    "accuracy = accuracy_score (Y.flatten(),prediction.flatten())\n",
    "print (accuracy)"
   ]
  },
  {
   "cell_type": "markdown",
   "metadata": {},
   "source": [
    "# Calculating parameters with function"
   ]
  },
  {
   "cell_type": "code",
   "execution_count": 9,
   "metadata": {},
   "outputs": [],
   "source": [
    "data = dataset\n",
    "X = data.iloc[:, :-1]\n",
    "y = data.iloc[:, -1]\n",
    "    # filter out the applicants that got admitted\n",
    "admitted = data.loc[y == 1]\n",
    "\n",
    "    # filter out the applicants that din't get admission\n",
    "not_admitted = data.loc[y == 0]\n",
    "\n",
    "X = np.c_[np.ones((X.shape[0], 1)), X]  # Adding 1's in first column\n",
    "y = np.array(y).reshape (len(y),1)      # Row vector\n",
    "theta = np.zeros((X.shape[1], 1))"
   ]
  },
  {
   "cell_type": "code",
   "execution_count": 10,
   "metadata": {},
   "outputs": [],
   "source": [
    "from scipy.optimize import fmin_tnc\n",
    "\n",
    "def fit(x, y, theta):\n",
    "    opt_weights = fmin_tnc(func=cost_function, x0=theta,\n",
    "                  fprime=gradient,args=(x, y.flatten()))\n",
    "    return opt_weights[0]\n",
    "\n",
    "def fitv2(x, y, theta):\n",
    "    opt_weights = fmin_tnc(func=LogR_CostFunctionV2, x0=theta,\n",
    "                  fprime=LogR_CalculateGradsV2,args=(x, y.flatten()))\n",
    "    return opt_weights[0]"
   ]
  },
  {
   "cell_type": "code",
   "execution_count": 11,
   "metadata": {},
   "outputs": [
    {
     "name": "stdout",
     "output_type": "stream",
     "text": [
      "[-25.16131854   0.20623159   0.20147149]\n"
     ]
    }
   ],
   "source": [
    "parameters = fitv2(X, y, theta)\n",
    "print(parameters)"
   ]
  },
  {
   "cell_type": "markdown",
   "metadata": {},
   "source": [
    "# Using sklearn -  Logistic Regression"
   ]
  },
  {
   "cell_type": "code",
   "execution_count": 12,
   "metadata": {},
   "outputs": [
    {
     "name": "stdout",
     "output_type": "stream",
     "text": [
      "0.89\n"
     ]
    }
   ],
   "source": [
    "from sklearn.linear_model import LogisticRegression\n",
    "from sklearn.metrics import accuracy_score\n",
    "\n",
    "model = LogisticRegression (penalty='l2')\n",
    "model.fit (X,y.flatten())\n",
    "predicted_classes = model.predict (X)\n",
    "accuracy = accuracy_score (y.flatten(),predicted_classes)\n",
    "parameters = model.coef_\n",
    "print (accuracy)"
   ]
  },
  {
   "cell_type": "markdown",
   "metadata": {},
   "source": [
    "# Regularized Logistic Regression"
   ]
  },
  {
   "cell_type": "code",
   "execution_count": 37,
   "metadata": {},
   "outputs": [
    {
     "name": "stdout",
     "output_type": "stream",
     "text": [
      "          0        1  2\n",
      "0  0.051267  0.69956  1\n",
      "1 -0.092742  0.68494  1\n",
      "2 -0.213710  0.69225  1\n",
      "3 -0.375000  0.50219  1\n",
      "4 -0.513250  0.46564  1\n"
     ]
    },
    {
     "data": {
      "image/png": "[encoded data removed]",
      "text/plain": [
       "<Figure size 432x288 with 1 Axes>"
      ]
     },
     "metadata": {
      "needs_background": "light"
     },
     "output_type": "display_data"
    }
   ],
   "source": [
    "# Leer los datos y visualizar\n",
    "\n",
    "import pandas as pd\n",
    "import numpy as np\n",
    "import matplotlib.pyplot as plt\n",
    "\n",
    "%matplotlib inline\n",
    "\n",
    "dataset =pd.read_csv('ex2data2.txt', sep=',',header=None)  #Test 1 score, Test 2 score , Acepted (1,0)\n",
    "print (dataset.head())\n",
    "\n",
    "mask_acepted = dataset.values[:,2] == 1\n",
    "mask_failed = dataset.values[:,2] == 0\n",
    "scores_acepted = dataset.values [mask_acepted,:]\n",
    "scores_failed = dataset.values [mask_failed,:]\n",
    "\n",
    "scores_acepted_test1 = scores_acepted[:,0:1].reshape (1,scores_acepted.shape[0])\n",
    "scores_acepted_test2 = scores_acepted[:,1:2].reshape (1,scores_acepted.shape[0])\n",
    "\n",
    "data_acepted = {'a': scores_acepted_test1,\n",
    "                 'b': scores_acepted_test2\n",
    "       }\n",
    "\n",
    "scores_failed_test1 = scores_failed[:,0:1].reshape (1,scores_failed.shape[0])\n",
    "scores_failed_test2 = scores_failed[:,1:2].reshape (1,scores_failed.shape[0])\n",
    "\n",
    "data_failed = {'a': scores_failed_test1,\n",
    "                 'b': scores_failed_test2\n",
    "       }\n",
    "\n",
    "plt.scatter('a', 'b', data=data_acepted , color='g')\n",
    "plt.scatter('a', 'b', data=data_failed , color='r')\n",
    "                                                       \n",
    "plt.xlabel('Test 1 score')\n",
    "plt.ylabel('Test 2 score')\n",
    "plt.show()\n"
   ]
  },
  {
   "cell_type": "markdown",
   "metadata": {},
   "source": [
    "# Cost Function with regularization\n",
    "\n",
    "$J(\\theta) = -\\frac{1}{m} [\\sum \\limits _{i=1} ^{m} y^{(i)}\\log h_\\theta(x^{(i)}) + (1-y^{(i)}) \\log (1 -  h_\\theta(x^{(i)}))] + \\frac{\\lambda}{2m} \\sum \\limits _{j=1} ^{n}\\theta_j^2 $\n",
    "\n",
    "# Gradient Descent\n",
    "\n",
    "Repeat {\n",
    "    $ [\\frac{1}{m} \\sum \\limits _{i=1} ^{m}(h_\\theta(x^{(i)}) - y^{(i)})x_j ^{(i)}] + \\frac{\\lambda}{m}\\theta_j  , where j >= 1$\n",
    "}"
   ]
  },
  {
   "cell_type": "code",
   "execution_count": 38,
   "metadata": {},
   "outputs": [],
   "source": [
    "def LogR_CostFunctionV3 (theta,x,y,lambd=0.0):          # Cost function con regularization\n",
    "    theta = np.array (theta).reshape (1,len(theta))\n",
    "    y = np.array (y).reshape (len(y),1)\n",
    "    prediction = LogR_predictProbability (x,theta)\n",
    "    m = prediction.shape [0]\n",
    "    assert prediction.shape[1] == 1\n",
    "    assert y.shape[1] == 1\n",
    "    assert prediction.shape[0] == y.shape[0]\n",
    "    epsilon = 1e-10   # Incluido para evitar divisiones por 0\n",
    "    regularization = (lambd/(2*m)) * np.sum (theta[0][1:]**2)\n",
    "    \"\"\"\n",
    "    allsum = 0\n",
    "    for i in range (1,theta.shape[1]):\n",
    "        allsum += theta[0][i]**2\n",
    "    allsum *= (lambd/2*m)\n",
    "    print (regularization)\n",
    "    print (allsum)\n",
    "    assert regularization == allsum\n",
    "    \"\"\"\n",
    "    J = - ( 1 / m) * ( np.dot(y.T, np.log(prediction+epsilon)) + np.dot((1-y).T, np.log(1-prediction+epsilon))) + regularization\n",
    "    J = np.squeeze (J)\n",
    "    assert J.shape == ()\n",
    "    print (J)\n",
    "    return J\n",
    "\n",
    "def run_experimentV3 (X,Y,vtheta,experiment_parameters):\n",
    "    iterations = []\n",
    "    for iteration in range(1,len(experiment_parameters['learning_rate'])+1):\n",
    "        lr = experiment_parameters['learning_rate'][iteration-1]\n",
    "        vtheta_iter = np.copy (vtheta)\n",
    "        costs = []\n",
    "        for i in tqdm(range (experiment_parameters['steps']),desc='LR = ' + str(lr)):\n",
    "            prediction = LogR_predictProbability (X, vtheta_iter)\n",
    "            cost = LogR_CostFunctionV3 (vtheta_iter.T,X,Y,experiment_parameters['lambda'])\n",
    "            costs.append (cost)\n",
    "            vgrads = LogR_CalculateGradsV3 (vtheta_iter.T,X,Y,experiment_parameters['lambda'])\n",
    "            vtheta_iter = LR_UpdateThetas (vtheta_iter,m,vgrads,learning_rate=lr)\n",
    "        iterations.append ((costs,vtheta_iter))\n",
    "    return iterations \n"
   ]
  },
  {
   "cell_type": "code",
   "execution_count": 41,
   "metadata": {},
   "outputs": [
    {
     "name": "stdout",
     "output_type": "stream",
     "text": [
      "(1, 28)\n",
      "#Variables 28, #muestras 118,X shape (118, 28), Y shape (118, 1),Theta shape (1, 28) \n"
     ]
    },
    {
     "name": "stderr",
     "output_type": "stream",
     "text": [
      "LR = 0.02: 100%|████████████████████████████████████████████████████████████████████████| 1/1 [00:00<00:00, 167.07it/s]"
     ]
    },
    {
     "name": "stdout",
     "output_type": "stream",
     "text": [
      "0.6931471803599452\n",
      "LogR_CalculateGradsV3,prediction [[0.5]\n",
      " [0.5]\n",
      " [0.5]\n",
      " [0.5]\n",
      " [0.5]]\n",
      "LogR_CalculateGradsV3,x [[ 1.00000000e+00  5.12670000e-02  6.99560000e-01  2.62830529e-03\n",
      "   3.58643425e-02  4.89384194e-01  1.34745327e-04  1.83865725e-03\n",
      "   2.50892595e-02  3.42353606e-01  6.90798869e-06  9.42624411e-05\n",
      "   1.28625106e-03  1.75514423e-02  2.39496889e-01  3.54151856e-07\n",
      "   4.83255257e-06  6.59422333e-05  8.99809795e-04  1.22782870e-02\n",
      "   1.67542444e-01  1.81563032e-08  2.47750473e-07  3.38066048e-06\n",
      "   4.61305487e-05  6.29470940e-04  8.58939846e-03  1.17205992e-01]\n",
      " [ 1.00000000e+00 -9.27420000e-02  6.84940000e-01  8.60107856e-03\n",
      "  -6.35227055e-02  4.69142804e-01 -7.97681228e-04  5.89122275e-03\n",
      "  -4.35092419e-02  3.21334672e-01  7.39785525e-05 -5.46363780e-04\n",
      "   4.03513411e-03 -2.98012201e-02  2.20094970e-01 -6.86091891e-06\n",
      "   5.06708697e-05 -3.74226408e-04  2.76382476e-03 -2.04120477e-02\n",
      "   1.50751849e-01  6.36295342e-07 -4.69931780e-06  3.47065055e-05\n",
      "  -2.56322636e-04  1.89305413e-03 -1.39810280e-02  1.03255971e-01]\n",
      " [ 1.00000000e+00 -2.13710000e-01  6.92250000e-01  4.56719641e-02\n",
      "  -1.47940748e-01  4.79210063e-01 -9.76055545e-03  3.16164171e-02\n",
      "  -1.02411982e-01  3.31733166e-01  2.08592830e-03 -6.75674451e-03\n",
      "   2.18864648e-02 -7.08946949e-02  2.29642284e-01 -4.45783738e-04\n",
      "   1.44398387e-03 -4.67735639e-03  1.51509052e-02 -4.90768525e-02\n",
      "   1.58969871e-01  9.52684426e-05 -3.08593793e-04  9.99597833e-04\n",
      "  -3.23789996e-03  1.04882142e-02 -3.39734512e-02  1.10046893e-01]\n",
      " [ 1.00000000e+00 -3.75000000e-01  5.02190000e-01  1.40625000e-01\n",
      "  -1.88321250e-01  2.52194796e-01 -5.27343750e-02  7.06204687e-02\n",
      "  -9.45730485e-02  1.26649705e-01  1.97753906e-02 -2.64826758e-02\n",
      "   3.54648932e-02 -4.74936392e-02  6.36022152e-02 -7.41577148e-03\n",
      "   9.93100342e-03 -1.32993350e-02  1.78101147e-02 -2.38508307e-02\n",
      "   3.19403964e-02  2.78091431e-03 -3.72412628e-03  4.98725061e-03\n",
      "  -6.67879302e-03  8.94406151e-03 -1.19776487e-02  1.60401477e-02]\n",
      " [ 1.00000000e+00 -5.13250000e-01  4.65640000e-01  2.63425562e-01\n",
      "  -2.38989730e-01  2.16820610e-01 -1.35203170e-01  1.22661479e-01\n",
      "  -1.11283178e-01  1.00960349e-01  6.93930270e-02 -6.29560041e-02\n",
      "   5.71160910e-02 -5.18178989e-02  4.70111767e-02 -3.56159711e-02\n",
      "   3.23121691e-02 -2.93148337e-02  2.65955366e-02 -2.41284865e-02\n",
      "   2.18902843e-02  1.82798972e-02 -1.65842208e-02  1.50458384e-02\n",
      "  -1.36501592e-02  1.23839457e-02 -1.12351884e-02  1.01929920e-02]]\n",
      "LogR_CalculateGradsV3,y [[1.]\n",
      " [1.]\n",
      " [1.]\n",
      " [1.]\n",
      " [1.]]\n",
      "LogR_CalculateGradsV3, regularization [[0. 0. 0. 0. 0. 0. 0. 0. 0. 0. 0. 0. 0. 0. 0. 0. 0. 0. 0. 0. 0. 0. 0. 0.\n",
      "  0. 0. 0. 0.]]\n",
      "LogR_CalculateGradsV3, grads [8.47457627e-03 1.87880932e-02 7.77711864e-05 5.03446395e-02\n",
      " 1.15013308e-02]\n"
     ]
    },
    {
     "name": "stderr",
     "output_type": "stream",
     "text": [
      "\n"
     ]
    }
   ],
   "source": [
    "X_orig = dataset.values[:,0:2]\n",
    "\n",
    "\n",
    "#Creating new features x= [x1,x2,x1**2,x1*x2,x2**2,x1**3,x1**2 .... ]\n",
    "\n",
    "degree = 6\n",
    "X = None\n",
    "index = 0\n",
    "for i in range(degree+1):\n",
    "    for j in  range (i+1):\n",
    "        new_column =  X_orig[:,0:1]**(i-j) * X_orig[:,1:2]**(j)\n",
    "        if X is None: \n",
    "            X = new_column\n",
    "        else:\n",
    "            X = np.concatenate((X,new_column),axis=1)   \n",
    "        index += 1\n",
    "\n",
    "n = X.shape [1]\n",
    "m = X.shape [0]\n",
    "#X, X_mean, X_std = UTIL_FeatureNormalization (X)\n",
    "Y = dataset.values[:,2:3]\n",
    "vtheta = LR_initVTheta (n-1,type_init='zeros') #Elimino 1 ,porque n incluye la columna de 1's\n",
    "print (vtheta.shape)\n",
    "\n",
    "\n",
    "experiment_parameters = {'learning_rate' : [0.02],\n",
    "                         'lambda' : 0.9,\n",
    "                         'steps': 1 }\n",
    "\n",
    "print ('#Variables {}, #muestras {},X shape {}, Y shape {},Theta shape {} '.format(n,m,X.shape,Y.shape,vtheta.shape),flush=True)\n",
    "iterations= run_experimentV3 (X,Y,vtheta,experiment_parameters)\n",
    "\n"
   ]
  },
  {
   "cell_type": "code",
   "execution_count": 42,
   "metadata": {},
   "outputs": [
    {
     "ename": "SyntaxError",
     "evalue": "invalid syntax (<ipython-input-42-8a0adfc91617>, line 1)",
     "output_type": "error",
     "traceback": [
      "\u001b[1;36m  File \u001b[1;32m\"<ipython-input-42-8a0adfc91617>\"\u001b[1;36m, line \u001b[1;32m1\u001b[0m\n\u001b[1;33m    Vtheta updated [[-1.69491525e-04 -7.37892896e-04  5.67179240e-05 -3.88251574e-03\u001b[0m\n\u001b[1;37m           ^\u001b[0m\n\u001b[1;31mSyntaxError\u001b[0m\u001b[1;31m:\u001b[0m invalid syntax\n"
     ]
    }
   ],
   "source": [
    "Vtheta updated [[-1.69491525e-04 -7.37892896e-04  5.67179240e-05 -3.88251574e-03\n",
    "  -1.04582828e-03 -2.46793492e-03 -1.29977706e-03 -1.04878741e-03\n",
    "  -1.07380522e-03 -1.36570397e-03 -3.66129830e-03 -4.72149636e-04\n",
    "  -3.64532553e-03 -5.46464020e-04 -2.68873764e-03 -1.81838648e-03\n",
    "  -1.17047542e-03 -1.21210972e-03 -1.94258051e-03 -8.88869051e-04\n",
    "  -2.00790316e-03 -3.13285377e-03 -3.78698149e-04 -3.58897437e-03\n",
    "  -2.25917869e-04 -3.25451753e-03 -3.15571623e-04 -2.54540270e-03]]"
   ]
  },
  {
   "cell_type": "code",
   "execution_count": 21,
   "metadata": {},
   "outputs": [
    {
     "name": "stdout",
     "output_type": "stream",
     "text": [
      "[[ 9.51541477e-01  3.92163806e-01  8.89909660e-01 -1.52254268e+00\n",
      "  -5.57746208e-01 -9.05099336e-01  8.29671102e-03 -2.43446130e-01\n",
      "  -2.42795796e-01 -1.93771455e-01 -1.15360095e+00 -5.43947906e-02\n",
      "  -4.39461818e-01 -1.54788433e-01 -9.27642096e-01 -2.49253875e-01\n",
      "  -1.52706635e-01 -5.79704790e-02 -1.92358559e-01 -1.84105030e-01\n",
      "  -4.92374350e-01 -8.48731604e-01 -1.49762624e-03 -2.17899162e-01\n",
      "  -2.60128359e-04 -2.38508232e-01 -7.41152994e-02 -8.38052341e-01]]\n"
     ]
    },
    {
     "data": {
      "image/png": "[encoded data removed]",
      "text/plain": [
       "<Figure size 432x288 with 1 Axes>"
      ]
     },
     "metadata": {
      "needs_background": "light"
     },
     "output_type": "display_data"
    }
   ],
   "source": [
    "# Plotting costs\n",
    "\n",
    "steps = np.arange (experiment_parameters['steps'])\n",
    "i=0\n",
    "vtheta=[]\n",
    "for (costs,vtheta_iter) in iterations:\n",
    "    #costs = iterations[iteration]\n",
    "    print (vtheta_iter)\n",
    "    vtheta = vtheta_iter\n",
    "    plt.plot( steps , costs,label=str(experiment_parameters['learning_rate'][i]))\n",
    "    i += 1\n",
    "\n",
    "plt.xlabel('steps')\n",
    "plt.ylabel('cost')\n",
    "plt.legend()\n",
    "plt.show()"
   ]
  },
  {
   "cell_type": "code",
   "execution_count": 22,
   "metadata": {},
   "outputs": [
    {
     "name": "stdout",
     "output_type": "stream",
     "text": [
      "0.8220338983050848\n"
     ]
    }
   ],
   "source": [
    "# Accuracy\n",
    "from sklearn.linear_model import LogisticRegression\n",
    "from sklearn.metrics import accuracy_score\n",
    "\n",
    "\n",
    "prediction = LogR_predictProbability (X,vtheta)\n",
    "prediction[prediction >= 0.5] = 1\n",
    "prediction[prediction < 0.5] = 0\n",
    "accuracy = accuracy_score (Y.flatten(),prediction.flatten())\n",
    "print (accuracy)"
   ]
  },
  {
   "cell_type": "code",
   "execution_count": 23,
   "metadata": {},
   "outputs": [],
   "source": [
    "def mapFeature(X1, X2, degree):\n",
    "    res = np.ones(X1.shape[0])\n",
    "    for i in range(1,degree + 1):\n",
    "        for j in range(0,i + 1):\n",
    "            res = np.column_stack((res, (X1 ** (i-j)) * (X2 ** j)))\n",
    "    \n",
    "    return res\n",
    "# define a function to plot the decision boundary\n",
    "def plotDecisionBoundary(theta,degree, axes):\n",
    "    u = np.linspace(-1, 1.5, 50)\n",
    "    v = np.linspace(-1, 1.5, 50)\n",
    "    U,V = np.meshgrid(u,v)\n",
    "    # convert U, V to vectors for calculating additional features\n",
    "    # using vectorized implementation\n",
    "    U = np.ravel(U)\n",
    "    V = np.ravel(V)\n",
    "    Z = np.zeros((len(u) * len(v)))\n",
    "    \n",
    "    X_poly = mapFeature(U, V, degree)\n",
    "    Z = X_poly.dot(theta)\n",
    "    \n",
    "    # reshape U, V, Z back to matrix\n",
    "    U = U.reshape((len(u), len(v)))\n",
    "    V = V.reshape((len(u), len(v)))\n",
    "    Z = Z.reshape((len(u), len(v)))\n",
    "    \n",
    "    cs = axes.contour(U,V,Z,levels=[0],cmap= \"Greys_r\")\n",
    "    axes.legend(labels=['good', 'faulty', 'Decision Boundary'])\n",
    "    return cs"
   ]
  },
  {
   "cell_type": "code",
   "execution_count": 24,
   "metadata": {},
   "outputs": [
    {
     "data": {
      "text/plain": [
       "<matplotlib.contour.QuadContourSet at 0x22d12370be0>"
      ]
     },
     "execution_count": 24,
     "metadata": {},
     "output_type": "execute_result"
    },
    {
     "data": {
      "image/png": "[encoded data removed]",
      "text/plain": [
       "<Figure size 432x288 with 1 Axes>"
      ]
     },
     "metadata": {
      "needs_background": "light"
     },
     "output_type": "display_data"
    }
   ],
   "source": [
    "# Plot Decision boundary\n",
    "fig, axes = plt.subplots();\n",
    "axes.set_xlabel('Feature 1')\n",
    "axes.set_ylabel('Feature 2')\n",
    "#axes.scatter(components.loc[pos, 'feature 1'], components.loc[pos, 'feature 2'], color = 'r', marker='x', label='Faulty')\n",
    "#axes.scatter(components.loc[neg, 'feature 1'], components.loc[neg, 'feature 2'], color = 'g', marker='o', label='Good')\n",
    "#axes.legend(title='Legend', loc = 'best' )\n",
    "axes.scatter('a', 'b', data=data_acepted , color='g')\n",
    "axes.scatter('a', 'b', data=data_failed , color='r')\n",
    "\n",
    "degree = 6\n",
    "\n",
    "plotDecisionBoundary(vtheta.T, degree, axes)"
   ]
  },
  {
   "cell_type": "code",
   "execution_count": 19,
   "metadata": {},
   "outputs": [
    {
     "name": "stdout",
     "output_type": "stream",
     "text": [
      "[[ 1.14622505e+00  5.60311182e-01  1.17070704e+00 -1.89367007e+00\n",
      "  -7.50905810e-01 -1.10990774e+00  4.78364083e-02 -3.20461130e-01\n",
      "  -3.11389810e-01 -2.24723571e-01 -1.45598325e+00 -7.48695137e-02\n",
      "  -5.58873090e-01 -2.12945168e-01 -1.16678740e+00 -2.99761468e-01\n",
      "  -2.00531878e-01 -6.91794121e-02 -2.49562698e-01 -2.43230446e-01\n",
      "  -6.11546517e-01 -1.07724541e+00 -3.10790890e-03 -2.77778007e-01\n",
      "  -1.17642742e-03 -3.05438618e-01 -1.04594799e-01 -1.05809616e+00]]\n"
     ]
    }
   ],
   "source": [
    "print (vtheta)"
   ]
  },
  {
   "cell_type": "code",
   "execution_count": null,
   "metadata": {},
   "outputs": [],
   "source": []
  }
 ],
 "metadata": {
  "kernelspec": {
   "display_name": "Python 3",
   "language": "python",
   "name": "python3"
  },
  "language_info": {
   "codemirror_mode": {
    "name": "ipython",
    "version": 3
   },
   "file_extension": ".py",
   "mimetype": "text/x-python",
   "name": "python",
   "nbconvert_exporter": "python",
   "pygments_lexer": "ipython3",
   "version": "3.8.2"
  }
 },
 "nbformat": 4,
 "nbformat_minor": 4
}
