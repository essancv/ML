{
 "cells": [
  {
   "cell_type": "markdown",
   "metadata": {},
   "source": [
    "# Logistic Regression"
   ]
  },
  {
   "cell_type": "markdown",
   "metadata": {},
   "source": [
    "# Hypothesis\n",
    "\n",
    "Sigmoid Function , $h_\\theta (x) = \\frac{1}{1+e^{-\\theta^Tx}}$ , $p(y=1|_{x;\\theta})$"
   ]
  },
  {
   "cell_type": "markdown",
   "metadata": {},
   "source": [
    "# Cost Function\n",
    "\n",
    "$J(\\theta) = \\frac{1}{m} \\sum \\limits _{i=1} ^{m} Cost(h_\\theta(x^{(i)}),y^{(i)})$\n",
    "\n",
    "$J(\\theta) = -\\frac{1}{m} [\\sum \\limits _{i=1} ^{m} y^{(i)}\\log h_\\theta(x^{(i)}) + (1-y^{(i)}) \\log (1 -  h_\\theta(x^{(i)}))]$"
   ]
  },
  {
   "cell_type": "markdown",
   "metadata": {},
   "source": [
    "# Goal\n",
    "\n",
    "$min  J(\\theta)$"
   ]
  },
  {
   "cell_type": "markdown",
   "metadata": {},
   "source": [
    "# Gradient Descent\n",
    "\n",
    "Repeat {\n",
    "    $\\theta_j := \\theta_j - \\alpha \\sum \\limits _{i=1} ^{m}(h_\\theta(x^{(i)}) - y^{(i)})x_j ^{(i)} $\n",
    "}"
   ]
  },
  {
   "cell_type": "code",
   "execution_count": 181,
   "metadata": {},
   "outputs": [],
   "source": [
    "def LogR_predictProbability (x,vtheta):\n",
    "    assert vtheta.shape[0] == 1\n",
    "    Z = np.dot (x,vtheta.T)\n",
    "    return 1 / (1 + np.exp (-Z))\n",
    "\n",
    "def LR_initVTheta (n_variables,type_init='random'):\n",
    "    \"\"\"\n",
    "    Inicializacion de theta, \n",
    "    n_variables es el número de variables que se usarán en la regresión lineal\n",
    "    \"\"\"\n",
    "    if type_init == 'random':\n",
    "        return np.random.randn (1 , n_variables + 1)\n",
    "    else:\n",
    "        return np.zeros((1,n_variables +1))\n",
    "    \n",
    "def LR_getXMatrix (x):\n",
    "    \"\"\"\n",
    "    Obtener matriz X para posterior pocesamiento, se añade una columna de '1'\n",
    "    X es la matriz con las muestras\n",
    "    \"\"\"\n",
    "    m = x.shape[0] # Número de muestras\n",
    "    Ones = np.ones ((1,m)).T\n",
    "    return np.insert (x,0,1, axis=1)\n",
    "\n",
    "def LogR_CostFunctionV2 (theta,x,y):\n",
    "    theta = np.array (theta).reshape (1,len(theta))\n",
    "    y = np.array (y).reshape (len(y),1)\n",
    "    prediction = LogR_predictProbability (x,theta)\n",
    "    m = prediction.shape [0]\n",
    "    assert prediction.shape[1] == 1\n",
    "    assert y.shape[1] == 1\n",
    "    assert prediction.shape[0] == y.shape[0]\n",
    "    epsilon = 1e-10   # Incluido para evitar divisiones por 0\n",
    "    J = - ( 1 / m) * ( np.dot(y.T, np.log(prediction+epsilon)) + np.dot((1-y).T, np.log(1-prediction+epsilon)))\n",
    "    J = np.squeeze (J)\n",
    "    assert J.shape == ()\n",
    "    print ('Cost {}, vtheta {}'.format(J,theta))\n",
    "    return J\n",
    "\n",
    "def LogR_CostFunction (vtheta,X,y):\n",
    "    prediction = LogR_predictProbability (X,vtheta)\n",
    "    m = prediction.shape [0]\n",
    "    assert prediction.shape[1] == 1\n",
    "    assert y.shape[1] == 1\n",
    "    assert prediction.shape[0] == y.shape[0]\n",
    "    epsilon = 1e-10   # Incluido para evitar divisiones por 0\n",
    "    J = - ( 1 / m) * ( np.dot(y.T, np.log(prediction+epsilon)) + np.dot((1-y).T, np.log(1-prediction+epsilon)))\n",
    "    J = np.squeeze (J)\n",
    "    #total_cost = -(1 / m) * np.sum( y * np.log(prediction) + (1 - y) * np.log( 1 - prediction))  TAMBIEN VALE\n",
    "    #print ('A0',np.sum (y * np.log(prediction)))\n",
    "    #print ('A1',np.sum((1 - y) * np.log( 1 - prediction)))\n",
    "    #print ('A2',np.sum( y * np.log(prediction) + (1 - y) * np.log( 1 - prediction)))\n",
    "    \n",
    "    #print ('B0',np.dot(y.T, np.log(prediction)))\n",
    "    #print ('B1',np.dot((1-y).T, np.log(1-prediction)))\n",
    "    #print ('B2',np.dot(y.T, np.log(prediction+epsilon)) + np.dot((1-y).T, np.log(1-prediction+epsilon)))\n",
    "    #print (J)\n",
    "    #print (total_cost)\n",
    "\n",
    "    assert J.shape == ()\n",
    "    #print ('Cost {}, vtheta {}'.format(J,vtheta))\n",
    "    return J\n",
    "\n",
    "def LogR_CalculateGradsV2 (theta,X,Y):\n",
    "    theta = np.array (theta).reshape (1,len(theta))\n",
    "    Y = np.array (y).reshape (len(y),1)\n",
    "    prediction = LogR_predictProbability (X,theta)\n",
    "    m = prediction.shape [0]\n",
    "    grads =  (1/m) * np.dot ((prediction-Y).T,X)\n",
    "    print ('Grads ',grads)\n",
    "    return grads\n",
    "\n",
    "def LogR_CalculateGrads (prediction,Y):\n",
    "    m = prediction.shape [0]\n",
    "    grads =  (1/m) * np.dot ((prediction-Y).T,X)\n",
    "    #print ('Grads ',grads)\n",
    "    return grads\n",
    "\n",
    "\n",
    "def LR_UpdateThetas (vtheta,m,vgrads,learning_rate=1e-2):\n",
    "    vtheta = vtheta - learning_rate * vgrads\n",
    "    return vtheta\n",
    "\n",
    "from tqdm import tqdm\n",
    "\n",
    "def run_experiment (X,Y,vtheta,experiment_parameters):\n",
    "    iterations = []\n",
    "    for iteration in range(1,len(experiment_parameters['learning_rate'])+1):\n",
    "        lr = experiment_parameters['learning_rate'][iteration-1]\n",
    "        vtheta_iter = np.copy (vtheta)\n",
    "        costs = []\n",
    "        for i in tqdm(range (experiment_parameters['steps']),desc='LR = ' + str(lr)):\n",
    "            prediction = LogR_predictProbability (X, vtheta_iter)\n",
    "            cost = LogR_CostFunction (vtheta_iter,X,Y)\n",
    "            costs.append (cost)\n",
    "            vgrads = LogR_CalculateGrads (prediction,Y)\n",
    "            vtheta_iter = LR_UpdateThetas (vtheta_iter,m,vgrads,learning_rate=lr)\n",
    "        iterations.append ((costs,vtheta_iter))\n",
    "    return iterations \n",
    "\n",
    "def sigmoid(x):\n",
    "    # Activation function used to map any real value between 0 and 1\n",
    "    return 1 / (1 + np.exp(-x))\n",
    "\n",
    "def net_input(theta, x):\n",
    "    # Computes the weighted sum of inputs\n",
    "    return np.dot(x, theta)\n",
    "\n",
    "def probability(theta, x):\n",
    "    # Returns the probability after passing through sigmoid\n",
    "    return sigmoid(net_input(theta, x))\n",
    "\n",
    "def cost_function(theta, x, y):\n",
    "    # Computes the cost function for all the training samples\n",
    "    m = x.shape[0]\n",
    "    total_cost = -(1 / m) * np.sum(\n",
    "        y * np.log(probability(theta, x)) + (1 - y) * np.log(\n",
    "            1 - probability(theta, x)))\n",
    "    return total_cost\n",
    "\n",
    "def gradient(theta, x, y):\n",
    "    # Computes the gradient of the cost function at the point theta\n",
    "    m = x.shape[0]\n",
    "    vgrads = (1 / m) * np.dot(x.T, sigmoid(net_input(theta,   x)) - y)\n",
    "    return vgrads"
   ]
  },
  {
   "cell_type": "markdown",
   "metadata": {},
   "source": [
    "# Visualizing the data"
   ]
  },
  {
   "cell_type": "code",
   "execution_count": 105,
   "metadata": {},
   "outputs": [
    {
     "name": "stdout",
     "output_type": "stream",
     "text": [
      "           0          1  2\n",
      "0  34.623660  78.024693  0\n",
      "1  30.286711  43.894998  0\n",
      "2  35.847409  72.902198  0\n",
      "3  60.182599  86.308552  1\n",
      "4  79.032736  75.344376  1\n"
     ]
    },
    {
     "data": {
      "image/png": "[encoded data removed]",
      "text/plain": [
       "<Figure size 432x288 with 1 Axes>"
      ]
     },
     "metadata": {
      "needs_background": "light"
     },
     "output_type": "display_data"
    }
   ],
   "source": [
    "# Leer los datos y visualizar\n",
    "\n",
    "import pandas as pd\n",
    "import numpy as np\n",
    "import matplotlib.pyplot as plt\n",
    "\n",
    "%matplotlib inline\n",
    "\n",
    "dataset =pd.read_csv('ex2data1.txt', sep=',',header=None)  #Exam 1 score, Exam 2 score , Admited (1,0)\n",
    "print (dataset.head())\n",
    "mask_approved = dataset.values[:,2] == 1\n",
    "mask_failed = dataset.values[:,2] == 0\n",
    "scores_approved = dataset.values [mask_approved,:]\n",
    "scores_failed = dataset.values [mask_failed,:]\n",
    "\n",
    "scores_approved_exam1 = scores_approved[:,0:1].reshape (1,scores_approved.shape[0])\n",
    "scores_approved_exam2 = scores_approved[:,1:2].reshape (1,scores_approved.shape[0])\n",
    "\n",
    "data_approved = {'a': scores_approved_exam1,\n",
    "                 'b': scores_approved_exam2\n",
    "       }\n",
    "\n",
    "scores_failed_exam1 = scores_failed[:,0:1].reshape (1,scores_failed.shape[0])\n",
    "scores_failed_exam2 = scores_failed[:,1:2].reshape (1,scores_failed.shape[0])\n",
    "\n",
    "data_failed = {'a': scores_failed_exam1,\n",
    "                 'b': scores_failed_exam2\n",
    "       }\n",
    "\n",
    "plt.scatter('a', 'b', data=data_approved,color='g')\n",
    "plt.scatter('a', 'b', data=data_failed,color='r')\n",
    "                                                       \n",
    "plt.xlabel('Exam 1 score')\n",
    "plt.ylabel('Exam 2 score')\n",
    "plt.show()"
   ]
  },
  {
   "cell_type": "code",
   "execution_count": 195,
   "metadata": {},
   "outputs": [],
   "source": [
    "def UTIL_FeatureNormalization (X,debug=False):\n",
    "    # X is a pandad dataframe\n",
    "    \n",
    "    if debug:\n",
    "        print('Input Data',X.head())\n",
    "        print(X.describe())\n",
    "    X_norm = (X - X.mean()) / X.std ()\n",
    "    if debug:\n",
    "        print('Output Data',X_norm.head())\n",
    "    return X_norm\n",
    "\n",
    "X = dataset.values[:,0:2]\n",
    "X = UTIL_FeatureNormalization (X)\n",
    "Y = dataset.values[:,2:3]\n",
    "n = X.shape [1]\n",
    "m = X.shape [0]\n",
    "vtheta = LR_initVTheta (n,type_init='zeros')\n",
    "X = LR_getXMatrix (X)"
   ]
  },
  {
   "cell_type": "code",
   "execution_count": 201,
   "metadata": {},
   "outputs": [
    {
     "name": "stdout",
     "output_type": "stream",
     "text": [
      "#Variables 2, #muestras 100,X shape (100, 3), Y shape (100, 1),Theta shape (1, 3) \n"
     ]
    },
    {
     "name": "stderr",
     "output_type": "stream",
     "text": [
      "LR = 1.49e-08: 100%|██████████████████████████████████████████████████████| 1000000/1000000 [01:34<00:00, 10597.63it/s]\n"
     ]
    }
   ],
   "source": [
    "from sklearn.metrics import mean_squared_error, r2_score\n",
    "\n",
    "experiment_parameters = {'learning_rate' : [1.49e-8],\n",
    "                         'steps': 10**6 }\n",
    "\n",
    "print ('#Variables {}, #muestras {},X shape {}, Y shape {},Theta shape {} '.format(n,m,X.shape,Y.shape,vtheta.shape),flush=True)\n",
    "iterations= run_experiment (X,Y,vtheta,experiment_parameters)"
   ]
  },
  {
   "cell_type": "code",
   "execution_count": 202,
   "metadata": {},
   "outputs": [
    {
     "name": "stdout",
     "output_type": "stream",
     "text": [
      "[[0.0020806  0.00595149 0.00513247]]\n"
     ]
    },
    {
     "data": {
      "image/png": "[encoded data removed]",
      "text/plain": [
       "<Figure size 432x288 with 1 Axes>"
      ]
     },
     "metadata": {
      "needs_background": "light"
     },
     "output_type": "display_data"
    }
   ],
   "source": [
    "# Plotting costs\n",
    "\n",
    "steps = np.arange (experiment_parameters['steps'])\n",
    "i=0\n",
    "vtheta=[]\n",
    "for (costs,vtheta_iter) in iterations:\n",
    "    #costs = iterations[iteration]\n",
    "    print (vtheta_iter)\n",
    "    vtheta = vtheta_iter\n",
    "    plt.plot( steps , costs,label=str(experiment_parameters['learning_rate'][i]))\n",
    "    i += 1\n",
    "\n",
    "plt.xlabel('steps')\n",
    "plt.ylabel('cost')\n",
    "plt.legend()\n",
    "plt.show()"
   ]
  },
  {
   "cell_type": "markdown",
   "metadata": {},
   "source": [
    "# Plotting Decission Boundary"
   ]
  },
  {
   "cell_type": "code",
   "execution_count": 191,
   "metadata": {},
   "outputs": [
    {
     "name": "stdout",
     "output_type": "stream",
     "text": [
      "[ 30 100]\n",
      "[ -44.51140444 -148.44120032]\n"
     ]
    },
    {
     "data": {
      "image/png": "[encoded data removed]",
      "text/plain": [
       "<Figure size 432x288 with 1 Axes>"
      ]
     },
     "metadata": {
      "needs_background": "light"
     },
     "output_type": "display_data"
    }
   ],
   "source": [
    "# Plot the data and the classification with the decision boundary.\n",
    "b=vtheta[0,0:1]\n",
    "w1=vtheta[0,1:2]\n",
    "w2=vtheta[0,2:3]\n",
    "c = -b/w2\n",
    "m = -w1/w2\n",
    "\n",
    "xmin, xmax = 30, 100\n",
    "ymin, ymax = 30, 100\n",
    "xd = np.array([xmin, xmax])\n",
    "yd = m*xd + c\n",
    "print (xd)\n",
    "print (yd)\n",
    "plt.plot(xd, yd, 'k', lw=1, ls='--')\n",
    "plt.fill_between(xd, yd, ymin, color='tab:blue', alpha=0.2)\n",
    "plt.fill_between(xd, yd, ymax, color='tab:orange', alpha=0.2)\n",
    "\n",
    "plt.scatter('a', 'b', data=data_approved,color='g')\n",
    "plt.scatter('a', 'b', data=data_failed,color='r')\n",
    "                                                       \n",
    "plt.xlabel('Exam 1 score')\n",
    "plt.ylabel('Exam 2 score')\n",
    "plt.show()"
   ]
  },
  {
   "cell_type": "markdown",
   "metadata": {},
   "source": [
    "# Calculating parameters with function"
   ]
  },
  {
   "cell_type": "code",
   "execution_count": 109,
   "metadata": {},
   "outputs": [],
   "source": [
    "data = dataset\n",
    "X = data.iloc[:, :-1]\n",
    "y = data.iloc[:, -1]\n",
    "    # filter out the applicants that got admitted\n",
    "admitted = data.loc[y == 1]\n",
    "\n",
    "    # filter out the applicants that din't get admission\n",
    "not_admitted = data.loc[y == 0]\n",
    "\n",
    "X = np.c_[np.ones((X.shape[0], 1)), X]  # Adding 1's in first column\n",
    "y = np.array(y).reshape (len(y),1)      # Row vector\n",
    "theta = np.zeros((X.shape[1], 1))"
   ]
  },
  {
   "cell_type": "code",
   "execution_count": 110,
   "metadata": {},
   "outputs": [],
   "source": [
    "from scipy.optimize import fmin_tnc\n",
    "\n",
    "def fit(x, y, theta):\n",
    "    opt_weights = fmin_tnc(func=cost_function, x0=theta,\n",
    "                  fprime=gradient,args=(x, y.flatten()))\n",
    "    return opt_weights[0]\n",
    "\n",
    "def fitv2(x, y, theta):\n",
    "    opt_weights = fmin_tnc(func=LogR_CostFunctionV2, x0=theta,\n",
    "                  fprime=LogR_CalculateGradsV2,args=(x, y.flatten()))\n",
    "    return opt_weights[0]"
   ]
  },
  {
   "cell_type": "code",
   "execution_count": 165,
   "metadata": {},
   "outputs": [
    {
     "name": "stdout",
     "output_type": "stream",
     "text": [
      "-1.49e-08\n"
     ]
    }
   ],
   "source": [
    "# Theta = Theta - alpha * grad\n",
    "alpha = - 1.49e-9 / 0.1\n",
    "print (alpha)"
   ]
  },
  {
   "cell_type": "code",
   "execution_count": 162,
   "metadata": {},
   "outputs": [
    {
     "name": "stdout",
     "output_type": "stream",
     "text": [
      "Cost 0.6931471803599452, vtheta [[0. 0. 0.]]\n",
      "Grads  [[ -0.1        -12.00921659 -11.26284221]]\n",
      "Cost 0.6931431409779694, vtheta [[1.49011612e-09 1.78951272e-07 1.67829427e-07]]\n",
      "Grads  [[ -0.09999428 -12.00882498 -11.26244974]]\n",
      "Cost 0.6318123600656925, vtheta [[4.42735730e-05 5.31690927e-03 4.98646266e-03]]\n",
      "Grads  [[ 0.06290371 -0.87977139 -0.10551098]]\n",
      "Cost 0.6318123599983808, vtheta [[4.42727225e-05 5.31690928e-03 4.98646267e-03]]\n",
      "Grads  [[ 0.06290371 -0.87977138 -0.10551097]]\n",
      "Cost 0.5892425280765481, vtheta [[-0.96850438  0.02261405  0.00984198]]\n",
      "Grads  [[0.15274287 6.11028614 6.04679018]]\n",
      "Cost 0.5892425263536104, vtheta [[-0.9685044   0.02261406  0.00984198]]\n",
      "Grads  [[0.15274287 6.11028615 6.04679015]]\n",
      "Cost 0.42278244553880184, vtheta [[-5.96093577  0.08850416  0.01879109]]\n",
      "Grads  [[0.06727217 4.25305926 0.65848318]]\n",
      "Cost 0.42278243512310326, vtheta [[-5.96093577  0.08850416  0.01879109]]\n",
      "Grads  [[0.06727214 4.25305798 0.65848185]]\n",
      "Cost 0.40729268992717593, vtheta [[-5.97536666  0.08081569  0.01856154]]\n",
      "Grads  [[-0.00599436 -0.42869931 -4.08451936]]\n",
      "Cost 0.4072926881595471, vtheta [[-5.97536677  0.08081569  0.01856154]]\n",
      "Grads  [[-0.00599436 -0.42869922 -4.08451931]]\n",
      "Cost 0.3818855078388955, vtheta [[-8.60470124  0.11307795  0.02965583]]\n",
      "Grads  [[ 0.00492138  1.13149472 -3.0811029 ]]\n",
      "Cost 0.3818851202326401, vtheta [[-8.60473059  0.11307808  0.02965595]]\n",
      "Grads  [[ 0.00491972  1.13139557 -3.08120611]]\n",
      "Cost 0.3786234924042293, vtheta [[-9.09336137  0.11517336  0.03173884]]\n",
      "Grads  [[-0.02241667 -0.52438464 -4.78361964]]\n",
      "Cost 0.37862348760603576, vtheta [[-9.09336155  0.11517337  0.03173884]]\n",
      "Grads  [[-0.02241667 -0.52438458 -4.78361952]]\n",
      "Cost 0.26571208596604495, vtheta [[-15.8091461    0.16072306   0.0949227 ]]\n",
      "Grads  [[-0.00864241  0.42952499 -2.31111626]]\n",
      "Cost 0.23892678387716004, vtheta [[-19.09268885   0.18299364   0.12581513]]\n",
      "Grads  [[-0.00607806  0.47789886 -1.66726911]]\n",
      "Cost 0.2389261840063603, vtheta [[-19.09273312   0.18299379   0.12581569]]\n",
      "Grads  [[-0.00607801  0.47789532 -1.66725385]]\n",
      "Cost 0.20472038455364974, vtheta [[-23.68500733   0.19862746   0.1843595 ]]\n",
      "Grads  [[-0.00304138 -0.05282623 -0.38655516]]\n",
      "Cost 0.2047203668680892, vtheta [[-23.68500375   0.1986275    0.18435951]]\n",
      "Grads  [[-0.00304092 -0.05279711 -0.38652747]]\n",
      "Cost 0.20467138712939986, vtheta [[-23.66520157   0.19886195   0.1844248 ]]\n",
      "Grads  [[-0.00051682  0.10788251 -0.23368827]]\n",
      "Cost 0.20467138648400468, vtheta [[-23.66520187   0.19886195   0.1844248 ]]\n",
      "Grads  [[-0.00051682  0.10788248 -0.2336882 ]]\n",
      "Cost 0.20353031732956567, vtheta [[-24.70442991   0.20247111   0.19779473]]\n",
      "Grads  [[-0.00020525 -0.02397101 -0.01887122]]\n",
      "Cost 0.2035303056786696, vtheta [[-24.70442991   0.20247141   0.19779496]]\n",
      "Grads  [[-0.00020314 -0.02383634 -0.0187433 ]]\n",
      "Cost 0.20352935322463478, vtheta [[-24.70442949   0.20252076   0.19783381]]\n",
      "Grads  [[ 0.00014299 -0.00176606  0.00222148]]\n",
      "Cost 0.20352935322453788, vtheta [[-24.70442949   0.20252076   0.19783381]]\n",
      "Grads  [[ 0.00014299 -0.00176606  0.00222148]]\n",
      "Cost 0.203525112861066, vtheta [[-24.75571641   0.2032557    0.19790813]]\n",
      "Grads  [[ 0.0001077   0.00853414 -0.01036052]]\n",
      "Cost 0.2035251128608201, vtheta [[-24.75571642   0.2032557    0.19790813]]\n",
      "Grads  [[ 0.0001077   0.00853414 -0.01036052]]\n",
      "Cost 0.20349841092750587, vtheta [[-25.15282315   0.20620308   0.20129507]]\n",
      "Grads  [[-0.00025024 -0.01347909 -0.01791846]]\n",
      "Cost 0.20349841092621546, vtheta [[-25.15282316   0.20620308   0.20129507]]\n",
      "Grads  [[-0.00025024 -0.01347907 -0.01791844]]\n",
      "Cost 0.2034978382822278, vtheta [[-25.16295367   0.206308     0.2014215 ]]\n",
      "Grads  [[ 8.39474540e-06  2.71984508e-03 -1.59241937e-03]]\n",
      "Cost 0.20349783828221463, vtheta [[-25.16295367   0.206308     0.2014215 ]]\n",
      "Grads  [[ 8.39474305e-06  2.71984486e-03 -1.59241937e-03]]\n",
      "Cost 0.20349779071851384, vtheta [[-25.17663417   0.20639292   0.20155414]]\n",
      "Grads  [[-8.59939050e-06  1.10895960e-03 -1.59742478e-03]]\n",
      "Cost 0.20349779067020243, vtheta [[-25.1766309    0.20639289   0.20155413]]\n",
      "Grads  [[-8.57356469e-06  1.11013161e-03 -1.59551146e-03]]\n",
      "Cost 0.2034977387897299, vtheta [[-25.16960387   0.20631883   0.20152989]]\n",
      "Grads  [[4.69284129e-05 3.62885665e-03 2.51611260e-03]]\n",
      "Cost 0.20349773878963046, vtheta [[-25.16960386   0.20631883   0.20152989]]\n",
      "Grads  [[4.69283505e-05 3.62885183e-03 2.51610925e-03]]\n",
      "Cost 0.20349770144548593, vtheta [[-25.16131854   0.20623159   0.20147149]]\n",
      "Grads  [[9.14448015e-09 9.82739224e-08 4.80612372e-07]]\n",
      "[-25.16131854   0.20623159   0.20147149]\n"
     ]
    }
   ],
   "source": [
    "parameters = fitv2(X, y, theta)\n",
    "print(parameters)"
   ]
  },
  {
   "cell_type": "code",
   "execution_count": null,
   "metadata": {},
   "outputs": [],
   "source": []
  }
 ],
 "metadata": {
  "kernelspec": {
   "display_name": "Python 3",
   "language": "python",
   "name": "python3"
  },
  "language_info": {
   "codemirror_mode": {
    "name": "ipython",
    "version": 3
   },
   "file_extension": ".py",
   "mimetype": "text/x-python",
   "name": "python",
   "nbconvert_exporter": "python",
   "pygments_lexer": "ipython3",
   "version": "3.8.2"
  }
 },
 "nbformat": 4,
 "nbformat_minor": 4
}
