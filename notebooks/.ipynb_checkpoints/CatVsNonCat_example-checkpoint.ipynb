{
 "cells": [
  {
   "cell_type": "code",
   "execution_count": 1,
   "metadata": {},
   "outputs": [],
   "source": [
    "# Load the dataset\n",
    "import numpy as np\n",
    "import h5py\n",
    "import sys\n",
    "sys.path.append ('../src')\n",
    "train_dataset = h5py.File ('Data/train_catvnoncat.h5','r')\n",
    "X_train_orig = np.array (train_dataset['train_set_x'][:])\n",
    "Y_train_orig = np.array (train_dataset['train_set_y'][:])\n",
    "test_dataset = h5py.File ('Data/test_catvnoncat.h5','r')\n",
    "X_test_orig = np.array (test_dataset['test_set_x'][:])\n",
    "Y_test_orig = np.array (test_dataset['test_set_y'][:])\n",
    "\n",
    "X_train = X_train_orig.reshape (X_train_orig.shape[0],-1) / 255\n",
    "Y_train = np.array (Y_train_orig).reshape (Y_train_orig.shape[0],1)\n",
    "X_test = X_test_orig.reshape (X_test_orig.shape[0],-1) / 255\n",
    "Y_test = np.array (Y_test_orig).reshape (Y_test_orig.shape[0],1)\n",
    "\n",
    "# Trasponemos la matriz de datos para que coincida con lo que espera la red neuronal de entrada\n",
    "X_train = X_train.T\n",
    "Y_train = Y_train.T\n",
    "X_test = X_test.T\n",
    "Y_test = Y_test.T\n"
   ]
  },
  {
   "cell_type": "code",
   "execution_count": 6,
   "metadata": {},
   "outputs": [
    {
     "name": "stderr",
     "output_type": "stream",
     "text": [
      "LR = 0.059: 100%|████████████████████████████████████████████████████████████████████| 200/200 [00:18<00:00, 10.87it/s]"
     ]
    },
    {
     "name": "stdout",
     "output_type": "stream",
     "text": [
      "Trainig set accuracy : 100.0\n",
      "Test set accuracy : 72.0\n",
      "Classification report for classifier <NeuralNetwork_v2.NNClassifier_V2 object at 0x000001E219A2BAC0>:\n",
      "              precision    recall  f1-score   support\n",
      "\n",
      "           0       0.57      0.76      0.65        17\n",
      "           1       0.85      0.70      0.77        33\n",
      "\n",
      "    accuracy                           0.72        50\n",
      "   macro avg       0.71      0.73      0.71        50\n",
      "weighted avg       0.75      0.72      0.73        50\n",
      "\n",
      "\n"
     ]
    },
    {
     "name": "stderr",
     "output_type": "stream",
     "text": [
      "\n"
     ]
    }
   ],
   "source": [
    "from NeuralNetwork_v2 import SigmoidF,ReluF,TanhF,LReluF,Activation_V2,Linear,Layer,NNClassifier_V2,SoftmaxF, BinaryCrossEntropy, CategoricalCrossEntropy\n",
    "from sklearn.metrics import multilabel_confusion_matrix,classification_report\n",
    "\n",
    "layer1 = Layer (128,12288,activationF=ReluF,keep_prob=0.75)\n",
    "layer2 = Layer (64,128,activationF=ReluF,keep_prob=0.75)\n",
    "layer3 = Layer (25,64,activationF=ReluF,keep_prob=1.0)\n",
    "layer4 = Layer (1,25,activationF=SigmoidF,keep_prob=1.0)\n",
    "layers = [layer1,layer2,layer3,layer4]\n",
    "gd_dict = {'steps':200,\n",
    "           'learning_rate':0.059,\n",
    "           'mini_batch_size':2**8,\n",
    "           'optimization':'RMSProp',\n",
    "           'beta1': 0.9 , #used in momentum,RMSprop y Adam\n",
    "           'beta2':0.999 # used in Adam\n",
    "          }\n",
    "nn = NNClassifier_V2 (layers,costFunction=BinaryCrossEntropy,normalization=True,kargs=gd_dict,print_cost=False)\n",
    "costs=nn.optimize (X_train,Y_train,l2_lambda = 0.0,method='batchGD')\n",
    "train_prediction = nn.predict (X_train)\n",
    "train_prediction = train_prediction.T\n",
    "train_prediction [train_prediction > 0.5 ] = 1\n",
    "train_prediction [train_prediction <= 0.5 ] = 0\n",
    "result = train_prediction\n",
    "y = Y_train.T\n",
    "accuracy = np.mean(y==result) * 100\n",
    "print ('Trainig set accuracy :' , accuracy  )\n",
    "\n",
    "\n",
    "test_predicted = nn.predict (X_test)\n",
    "test_predicted = test_predicted.T\n",
    "test_predicted [test_predicted > 0.5 ] = 1\n",
    "test_predicted [test_predicted <= 0.5 ] = 0\n",
    "result = test_predicted\n",
    "y = Y_test.T\n",
    "accuracy = np.mean(y==result) * 100\n",
    "print ('Test set accuracy :' , accuracy  )\n",
    "\n",
    "print(f\"Classification report for classifier {nn}:\\n\"\n",
    "      f\"{classification_report(y,result)}\\n\")"
   ]
  },
  {
   "cell_type": "code",
   "execution_count": 1,
   "metadata": {},
   "outputs": [
    {
     "ename": "NameError",
     "evalue": "name 'costs' is not defined",
     "output_type": "error",
     "traceback": [
      "\u001b[1;31m---------------------------------------------------------------------------\u001b[0m",
      "\u001b[1;31mNameError\u001b[0m                                 Traceback (most recent call last)",
      "\u001b[1;32m<ipython-input-1-e3b17c48bb56>\u001b[0m in \u001b[0;36m<module>\u001b[1;34m\u001b[0m\n\u001b[1;32m----> 1\u001b[1;33m \u001b[0mprint\u001b[0m \u001b[1;33m(\u001b[0m\u001b[0mcosts\u001b[0m\u001b[1;33m[\u001b[0m\u001b[1;33m-\u001b[0m\u001b[1;36m1\u001b[0m\u001b[1;33m]\u001b[0m\u001b[1;33m)\u001b[0m\u001b[1;33m\u001b[0m\u001b[1;33m\u001b[0m\u001b[0m\n\u001b[0m",
      "\u001b[1;31mNameError\u001b[0m: name 'costs' is not defined"
     ]
    }
   ],
   "source": [
    "print (costs[-1])"
   ]
  },
  {
   "cell_type": "code",
   "execution_count": null,
   "metadata": {},
   "outputs": [],
   "source": []
  }
 ],
 "metadata": {
  "kernelspec": {
   "display_name": "Python 3",
   "language": "python",
   "name": "python3"
  },
  "language_info": {
   "codemirror_mode": {
    "name": "ipython",
    "version": 3
   },
   "file_extension": ".py",
   "mimetype": "text/x-python",
   "name": "python",
   "nbconvert_exporter": "python",
   "pygments_lexer": "ipython3",
   "version": "3.8.2"
  }
 },
 "nbformat": 4,
 "nbformat_minor": 4
}
