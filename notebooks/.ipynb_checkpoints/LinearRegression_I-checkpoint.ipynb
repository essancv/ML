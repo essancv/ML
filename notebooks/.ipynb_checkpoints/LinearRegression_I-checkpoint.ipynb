{
 "cells": [
  {
   "cell_type": "markdown",
   "metadata": {},
   "source": [
    "# Linear Regression (One Variable)\n"
   ]
  },
  {
   "cell_type": "code",
   "execution_count": 1,
   "metadata": {},
   "outputs": [],
   "source": [
    "import numpy as np\n",
    "import matplotlib.pyplot as plt\n",
    "\n",
    "%matplotlib inline"
   ]
  },
  {
   "cell_type": "code",
   "execution_count": 2,
   "metadata": {},
   "outputs": [],
   "source": [
    "def UTIL_FeatureNormalization (X):\n",
    "    X_norm = (X - X.mean()) / X.std ()\n",
    "    return X_norm\n"
   ]
  },
  {
   "cell_type": "code",
   "execution_count": 4,
   "metadata": {},
   "outputs": [
    {
     "data": {
      "image/png": "[encoded data removed]",
      "text/plain": [
       "<Figure size 432x288 with 1 Axes>"
      ]
     },
     "metadata": {
      "needs_background": "light"
     },
     "output_type": "display_data"
    }
   ],
   "source": [
    "# Leer los datos y visualizar\n",
    "\n",
    "import pandas as pd\n",
    "\n",
    "dataset =pd.read_csv('ex1data1.txt', sep=',',header=None)  # población, beneficio\n",
    "#dataset_norm = UTIL_FeatureNormalization (dataset)\n",
    "population = dataset.values [:,0:1]\n",
    "profit = dataset.values [:,1:2]\n",
    "\n",
    "data = {'a': population.reshape ((1,dataset.shape[0])),\n",
    "        'b':profit.reshape((1,dataset.shape[0]))\n",
    "       }\n",
    "plt.scatter('a', 'b', data=data)\n",
    "plt.xlabel('Population')\n",
    "plt.ylabel('Profit')\n",
    "plt.show()"
   ]
  },
  {
   "cell_type": "markdown",
   "metadata": {},
   "source": [
    "## Hipótesis\n",
    "\n",
    "h(Theta) = Theta0 + Theta1 * x1 + Theta2 * x2 .."
   ]
  },
  {
   "cell_type": "code",
   "execution_count": 5,
   "metadata": {},
   "outputs": [],
   "source": [
    "def LR_initVTheta (n_variables):\n",
    "    \"\"\"\n",
    "    Inicializacion de theta, \n",
    "    n_variables es el número de variables que se usarán en la regresión lineal\n",
    "    \"\"\"\n",
    "    return np.random.randn (1 , n_variables + 1)\n",
    "def LR_predict (x,theta):\n",
    "    \"\"\"\n",
    "    Predicción lineal,\n",
    "    X es la matriz con las muestras\n",
    "    theta es el vector de Thetas\n",
    "    \"\"\"\n",
    "    assert x.shape[1] == theta.shape[1]\n",
    "    return np.dot (X,theta.T)\n",
    "\n",
    "def LR_getXMatrix (x):\n",
    "    \"\"\"\n",
    "    Obtener matriz X para posterior pocesamiento, se añade una columna de '1'\n",
    "    X es la matriz con las muestras\n",
    "    \"\"\"\n",
    "    m = x.shape[0] # Número de muestras\n",
    "    Ones = np.ones ((1,m)).T\n",
    "    return np.insert (x,0,1, axis=1)\n",
    "\n",
    "def LR_CostFunction (prediction,y):\n",
    "    m = prediction.shape [0]\n",
    "    J = 1/ (2 *m) *  np.sum ((prediction-y)**2) \n",
    "    return J\n",
    "\n",
    "def LR_CalculateGrads (x,vtheta,y):\n",
    "    #print (x[0:5])\n",
    "    prediction = LR_predict (x,vtheta)\n",
    "    vgrads = []\n",
    "    vgrads.append  ( np.sum ((prediction - y ))) # Gradiente para Theta0\n",
    "    for i in range (x.shape[1]-1):\n",
    "        xj = x[:,i+1:i+2]\n",
    "        grad = np.sum ((prediction - y ) * xj )   #element wise product\n",
    "        vgrads.append (grad)   \n",
    "#    vgrads.append (np.sum ((prediction - y ) * x[:,1:] ) ) # element wise, todas las variables menos theta0\n",
    "#    vgrads[1:] = np.sum ((prediction - y ) * x[:,1:] )\n",
    "    return np.array(vgrads)\n",
    "\n",
    "def LR_UpdateThetas (vtheta,m,vgrads,learning_rate=1e-2):\n",
    "    #print ('Vtheta antes ',vtheta)\n",
    "    #print ('VGrads ' , vgrads)\n",
    "    vtheta = vtheta - ( 1 / m ) * learning_rate * vgrads\n",
    "    #print ('Vtheta después ' , vtheta)\n",
    "    return vtheta"
   ]
  },
  {
   "cell_type": "code",
   "execution_count": 6,
   "metadata": {},
   "outputs": [
    {
     "name": "stdout",
     "output_type": "stream",
     "text": [
      "#Variables 1, #muestras 97,Theta shape (1, 2) \n"
     ]
    },
    {
     "data": {
      "image/png": "[encoded data removed]",
      "text/plain": [
       "<Figure size 432x288 with 1 Axes>"
      ]
     },
     "metadata": {
      "needs_background": "light"
     },
     "output_type": "display_data"
    }
   ],
   "source": [
    "n_variables = dataset.shape [1] - 1           # elimino Y\n",
    "m = dataset.shape [0]                         # número de muestras\n",
    "vtheta = np.random.randn (1,n_variables + 1)  # Sumo uno para Theta0\n",
    "print ('#Variables {}, #muestras {},Theta shape {} '.format(n_variables,m,vtheta.shape))\n",
    "vtheta = LR_initVTheta (n_variables)\n",
    "X = LR_getXMatrix (population)\n",
    "learning_rate = 1e-4\n",
    "steps = 500\n",
    "costs = []\n",
    "for i in range (steps):\n",
    "    prediction = LR_predict (X,vtheta)\n",
    "    cost = LR_CostFunction (prediction,profit)\n",
    "    costs.append (cost)\n",
    "    vgrads = LR_CalculateGrads (X,vtheta,profit)\n",
    "    vtheta = LR_UpdateThetas (vtheta,m,vgrads,learning_rate)\n",
    "\n",
    "steps = np.arange (steps)\n",
    "plt.plot( steps , costs)\n",
    "plt.xlabel('steps')\n",
    "plt.ylabel('cost')\n",
    "plt.show()\n",
    "####  renoveduch.com (lola Muñoz,965683092)"
   ]
  },
  {
   "cell_type": "code",
   "execution_count": 7,
   "metadata": {},
   "outputs": [
    {
     "data": {
      "image/png": "[encoded data removed]",
      "text/plain": [
       "<Figure size 432x288 with 1 Axes>"
      ]
     },
     "metadata": {
      "needs_background": "light"
     },
     "output_type": "display_data"
    }
   ],
   "source": [
    "prediction = LR_predict (X,vtheta)\n",
    "\n",
    "data = {'a': population.reshape ((1,dataset.shape[0])),\n",
    "        'b':prediction.reshape((1,dataset.shape[0]))\n",
    "       }\n",
    "plt.scatter('a', 'b', data=data)\n",
    "plt.xlabel('Population')\n",
    "plt.ylabel('Profit')\n",
    "#plt.plot(population.reshape ((1,dataset.shape[0])), prediction.reshape ((1,dataset.shape[0])), 'r--')\n",
    "plt.show()\n"
   ]
  },
  {
   "cell_type": "markdown",
   "metadata": {},
   "source": [
    "# Linear Regression (Multiple Variables)"
   ]
  },
  {
   "cell_type": "code",
   "execution_count": 33,
   "metadata": {},
   "outputs": [],
   "source": [
    "dataset =pd.read_csv('ex1data2.txt', sep=',',header=None)  # size of house, #bedrooms,price\n",
    "dataset_norm = UTIL_FeatureNormalization (dataset)\n",
    "X_norm = dataset_norm.values [:,0:2]\n",
    "price = dataset.values  [:,2:3]"
   ]
  },
  {
   "cell_type": "code",
   "execution_count": 40,
   "metadata": {},
   "outputs": [
    {
     "name": "stdout",
     "output_type": "stream",
     "text": [
      "#Variables 2, #muestras 47,Theta shape (1, 3) \n"
     ]
    },
    {
     "data": {
      "image/png": "[encoded data removed]",
      "text/plain": [
       "<Figure size 432x288 with 1 Axes>"
      ]
     },
     "metadata": {
      "needs_background": "light"
     },
     "output_type": "display_data"
    }
   ],
   "source": [
    "n_variables = dataset.shape [1] - 1           # elimino Y\n",
    "m = dataset.shape [0]                         # número de muestras\n",
    "print ('#Variables {}, #muestras {},Theta shape {} '.format(n_variables,m,vtheta.shape))\n",
    "vtheta = LR_initVTheta (n_variables)\n",
    "X = LR_getXMatrix (X_norm)\n",
    "learning_rate = 0.003\n",
    "steps = 1000\n",
    "costs = []\n",
    "for i in range (steps):\n",
    "    prediction = LR_predict (X,vtheta)\n",
    "#    print (prediction)\n",
    "    cost = LR_CostFunction (prediction,price)\n",
    "    costs.append (cost)\n",
    "    vgrads = LR_CalculateGrads (X,vtheta,price)\n",
    "    vtheta = LR_UpdateThetas (vtheta,m,vgrads,learning_rate)\n",
    "\n",
    "steps = np.arange (steps)\n",
    "plt.plot( steps , costs)\n",
    "plt.xlabel('steps')\n",
    "plt.ylabel('cost')\n",
    "plt.show()"
   ]
  },
  {
   "cell_type": "code",
   "execution_count": null,
   "metadata": {},
   "outputs": [],
   "source": []
  }
 ],
 "metadata": {
  "kernelspec": {
   "display_name": "Python 3",
   "language": "python",
   "name": "python3"
  },
  "language_info": {
   "codemirror_mode": {
    "name": "ipython",
    "version": 3
   },
   "file_extension": ".py",
   "mimetype": "text/x-python",
   "name": "python",
   "nbconvert_exporter": "python",
   "pygments_lexer": "ipython3",
   "version": "3.8.2"
  }
 },
 "nbformat": 4,
 "nbformat_minor": 4
}
