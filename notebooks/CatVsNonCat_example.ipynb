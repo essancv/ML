{
 "cells": [
  {
   "cell_type": "code",
   "execution_count": 2,
   "metadata": {},
   "outputs": [],
   "source": [
    "# Load the dataset\n",
    "import numpy as np\n",
    "import h5py\n",
    "import sys\n",
    "sys.path.append ('../src')\n",
    "train_dataset = h5py.File ('Data/train_catvnoncat.h5','r')\n",
    "X_train_orig = np.array (train_dataset['train_set_x'][:])\n",
    "Y_train_orig = np.array (train_dataset['train_set_y'][:])\n",
    "test_dataset = h5py.File ('Data/test_catvnoncat.h5','r')\n",
    "X_test_orig = np.array (test_dataset['test_set_x'][:])\n",
    "Y_test_orig = np.array (test_dataset['test_set_y'][:])\n",
    "\n",
    "X_train = X_train_orig.reshape (X_train_orig.shape[0],-1) / 255\n",
    "Y_train = np.array (Y_train_orig).reshape (Y_train_orig.shape[0],1)\n",
    "X_test = X_test_orig.reshape (X_test_orig.shape[0],-1) / 255\n",
    "Y_test = np.array (Y_test_orig).reshape (Y_test_orig.shape[0],1)\n",
    "\n",
    "# Trasponemos la matriz de datos para que coincida con lo que espera la red neuronal de entrada\n",
    "X_train = X_train.T\n",
    "Y_train = Y_train.T\n",
    "X_test = X_test.T\n",
    "Y_test = Y_test.T\n"
   ]
  },
  {
   "cell_type": "markdown",
   "metadata": {},
   "source": [
    "## NNClassifier_v2 test"
   ]
  },
  {
   "cell_type": "code",
   "execution_count": 2,
   "metadata": {},
   "outputs": [
    {
     "name": "stderr",
     "output_type": "stream",
     "text": [
      "LR = 0.0001: 100%|█████████████████████████████████████████████████████████████████████| 50/50 [00:12<00:00,  3.96it/s]"
     ]
    },
    {
     "name": "stdout",
     "output_type": "stream",
     "text": [
      "Trainig set accuracy : 76.55502392344498\n",
      "Test set accuracy : 54.0\n",
      "Classification report for classifier <NeuralNetwork_v2.NNClassifier_V2 object at 0x0000026D7FFD94F0>:\n",
      "              precision    recall  f1-score   support\n",
      "\n",
      "           0       0.42      1.00      0.60        17\n",
      "           1       1.00      0.30      0.47        33\n",
      "\n",
      "    accuracy                           0.54        50\n",
      "   macro avg       0.71      0.65      0.53        50\n",
      "weighted avg       0.80      0.54      0.51        50\n",
      "\n",
      "\n"
     ]
    },
    {
     "name": "stderr",
     "output_type": "stream",
     "text": [
      "\n"
     ]
    }
   ],
   "source": [
    "from NeuralNetwork_v2 import SigmoidF,ReluF,TanhF,LReluF,Activation_V2,Linear,Layer,NNClassifier_V2,SoftmaxF, BinaryCrossEntropy, CategoricalCrossEntropy\n",
    "from sklearn.metrics import multilabel_confusion_matrix,classification_report\n",
    "\n",
    "layer1 = Layer (128,12288,activationF=ReluF,keep_prob=0.75)\n",
    "layer2 = Layer (64,128,activationF=ReluF,keep_prob=0.75)\n",
    "layer3 = Layer (25,64,activationF=ReluF,keep_prob=1.0)\n",
    "layer4 = Layer (1,25,activationF=SigmoidF,keep_prob=1.0)\n",
    "layers = [layer1,layer2,layer3,layer4]\n",
    "gd_dict = {'steps':50,\n",
    "#           'learning_rate':0.059,\n",
    "           'learning_rate':1e-4,\n",
    "           'mini_batch_size':2**8,\n",
    "           'optimization':'Adam',\n",
    "           'beta1': 0.9 , #used in momentum y Adam (beta1) (LR=0.059)\n",
    "           'beta2': 0.999 # used in RMSprop y Adam (LR=1E-4)\n",
    "          }\n",
    "nn = NNClassifier_V2 (layers,costFunction=BinaryCrossEntropy,normalization=False,kargs=gd_dict,print_cost=False)\n",
    "costs=nn.optimize (X_train,Y_train,l2_lambda = 0.0,method='batchGD')\n",
    "train_prediction = nn.predict (X_train)\n",
    "train_prediction = train_prediction.T\n",
    "train_prediction [train_prediction > 0.5 ] = 1\n",
    "train_prediction [train_prediction <= 0.5 ] = 0\n",
    "result = train_prediction\n",
    "y = Y_train.T\n",
    "accuracy = np.mean(y==result) * 100\n",
    "print ('Trainig set accuracy :' , accuracy  )\n",
    "\n",
    "\n",
    "test_predicted = nn.predict (X_test)\n",
    "test_predicted = test_predicted.T\n",
    "test_predicted [test_predicted > 0.5 ] = 1\n",
    "test_predicted [test_predicted <= 0.5 ] = 0\n",
    "result = test_predicted\n",
    "y = Y_test.T\n",
    "accuracy = np.mean(y==result) * 100\n",
    "print ('Test set accuracy :' , accuracy  )\n",
    "\n",
    "print(f\"Classification report for classifier {nn}:\\n\"\n",
    "      f\"{classification_report(y,result)}\\n\")"
   ]
  },
  {
   "cell_type": "markdown",
   "metadata": {},
   "source": [
    "## NNClassifier_V3 test"
   ]
  },
  {
   "cell_type": "code",
   "execution_count": 7,
   "metadata": {},
   "outputs": [
    {
     "name": "stderr",
     "output_type": "stream",
     "text": [
      "LR = 0.0075: 100%|█████████████████████████████████████████████████████████████████| 3000/3000 [02:19<00:00, 21.51it/s]"
     ]
    },
    {
     "name": "stdout",
     "output_type": "stream",
     "text": [
      "Trainig set accuracy : 100.0\n",
      "Test set accuracy : 70.0\n",
      "Classification report for classifier <NeuralNetwork_v3.NNClassifier_V3 object at 0x0000020CCD728A90>:\n",
      "              precision    recall  f1-score   support\n",
      "\n",
      "           0       0.54      0.76      0.63        17\n",
      "           1       0.85      0.67      0.75        33\n",
      "\n",
      "    accuracy                           0.70        50\n",
      "   macro avg       0.69      0.72      0.69        50\n",
      "weighted avg       0.74      0.70      0.71        50\n",
      "\n",
      "\n"
     ]
    },
    {
     "name": "stderr",
     "output_type": "stream",
     "text": [
      "\n"
     ]
    }
   ],
   "source": [
    "### import sys\n",
    "sys.path.append ('../src')\n",
    "\n",
    "from costs import  BinaryCrossEntropy, CategoricalCrossEntropy\n",
    "from NeuralNetwork_v3 import NNClassifier_V3\n",
    "from activationF import SigmoidF,ReluF,TanhF,LReluF,SoftmaxF\n",
    "from sklearn.metrics import multilabel_confusion_matrix,classification_report\n",
    "from GD_algorithms import GradientDescent,Momentum,RMSprop,Adam,LRDecay\n",
    "from layerF import Layer\n",
    "from sklearn.metrics import multilabel_confusion_matrix,classification_report\n",
    "\n",
    "\n",
    "layer1 = Layer (20,12288,activationF=ReluF,keep_prob=1.0)\n",
    "layer2 = Layer (7,20,activationF=ReluF,keep_prob=1.0)\n",
    "layer3 = Layer (5,7,activationF=ReluF,keep_prob=1.0)\n",
    "layer4 = Layer (1,5,activationF=SigmoidF,keep_prob=1.0)\n",
    "layers = [layer1,layer2,layer3,layer4]\n",
    "\n",
    "gd_dict = {'steps':3000,   \n",
    "           'learning_rate':0.0075,\n",
    "           'decay_rate': 1,\n",
    "           'mini_batch_size':2**8,\n",
    "           'beta':0.9,#used in momentum y RMSprop\n",
    "           'beta1': 0.9 , #used in Adam \n",
    "           'beta2': 0.999 # used in Adam \n",
    "          }\n",
    "\n",
    "nn = NNClassifier_V3 (layers,\n",
    "                      costFunction=BinaryCrossEntropy,\n",
    "                      normalization=False,\n",
    "                      optimizationF=GradientDescent,\n",
    "                      kargs=gd_dict)\n",
    "\n",
    "costs=nn.train (X_train,Y_train,l2_lambda = 0.0,method='batchGD')\n",
    "train_prediction = nn.predict (X_train)\n",
    "train_prediction = train_prediction.T\n",
    "train_prediction [train_prediction > 0.5 ] = 1\n",
    "train_prediction [train_prediction <= 0.5 ] = 0\n",
    "result = train_prediction\n",
    "y = Y_train.T\n",
    "accuracy = np.mean(y==result) * 100\n",
    "print ('Trainig set accuracy :' , accuracy  )\n",
    "\n",
    "\n",
    "test_predicted = nn.predict (X_test)\n",
    "test_predicted = test_predicted.T\n",
    "test_predicted [test_predicted > 0.5 ] = 1\n",
    "test_predicted [test_predicted <= 0.5 ] = 0\n",
    "result = test_predicted\n",
    "y = Y_test.T\n",
    "accuracy = np.mean(y==result) * 100\n",
    "print ('Test set accuracy :' , accuracy  )\n",
    "\n",
    "print(f\"Classification report for classifier {nn}:\\n\"\n",
    "      f\"{classification_report(y,result)}\\n\")"
   ]
  },
  {
   "cell_type": "code",
   "execution_count": 24,
   "metadata": {},
   "outputs": [],
   "source": []
  },
  {
   "cell_type": "code",
   "execution_count": null,
   "metadata": {},
   "outputs": [],
   "source": []
  }
 ],
 "metadata": {
  "kernelspec": {
   "display_name": "Python 3",
   "language": "python",
   "name": "python3"
  }
 },
 "nbformat": 4,
 "nbformat_minor": 4
}
