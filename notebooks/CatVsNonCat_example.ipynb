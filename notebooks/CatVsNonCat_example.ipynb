{
 "cells": [
  {
   "cell_type": "code",
   "execution_count": 40,
   "metadata": {},
   "outputs": [],
   "source": [
    "# Load the dataset\n",
    "import numpy as np\n",
    "import h5py\n",
    "import sys\n",
    "sys.path.append ('../src')\n",
    "train_dataset = h5py.File ('Data/train_catvnoncat.h5','r')\n",
    "X_train_orig = np.array (train_dataset['train_set_x'][:])\n",
    "Y_train_orig = np.array (train_dataset['train_set_y'][:])\n",
    "test_dataset = h5py.File ('Data/test_catvnoncat.h5','r')\n",
    "X_test_orig = np.array (test_dataset['test_set_x'][:])\n",
    "Y_test_orig = np.array (test_dataset['test_set_y'][:])\n",
    "\n",
    "X_train = X_train_orig.reshape (X_train_orig.shape[0],-1) / 255\n",
    "Y_train = np.array (Y_train_orig).reshape (Y_train_orig.shape[0],1)\n",
    "X_test = X_test_orig.reshape (X_test_orig.shape[0],-1) / 255\n",
    "Y_test = np.array (Y_test_orig).reshape (Y_test_orig.shape[0],1)"
   ]
  },
  {
   "cell_type": "code",
   "execution_count": 44,
   "metadata": {
    "scrolled": true
   },
   "outputs": [],
   "source": [
    "from NeuralNetwork import NNClassifier\n",
    "from ML_utils import softmax,sigmoid,UTIL_formatY,BinaryCrossEntropy\n",
    "from sklearn.metrics import accuracy_score\n",
    "from sklearn.model_selection import train_test_split\n",
    "from sklearn.metrics import multilabel_confusion_matrix,classification_report\n",
    "\n",
    "nn_config={'n_a1':12288,'n_a2':20 ,'n_a3':7,'n_a4':5 , 'n_a5':1}   # Configuración de red NN , input layer , hidder layers , output layer\n",
    "sgd_dict =   {'steps':300,'learning_rate':0.0075,'mini_batch_size':2**8}\n",
    "opt_dict =   {'maxiter':300,'algorithm' : 'TNC'}\n",
    "activ = {'activation_a2':sigmoid,'activation_a3':sigmoid,'activation_a4':sigmoid,'activation_a5':sigmoid}\n",
    "method = 'SGD'\n",
    "if method == 'Optimize':\n",
    "    midict = opt_dict\n",
    "else:\n",
    "    midict = sgd_dict\n",
    "    \n",
    "nn = NNClassifier(optimization=method,bias=True,costFunction=BinaryCrossEntropy,nn_config=nn_config,activ=activ,debug=False,kargs=midict)\n",
    "prediction,_ = nn.forward_prop (X_train)\n",
    "costs = nn.optimize (X_train,Y_train,l2_lambda=0.0)"
   ]
  },
  {
   "cell_type": "code",
   "execution_count": 45,
   "metadata": {},
   "outputs": [
    {
     "name": "stdout",
     "output_type": "stream",
     "text": [
      "Trainig set accuracy : 98.08612440191388\n",
      "Trainig set accuracy : 62.0\n"
     ]
    }
   ],
   "source": [
    "train_prediction,_ = nn.forward_prop (X_train)\n",
    "train_prediction[train_prediction >= 0.5] = 1\n",
    "train_prediction[train_prediction < 0.5] = 0\n",
    "accuracy = np.mean(Y_train==train_prediction) * 100\n",
    "print ('Trainig set accuracy :' , accuracy  )\n",
    "\n",
    "test_prediction,_ = nn.forward_prop (X_test)\n",
    "test_prediction[test_prediction >= 0.5] = 1\n",
    "test_prediction[test_prediction < 0.5] = 0\n",
    "accuracy = np.mean(Y_test==test_prediction) * 100\n",
    "print ('Trainig set accuracy :' , accuracy  )\n"
   ]
  },
  {
   "cell_type": "code",
   "execution_count": null,
   "metadata": {},
   "outputs": [],
   "source": []
  }
 ],
 "metadata": {
  "kernelspec": {
   "display_name": "Python 3",
   "language": "python",
   "name": "python3"
  },
  "language_info": {
   "codemirror_mode": {
    "name": "ipython",
    "version": 3
   },
   "file_extension": ".py",
   "mimetype": "text/x-python",
   "name": "python",
   "nbconvert_exporter": "python",
   "pygments_lexer": "ipython3",
   "version": "3.8.2"
  }
 },
 "nbformat": 4,
 "nbformat_minor": 4
}
