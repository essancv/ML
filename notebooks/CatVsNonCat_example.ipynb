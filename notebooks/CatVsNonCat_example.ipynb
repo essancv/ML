{
 "cells": [
  {
   "cell_type": "code",
   "execution_count": 1,
   "metadata": {},
   "outputs": [],
   "source": [
    "# Load the dataset\n",
    "import numpy as np\n",
    "import h5py\n",
    "import sys\n",
    "sys.path.append ('../src')\n",
    "train_dataset = h5py.File ('Data/train_catvnoncat.h5','r')\n",
    "X_train_orig = np.array (train_dataset['train_set_x'][:])\n",
    "Y_train_orig = np.array (train_dataset['train_set_y'][:])\n",
    "test_dataset = h5py.File ('Data/test_catvnoncat.h5','r')\n",
    "X_test_orig = np.array (test_dataset['test_set_x'][:])\n",
    "Y_test_orig = np.array (test_dataset['test_set_y'][:])\n",
    "\n",
    "X_train = X_train_orig.reshape (X_train_orig.shape[0],-1) / 255\n",
    "Y_train = np.array (Y_train_orig).reshape (Y_train_orig.shape[0],1)\n",
    "X_test = X_test_orig.reshape (X_test_orig.shape[0],-1) / 255\n",
    "Y_test = np.array (Y_test_orig).reshape (Y_test_orig.shape[0],1)\n",
    "\n",
    "# Trasponemos la matriz de datos para que coincida con lo que espera la red neuronal de entrada\n",
    "X_train = X_train.T\n",
    "Y_train = Y_train.T\n",
    "X_test = X_test.T\n",
    "Y_test = Y_test.T\n"
   ]
  },
  {
   "cell_type": "code",
   "execution_count": 2,
   "metadata": {},
   "outputs": [
    {
     "name": "stderr",
     "output_type": "stream",
     "text": [
      "LR = 0.0001: 100%|█████████████████████████████████████████████████████████████████████| 50/50 [00:24<00:00,  2.08it/s]"
     ]
    },
    {
     "name": "stdout",
     "output_type": "stream",
     "text": [
      "Trainig set accuracy : 71.77033492822966\n",
      "Test set accuracy : 40.0\n",
      "Classification report for classifier <NeuralNetwork_v2.NNClassifier_V2 object at 0x0000011C7FA5A5B0>:\n",
      "              precision    recall  f1-score   support\n",
      "\n",
      "           0       0.36      0.94      0.52        17\n",
      "           1       0.80      0.12      0.21        33\n",
      "\n",
      "    accuracy                           0.40        50\n",
      "   macro avg       0.58      0.53      0.36        50\n",
      "weighted avg       0.65      0.40      0.31        50\n",
      "\n",
      "\n"
     ]
    },
    {
     "name": "stderr",
     "output_type": "stream",
     "text": [
      "\n"
     ]
    }
   ],
   "source": [
    "from NeuralNetwork_v2 import SigmoidF,ReluF,TanhF,LReluF,Activation_V2,Linear,Layer,NNClassifier_V2,SoftmaxF, BinaryCrossEntropy, CategoricalCrossEntropy\n",
    "from sklearn.metrics import multilabel_confusion_matrix,classification_report\n",
    "\n",
    "layer1 = Layer (128,12288,activationF=ReluF,keep_prob=0.75)\n",
    "layer2 = Layer (64,128,activationF=ReluF,keep_prob=0.75)\n",
    "layer3 = Layer (25,64,activationF=ReluF,keep_prob=1.0)\n",
    "layer4 = Layer (1,25,activationF=SigmoidF,keep_prob=1.0)\n",
    "layers = [layer1,layer2,layer3,layer4]\n",
    "gd_dict = {'steps':50,\n",
    "#           'learning_rate':0.059,\n",
    "           'learning_rate':1e-4,\n",
    "           'mini_batch_size':2**8,\n",
    "           'optimization':'Adam',\n",
    "           'beta1': 0.9 , #used in momentum y Adam (beta1) (LR=0.059)\n",
    "           'beta2': 0.999 # used in RMSprop y Adam (LR=1E-4)\n",
    "          }\n",
    "nn = NNClassifier_V2 (layers,costFunction=BinaryCrossEntropy,normalization=False,kargs=gd_dict,print_cost=False)\n",
    "costs=nn.optimize (X_train,Y_train,l2_lambda = 0.0,method='batchGD')\n",
    "train_prediction = nn.predict (X_train)\n",
    "train_prediction = train_prediction.T\n",
    "train_prediction [train_prediction > 0.5 ] = 1\n",
    "train_prediction [train_prediction <= 0.5 ] = 0\n",
    "result = train_prediction\n",
    "y = Y_train.T\n",
    "accuracy = np.mean(y==result) * 100\n",
    "print ('Trainig set accuracy :' , accuracy  )\n",
    "\n",
    "\n",
    "test_predicted = nn.predict (X_test)\n",
    "test_predicted = test_predicted.T\n",
    "test_predicted [test_predicted > 0.5 ] = 1\n",
    "test_predicted [test_predicted <= 0.5 ] = 0\n",
    "result = test_predicted\n",
    "y = Y_test.T\n",
    "accuracy = np.mean(y==result) * 100\n",
    "print ('Test set accuracy :' , accuracy  )\n",
    "\n",
    "print(f\"Classification report for classifier {nn}:\\n\"\n",
    "      f\"{classification_report(y,result)}\\n\")"
   ]
  },
  {
   "cell_type": "code",
   "execution_count": 4,
   "metadata": {},
   "outputs": [
    {
     "name": "stderr",
     "output_type": "stream",
     "text": [
      "LR = 0.5: 100%|██████████████████████████████████████████████████████████████████████| 150/150 [00:33<00:00,  4.42it/s]"
     ]
    },
    {
     "name": "stdout",
     "output_type": "stream",
     "text": [
      "Trainig set accuracy : 99.52153110047847\n",
      "Test set accuracy : 62.0\n",
      "Classification report for classifier <NeuralNetwork_v3.NNClassifier_V3 object at 0x000001D3E2A8A9D0>:\n",
      "              precision    recall  f1-score   support\n",
      "\n",
      "           0       0.47      0.88      0.61        17\n",
      "           1       0.89      0.48      0.63        33\n",
      "\n",
      "    accuracy                           0.62        50\n",
      "   macro avg       0.68      0.68      0.62        50\n",
      "weighted avg       0.75      0.62      0.62        50\n",
      "\n",
      "\n"
     ]
    },
    {
     "name": "stderr",
     "output_type": "stream",
     "text": [
      "\n"
     ]
    }
   ],
   "source": [
    "### import sys\n",
    "sys.path.append ('../src')\n",
    "\n",
    "from costs import  BinaryCrossEntropy, CategoricalCrossEntropy\n",
    "from NeuralNetwork_v3 import NNClassifier_V3\n",
    "from activationF import SigmoidF,ReluF,TanhF,LReluF,SoftmaxF\n",
    "from sklearn.metrics import multilabel_confusion_matrix,classification_report\n",
    "from GD_algorithms import GradientDescent,Momentum,RMSprop,Adam,LRDecay\n",
    "from layerF import Layer\n",
    "from sklearn.metrics import multilabel_confusion_matrix,classification_report\n",
    "\n",
    "\n",
    "layer1 = Layer (128,12288,activationF=ReluF,keep_prob=1.0)\n",
    "layer2 = Layer (64,128,activationF=ReluF,keep_prob=1.0)\n",
    "layer3 = Layer (25,64,activationF=ReluF,keep_prob=1.0)\n",
    "layer4 = Layer (1,25,activationF=SigmoidF,keep_prob=1.0)\n",
    "layers = [layer1,layer2,layer3,layer4]\n",
    "\n",
    "gd_dict = {'steps':150,   \n",
    "           'learning_rate':0.5,\n",
    "           'decay_rate': 1,\n",
    "           'mini_batch_size':2**8,\n",
    "           'beta':0.9,#used in momentum y RMSprop\n",
    "           'beta1': 0.9 , #used in Adam \n",
    "           'beta2': 0.999 # used in Adam \n",
    "          }\n",
    "nn = NNClassifier_V3 (layers,costFunction=BinaryCrossEntropy,normalization=True,optimizationF=LRDecay,kargs=gd_dict,print_cost=False)\n",
    "costs=nn.train (X_train,Y_train,l2_lambda = 0.0,method='miniBatchGD')\n",
    "train_prediction = nn.predict (X_train)\n",
    "train_prediction = train_prediction.T\n",
    "train_prediction [train_prediction > 0.5 ] = 1\n",
    "train_prediction [train_prediction <= 0.5 ] = 0\n",
    "result = train_prediction\n",
    "y = Y_train.T\n",
    "accuracy = np.mean(y==result) * 100\n",
    "print ('Trainig set accuracy :' , accuracy  )\n",
    "\n",
    "\n",
    "test_predicted = nn.predict (X_test)\n",
    "test_predicted = test_predicted.T\n",
    "test_predicted [test_predicted > 0.5 ] = 1\n",
    "test_predicted [test_predicted <= 0.5 ] = 0\n",
    "result = test_predicted\n",
    "y = Y_test.T\n",
    "accuracy = np.mean(y==result) * 100\n",
    "print ('Test set accuracy :' , accuracy  )\n",
    "\n",
    "print(f\"Classification report for classifier {nn}:\\n\"\n",
    "      f\"{classification_report(y,result)}\\n\")"
   ]
  },
  {
   "cell_type": "code",
   "execution_count": 5,
   "metadata": {},
   "outputs": [
    {
     "name": "stdout",
     "output_type": "stream",
     "text": [
      "[[0.10052615]]\n"
     ]
    }
   ],
   "source": [
    "print (costs[-1])"
   ]
  },
  {
   "cell_type": "code",
   "execution_count": 24,
   "metadata": {},
   "outputs": [],
   "source": []
  },
  {
   "cell_type": "code",
   "execution_count": null,
   "metadata": {},
   "outputs": [],
   "source": []
  }
 ],
 "metadata": {
  "kernelspec": {
   "display_name": "Python 3",
   "language": "python",
   "name": "python3"
  },
  "language_info": {
   "codemirror_mode": {
    "name": "ipython",
    "version": 3
   },
   "file_extension": ".py",
   "mimetype": "text/x-python",
   "name": "python",
   "nbconvert_exporter": "python",
   "pygments_lexer": "ipython3",
   "version": "3.8.2"
  }
 },
 "nbformat": 4,
 "nbformat_minor": 4
}
