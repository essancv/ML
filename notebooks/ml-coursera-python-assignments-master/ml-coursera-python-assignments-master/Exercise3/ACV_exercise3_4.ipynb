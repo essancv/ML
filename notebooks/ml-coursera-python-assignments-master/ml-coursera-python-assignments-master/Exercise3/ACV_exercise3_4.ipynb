{
 "cells": [
  {
   "cell_type": "code",
   "execution_count": 1,
   "metadata": {},
   "outputs": [],
   "source": [
    "import os\n",
    "import numpy as np\n",
    "from matplotlib import pyplot\n",
    "from scipy import optimize\n",
    "from scipy.io import loadmat\n",
    "import utils\n",
    "%matplotlib inline\n",
    "import sys\n",
    "sys.path.append ('../../../../src/nn') \n",
    "from costs import NN_CostFunction"
   ]
  },
  {
   "cell_type": "code",
   "execution_count": 2,
   "metadata": {},
   "outputs": [
    {
     "name": "stdout",
     "output_type": "stream",
     "text": [
      "(5000, 401)\n"
     ]
    }
   ],
   "source": [
    "# 20x20 Input Images of Digits\n",
    "input_layer_size  = 400\n",
    "\n",
    "# 10 labels, from 1 to 10 (note that we have mapped \"0\" to label 10)\n",
    "num_labels = 10\n",
    "\n",
    "#  training data stored in arrays X, y\n",
    "data = loadmat(os.path.join('Data', 'ex4data1.mat'))\n",
    "X, y = data['X'], data['y'].ravel()\n",
    "\n",
    "# set the zero digit to 0, rather than its mapped 10 in this dataset\n",
    "# This is an artifact due to the fact that this dataset was used in \n",
    "# MATLAB where there is no index 0\n",
    "y[y == 10] = 0\n",
    "\n",
    "m = y.size\n",
    "X = np.insert (X,0,1,axis=1)\n",
    "print (X.shape)"
   ]
  },
  {
   "cell_type": "code",
   "execution_count": 15,
   "metadata": {},
   "outputs": [
    {
     "ename": "NameError",
     "evalue": "name 'scipy' is not defined",
     "output_type": "error",
     "traceback": [
      "\u001b[1;31m---------------------------------------------------------------------------\u001b[0m",
      "\u001b[1;31mNameError\u001b[0m                                 Traceback (most recent call last)",
      "\u001b[1;32m<ipython-input-15-c2f00a59a17b>\u001b[0m in \u001b[0;36m<module>\u001b[1;34m\u001b[0m\n\u001b[0;32m      7\u001b[0m \u001b[1;31m#weights = loadmat(os.path.join('Data', 'ex4weights.mat'))\u001b[0m\u001b[1;33m\u001b[0m\u001b[1;33m\u001b[0m\u001b[1;33m\u001b[0m\u001b[0m\n\u001b[0;32m      8\u001b[0m \u001b[0mparamFile\u001b[0m \u001b[1;33m=\u001b[0m \u001b[1;34m'data/ex4weights.mat'\u001b[0m\u001b[1;33m\u001b[0m\u001b[1;33m\u001b[0m\u001b[0m\n\u001b[1;32m----> 9\u001b[1;33m \u001b[0mparams\u001b[0m \u001b[1;33m=\u001b[0m \u001b[0mscipy\u001b[0m\u001b[1;33m.\u001b[0m\u001b[0mio\u001b[0m\u001b[1;33m.\u001b[0m\u001b[0mloadmat\u001b[0m\u001b[1;33m(\u001b[0m\u001b[0mparamFile\u001b[0m\u001b[1;33m)\u001b[0m\u001b[1;33m\u001b[0m\u001b[1;33m\u001b[0m\u001b[0m\n\u001b[0m\u001b[0;32m     10\u001b[0m \u001b[0mTheta1\u001b[0m \u001b[1;33m=\u001b[0m \u001b[0mparams\u001b[0m\u001b[1;33m[\u001b[0m\u001b[1;34m'Theta1'\u001b[0m\u001b[1;33m]\u001b[0m\u001b[1;33m\u001b[0m\u001b[1;33m\u001b[0m\u001b[0m\n\u001b[0;32m     11\u001b[0m \u001b[0mTheta2\u001b[0m \u001b[1;33m=\u001b[0m \u001b[0mparams\u001b[0m\u001b[1;33m[\u001b[0m\u001b[1;34m'Theta2'\u001b[0m\u001b[1;33m]\u001b[0m\u001b[1;33m\u001b[0m\u001b[1;33m\u001b[0m\u001b[0m\n",
      "\u001b[1;31mNameError\u001b[0m: name 'scipy' is not defined"
     ]
    }
   ],
   "source": [
    "# Setup the parameters you will use for this exercise\n",
    "input_layer_size  = 400  # 20x20 Input Images of Digits\n",
    "hidden_layer_size = 25   # 25 hidden units\n",
    "num_labels = 10          # 10 labels, from 0 to 9\n",
    "\n",
    "# Load the .mat file, which returns a dictionary \n",
    "#weights = loadmat(os.path.join('Data', 'ex4weights.mat'))\n",
    "paramFile = 'data/ex4weights.mat'\n",
    "params = scipy.io.loadmat(paramFile)\n",
    "Theta1 = params['Theta1']\n",
    "Theta2 = params['Theta2']\n",
    "\n",
    "\n",
    "# get the model weights from the dictionary\n",
    "# Theta1 has size 25 x 401\n",
    "# Theta2 has size 10 x 26\n",
    "#Theta1, Theta2 = weights['Theta1'], weights['Theta2']\n",
    "\n",
    "# swap first and last columns of Theta2, due to legacy from MATLAB indexing, \n",
    "# since the weight file ex3weights.mat was saved based on MATLAB indexing\n",
    "Theta2 = np.roll(Theta2, 1, axis=0)\n"
   ]
  },
  {
   "cell_type": "code",
   "execution_count": 4,
   "metadata": {},
   "outputs": [
    {
     "name": "stdout",
     "output_type": "stream",
     "text": [
      "(25, 401)\n",
      "(10, 26)\n"
     ]
    }
   ],
   "source": [
    "print(Theta1.shape)\n",
    "print(Theta2.shape)"
   ]
  },
  {
   "cell_type": "code",
   "execution_count": 16,
   "metadata": {},
   "outputs": [],
   "source": [
    "\n",
    "n_layers = 2\n",
    "input_dimension = 400\n",
    "nodes_in_layer = [input_dimension,25,10]\n",
    "\n",
    "# Inicializo Theta para cada layer\n",
    "\n",
    "Thetas = [Theta1,Theta2]\n",
    "\"\"\"\n",
    "for i in range (1,n_layers+1):\n",
    "    theta = np.zeros ((nodes_in_layer[i],nodes_in_layer[i-1])) # Inizializo weigths\n",
    "    theta = np.insert (theta,0,1,axis=1)  # Inserto BIAS\n",
    "    Thetas.append (theta)\n",
    "Thetas = np.array (Thetas)\n",
    "\"\"\"\n",
    "def sigmoid (Z):\n",
    "    return 1 / (1 + np.exp (-Z))\n",
    "\n",
    "\n",
    "\n",
    "def forward_prop (X,Theta):\n",
    "    ai = X \n",
    "    cache = {}\n",
    "    for i in range(len (Theta)):\n",
    "        zi = np.dot (ai , Theta [i].T )\n",
    "        ai = sigmoid (zi)\n",
    "        cache ['z'+str(i+1)] = zi\n",
    "        if i != len (Theta)-1:\n",
    "            ai = np.insert (ai,0,1, axis=1)\n",
    "        cache ['a'+str(i+1)] = ai\n",
    "\n",
    "    return ai , cache\n",
    "\n",
    "\n",
    "def backward_prop (X,Y,Thetas):\n",
    "    Delta = []\n",
    "    for i in range (len(Thetas)):\n",
    "        Delta.append ( np.zeros (Thetas[i].shape))\n",
    "    prediction,cache = forward_prop (X,Thetas)\n",
    "    prediction = np.array (prediction)\n",
    "    print ('Prediction shape',prediction.shape)\n",
    "    print ('Y shape' , Y.shape)\n",
    "    delta = {}\n",
    "    deltai = np.sum(prediction - Y,axis=0)\n",
    "    ddd = prediction - Y\n",
    "    print ('dddd',ddd.shape)\n",
    "    delta ['delta'+str(len (Delta)) ] = deltai \n",
    "    for i in reversed (range(1,len(Delta))):\n",
    "        print (i)\n",
    "        ai = cache['a'+str(i)]\n",
    "        gprima_z = ai * ( 1 - ai )\n",
    "        print ('gprima_z shape',gprima_z.shape)\n",
    "        print ('deltai shape',deltai.shape)\n",
    "        print ('thetai shape',Thetas[i].shape)\n",
    "        step1 = np.dot(Thetas[i].T,deltai.T)\n",
    "        deltaiprev = (step1.T * gprima_z).sum(axis=0)\n",
    "        delta ['delta'+str(i) ] = deltaiprev \n",
    "        print ('deltaiPREV shape',deltaiprev.shape)\n",
    "        deltai = deltaiprev\n",
    "        \n",
    "    for i in range (1,len(Delta)+1):\n",
    "        step2 = np.dot (delta['delta'+str(i)],cache['a'+str(i)].T)\n",
    "        print (step2.shape)\n",
    "        print (Delta[i-1].shape)\n",
    "        print ('cachei shape ', cache['a'+str(i)].shape)\n",
    "        print ('deltai shape ', delta['delta'+str(i)].shape)\n",
    "        Delta [i-1] = Delta [i-1] + np.dot (cache['a'+str(i)], delta['delta'+str(i)])\n",
    "\n",
    "    assert J.shape == ()\n",
    "\n",
    "    return J\n",
    "\n",
    "        \n",
    "def NNcostFunction ( A_last, Y , Thetas, l2_lambda=0.0 ):\n",
    "    cost = NN_CostFunction (A_last, Y )\n",
    "    if l2_lambda != 0.0:\n",
    "        # Calculamos regularization\n",
    "        m = Y.shape [0]  # Número de muestras\n",
    "        l2_cost = (l2_lambda / ( 2 * m ) ) * reduce (lambda ws, w: ws + np.sum(np.square(w)),Thetas,0)\n",
    "        cost += l2_cost\n",
    "        print ('costFunction, regularization value {} , with lambda {}'.format(l2_cost,l2_lambda))\n",
    "    return cost\n"
   ]
  },
  {
   "cell_type": "code",
   "execution_count": 6,
   "metadata": {},
   "outputs": [
    {
     "name": "stdout",
     "output_type": "stream",
     "text": [
      "(5000, 10)\n",
      "[[0. 0. 0. 0. 0. 0. 0. 0. 0. 1.]\n",
      " [0. 0. 0. 0. 0. 0. 0. 0. 0. 1.]\n",
      " [0. 0. 0. 0. 0. 0. 0. 0. 0. 1.]\n",
      " [0. 0. 0. 0. 0. 0. 0. 0. 0. 1.]\n",
      " [0. 0. 0. 0. 0. 0. 0. 0. 0. 1.]]\n"
     ]
    }
   ],
   "source": [
    "labels = y\n",
    "ysaved = np.copy (y)\n",
    "y = np.zeros((m,num_labels))\n",
    "for i in range(m):\n",
    "    y[i, labels[i]-1] = 1\n",
    "print (y.shape)\n",
    "print (y[0:5])\n"
   ]
  },
  {
   "cell_type": "code",
   "execution_count": 17,
   "metadata": {},
   "outputs": [
    {
     "name": "stdout",
     "output_type": "stream",
     "text": [
      "Theta1 [[-2.25623899e-02 -1.05624163e-08  2.19414684e-09 -6.92223359e-06\n",
      "   8.88278871e-05 -2.42735628e-04 -2.70957302e-03  1.45757191e-03\n",
      "   2.46026364e-03  7.13629532e-04 -5.70078885e-04 -2.31464986e-04\n",
      "   5.12911249e-04  1.13402876e-03  3.62593523e-04  4.12173828e-04\n",
      "   1.32134340e-04  1.37730345e-04  1.07593046e-05 -2.12161426e-06\n",
      "   1.14186154e-09  2.20317337e-08 -4.95776468e-07  7.96752261e-05\n",
      "  -7.40617279e-04 -4.30419304e-04  2.15555175e-03  9.27076318e-03\n",
      "   1.50701482e-02  7.36894310e-03  7.66312246e-03  6.38584723e-04\n",
      "  -8.66664392e-03 -1.36946721e-02 -1.80244907e-03 -1.98550526e-03\n",
      "  -1.33854878e-03  4.11799777e-05  3.61518629e-03  3.27367511e-04\n",
      "  -1.02609244e-04 -2.51764893e-07  1.72926132e-05  4.30306233e-04\n",
      "  -4.31866730e-03 -2.44277714e-02 -4.29677743e-02 -2.34169922e-02\n",
      "   4.87858916e-02  1.25561218e-01  7.77852907e-02  3.98915622e-02\n",
      "   3.34552027e-02 -2.16309907e-02 -9.33166492e-02 -9.14928745e-02\n",
      "  -2.39920603e-03 -2.56924069e-02 -7.66599683e-02 -3.37715197e-03\n",
      "   4.87850883e-04  1.19206883e-06 -5.40308501e-05 -1.43052915e-03\n",
      "   1.21973244e-02  4.02182903e-02  6.10732048e-02  2.00422201e-02\n",
      "   9.09768783e-02  1.63516289e-01  1.06682406e-01  5.60298475e-02\n",
      "   6.73540074e-02 -1.07951787e-02 -1.08500786e-01 -2.07812143e-01\n",
      "  -4.44596681e-02 -5.97229484e-02 -1.55555159e-01 -2.34154360e-03\n",
      "   8.82200640e-03  1.44040652e-05 -1.09919377e-03  7.40454724e-03\n",
      "   5.83276188e-02  1.17347930e-01  1.94631924e-01  2.19166556e-02\n",
      "  -2.84989924e-02  6.51107210e-02 -2.94849153e-02 -2.47620009e-02\n",
      "   8.14326765e-02 -9.87755887e-02 -1.47372384e-01 -2.56393887e-01\n",
      "  -2.77748117e-01 -1.22671771e-01 -7.67785611e-02  3.41129844e-02\n",
      "   1.32293279e-02 -3.47058323e-04  2.08763873e-03  4.42836866e-02\n",
      "   7.96795868e-02  1.11051921e-01  3.80867883e-02  5.28896658e-02\n",
      "  -1.08317190e-02 -7.14528617e-02 -2.14718640e-02  2.37386797e-01\n",
      "   2.67059795e-01  7.11792146e-03 -3.38707263e-01 -4.77818530e-01\n",
      "  -2.67035266e-01  1.83038945e-02  1.31243563e-01  1.15090338e-01\n",
      "   1.82850325e-02 -1.27438024e-03  1.05589590e-02  1.12714013e-01\n",
      "   2.29327942e-01  1.12871510e-01 -1.42369824e-02  1.68132971e-02\n",
      "   8.29585679e-02  1.30851330e-01  7.52655944e-02  7.44281248e-02\n",
      "   1.43783123e-01  1.25253071e-01 -1.88420414e-01 -3.91250045e-01\n",
      "  -1.22487064e-01 -9.35214967e-02  1.83743824e-02  1.48951796e-01\n",
      "   2.64699680e-02 -1.30311966e-03  8.69458967e-03  1.60603240e-01\n",
      "   3.38101867e-01  6.86567608e-02  1.33664890e-02  3.84025957e-02\n",
      "  -6.34215075e-03 -1.02847012e-01 -3.64733538e-02 -2.14325611e-01\n",
      "  -1.88966670e-01 -8.21431017e-02 -4.15027959e-02 -2.93918266e-01\n",
      "  -1.86544866e-01 -3.46932744e-01 -1.35822284e-01  2.40763243e-01\n",
      "   2.72324145e-02 -1.75524314e-03  1.66268474e-02  1.47498643e-01\n",
      "   2.29483088e-01  1.89701973e-02 -2.53708416e-03 -9.45783288e-03\n",
      "  -8.85794085e-02 -2.69433757e-01 -4.74611531e-02 -2.83803698e-01\n",
      "  -1.61424291e-01  2.47200967e-01  3.86604260e-01  1.81937481e-02\n",
      "  -1.37529638e-01 -3.84586100e-01 -1.30608304e-01  2.84471018e-01\n",
      "   5.58762637e-02 -3.14109026e-03  3.50072700e-02  6.17437426e-02\n",
      "   3.66141601e-02 -1.89155628e-01 -3.77502386e-02  8.32182214e-02\n",
      "  -1.46407876e-01 -2.16985339e-01 -3.82496176e-01 -4.12582329e-01\n",
      "  -3.06389178e-02  5.62436712e-01  4.21243338e-01  1.36592936e-01\n",
      "   6.18790460e-02 -5.10059233e-01 -2.16017681e-01  1.44794285e-01\n",
      "   6.20129600e-02 -3.62409669e-03  4.12604467e-02 -3.67278720e-02\n",
      "  -2.31163935e-02 -1.52927543e-01 -2.09430968e-01 -2.91824737e-02\n",
      "  -3.16006355e-01 -3.81286687e-01 -5.27060570e-01  1.52310644e-02\n",
      "   3.42061527e-01  6.07106462e-01  2.35219763e-01  2.06057767e-01\n",
      "  -1.24999183e-01 -4.19932069e-01  2.38791362e-02  2.52493256e-01\n",
      "   4.36178980e-02 -3.18626242e-03  5.83593110e-02  3.73644741e-02\n",
      "  -2.19319049e-01 -2.62320404e-01 -5.28243593e-02 -1.30293398e-01\n",
      "  -1.88603190e-01  1.08362702e-01  2.41716711e-01  4.67197168e-01\n",
      "   6.25679583e-01  2.48544340e-01  1.43559825e-01  3.38557210e-01\n",
      "  -1.24595358e-01 -2.97812119e-01  5.21136976e-02  2.14433312e-01\n",
      "   2.14717653e-02 -5.00805053e-03  6.24964817e-02  1.23592968e-01\n",
      "  -8.95584564e-02 -2.25033966e-01 -3.30127471e-02 -2.36365647e-01\n",
      "  -1.14336653e-02  3.15548637e-01  3.78541049e-01  2.65819764e-01\n",
      "   4.03466559e-01  9.26742438e-02  3.56943723e-02 -1.77169776e-02\n",
      "  -1.91766036e-01 -3.57634563e-01  2.79952180e-02  1.62422709e-01\n",
      "   3.38066099e-02 -3.64447443e-03  4.43559538e-02  1.48409451e-01\n",
      "  -6.42235443e-02 -2.91914183e-01 -3.00767916e-01 -2.46088191e-01\n",
      "   7.73081505e-02  1.31589355e-01  2.39648736e-01  2.10348744e-01\n",
      "   2.30979281e-01  1.79687910e-01 -1.38583844e-01 -1.05849142e-01\n",
      "  -1.58257935e-01 -3.33257514e-01 -1.00246010e-01  1.10823164e-01\n",
      "   2.52259954e-02 -5.63636904e-04  2.17049048e-02  1.83333446e-01\n",
      "   3.10335550e-02 -2.41405332e-01 -1.58078036e-01  1.99436086e-02\n",
      "   1.70525707e-01  4.58813990e-01  3.77541530e-01  3.80759265e-01\n",
      "   1.53053424e-01  9.73530395e-02 -6.75400731e-02  1.57845474e-02\n",
      "  -5.63637956e-02 -1.89620394e-01 -2.62460887e-02  4.58851563e-02\n",
      "  -4.64033518e-03 -9.03614636e-04  1.03357110e-02  1.21217993e-01\n",
      "  -1.29385804e-02 -3.73152267e-01 -2.66992097e-01 -2.64556890e-01\n",
      "  -7.56988021e-02  3.50276714e-01  3.24086723e-01  3.16579322e-01\n",
      "   1.09599266e-01 -1.51872829e-01 -1.00528548e-01 -4.14197150e-02\n",
      "  -4.32688256e-02 -3.78541176e-02  3.03198045e-02  8.08197887e-02\n",
      "   8.11150172e-02 -4.21352142e-04  4.72783410e-03  2.59029840e-02\n",
      "  -7.48241905e-02 -3.00123828e-01 -4.32477289e-01 -3.73565899e-01\n",
      "  -2.68579581e-01 -9.24923917e-02 -4.66441156e-02 -3.97113579e-02\n",
      "   3.55416982e-02  9.91017504e-02  8.44606133e-02  2.43978871e-02\n",
      "  -4.82566575e-02 -3.53746018e-02  1.25642229e-02  2.57934670e-02\n",
      "   2.85404460e-02 -1.18795084e-04  2.85753919e-03 -1.71136301e-02\n",
      "  -5.19377848e-02 -1.64939666e-01 -2.81540975e-01 -3.87645520e-01\n",
      "  -2.43820503e-01 -7.79675072e-02 -1.94157470e-02 -7.52357151e-02\n",
      "  -6.78797865e-02  1.17878253e-01  1.86818491e-01  2.66255543e-03\n",
      "  -4.72591064e-02  1.25127449e-02  1.81366077e-02  6.60110152e-03\n",
      "  -2.67594994e-03  6.05115031e-06  5.00826153e-04 -5.58591290e-03\n",
      "  -1.15669765e-02 -5.74332192e-02 -1.24535318e-01 -1.42196430e-01\n",
      "  -1.23662297e-01 -4.24651526e-02  1.17902010e-02  2.49847037e-02\n",
      "   5.10207470e-02  7.56607700e-02  4.07912332e-02  1.43227832e-03\n",
      "  -3.10579558e-02 -6.54690252e-03  1.75700830e-04 -5.98120967e-04\n",
      "  -7.60703164e-05 -6.87864536e-09 -5.17346946e-05  4.39602704e-04\n",
      "   3.15589654e-03 -2.18096807e-02 -2.66074400e-02 -1.38812621e-02\n",
      "  -4.95655599e-03 -1.24702264e-02  3.56743641e-04  5.31336737e-04\n",
      "   4.69863471e-03  2.21610834e-03 -9.47081435e-03 -9.84579481e-04\n",
      "   2.04756674e-03  6.28060788e-04 -1.30529929e-05 -5.04175101e-06\n",
      "   2.80464449e-09]]\n",
      "Theta2 [[-0.46089119 -1.43944954 -1.21809509  0.71093011  0.45216919 -0.35953381\n",
      "   0.62284954 -0.67005297 -0.7069138   0.06311351 -1.23199074 -1.74645233\n",
      "  -2.71960897 -2.21437178 -1.69307505 -0.90927394  0.87852311  1.18664814\n",
      "  -1.87041262  0.39796295  1.72113872 -1.36934055  0.8580668  -0.24779579\n",
      "   1.28009118 -1.32752042]]\n",
      "[[9.95734012e-01 1.12661530e-04 1.74127856e-03 2.52696959e-03\n",
      "  1.84032321e-05 9.36263860e-03 3.99270267e-03 5.51517524e-03\n",
      "  4.01468105e-04 6.48072305e-03]\n",
      " [9.95696931e-01 4.79026796e-04 2.41495958e-03 3.44755685e-03\n",
      "  4.05616281e-05 6.53412433e-03 1.75930169e-03 1.15788527e-02\n",
      "  2.39107046e-03 1.97025086e-03]\n",
      " [9.28008397e-01 8.85702310e-05 3.24266731e-03 2.55419797e-02\n",
      "  2.13621788e-05 3.96912754e-03 1.02881088e-02 3.86839058e-04\n",
      "  6.22892325e-02 5.49803551e-03]\n",
      " [9.94104074e-01 5.57359434e-05 8.04931959e-03 1.78298052e-02\n",
      "  8.65139000e-05 6.42303668e-04 1.14649511e-02 1.85179778e-03\n",
      "  4.69294678e-03 8.21314752e-04]\n",
      " [9.92762161e-01 1.05782491e-04 1.51486552e-03 3.80590161e-03\n",
      "  9.17080890e-05 2.26294967e-02 8.81080949e-04 4.73565655e-03\n",
      "  1.43648557e-03 2.09567944e-03]\n",
      " [9.97020598e-01 5.99295164e-05 2.93535715e-03 3.91263727e-03\n",
      "  2.55435542e-05 3.50983997e-03 3.91723180e-03 5.44509794e-03\n",
      "  1.34771530e-03 4.07571773e-03]\n",
      " [9.78750703e-01 1.57075975e-04 1.85968463e-03 3.21342472e-02\n",
      "  6.76429750e-05 1.48403912e-03 1.29327561e-03 1.37946327e-02\n",
      "  9.53222220e-03 1.54444225e-03]\n",
      " [8.19358886e-01 1.36434359e-04 8.83301402e-02 3.68076077e-03\n",
      "  3.12709524e-05 1.32610667e-01 1.70228273e-04 2.79802067e-03\n",
      "  2.52371739e-03 9.13597431e-05]\n",
      " [9.88602209e-01 7.75841151e-05 6.87892034e-03 1.61823572e-02\n",
      "  2.64902060e-05 5.41028600e-03 2.60841067e-03 2.60431630e-03\n",
      "  9.77429284e-03 4.43573165e-03]\n",
      " [9.50661261e-01 4.56188142e-04 1.27454318e-03 1.19475920e-01\n",
      "  1.50724177e-04 6.07037513e-03 2.06974352e-04 8.27933513e-03\n",
      "  1.46026247e-03 2.64815621e-03]]\n",
      "Training Set Accuracy: 97.52%\n",
      "10.812363919967742\n"
     ]
    }
   ],
   "source": [
    "from functools import reduce\n",
    "print ('Theta1',Thetas[0][0:1])\n",
    "print ('Theta2',Thetas[1][0:1])\n",
    "prediction,cache = forward_prop (X,Thetas)\n",
    "print (prediction[0:10])\n",
    "pred = np.argmax (prediction,axis=1)\n",
    "print('Training Set Accuracy: {:.2f}%'.format(np.mean(pred == ysaved) * 100))\n",
    "cost = NNcostFunction (prediction, y,Thetas,l2_lambda=0.0)\n",
    "print (cost)\n",
    "#backward_prop (X,Y,np.array(Thetas))"
   ]
  },
  {
   "cell_type": "code",
   "execution_count": 32,
   "metadata": {},
   "outputs": [
    {
     "name": "stdout",
     "output_type": "stream",
     "text": [
      "(5000, 10)\n"
     ]
    }
   ],
   "source": [
    "print (prediction.shape)"
   ]
  },
  {
   "cell_type": "code",
   "execution_count": 12,
   "metadata": {},
   "outputs": [
    {
     "name": "stdout",
     "output_type": "stream",
     "text": [
      "2\n",
      "1\n"
     ]
    }
   ],
   "source": []
  },
  {
   "cell_type": "code",
   "execution_count": null,
   "metadata": {},
   "outputs": [],
   "source": []
  }
 ],
 "metadata": {
  "kernelspec": {
   "display_name": "Python 3",
   "language": "python",
   "name": "python3"
  },
  "language_info": {
   "codemirror_mode": {
    "name": "ipython",
    "version": 3
   },
   "file_extension": ".py",
   "mimetype": "text/x-python",
   "name": "python",
   "nbconvert_exporter": "python",
   "pygments_lexer": "ipython3",
   "version": "3.8.2"
  }
 },
 "nbformat": 4,
 "nbformat_minor": 4
}
